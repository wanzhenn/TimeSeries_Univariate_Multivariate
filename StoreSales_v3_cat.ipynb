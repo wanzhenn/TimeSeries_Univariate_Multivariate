{
 "cells": [
  {
   "cell_type": "markdown",
   "id": "80a32b58-e5fb-44b8-88e1-9f6fafe122dc",
   "metadata": {},
   "source": [
    "### **Problem Statement:** Predict sales from items sold at Corporación Favorita, a large Ecuadorian-based grocery retailer using Time Series Analysis"
   ]
  },
  {
   "cell_type": "markdown",
   "id": "74c054b8-184b-417b-baf7-634eca488fd7",
   "metadata": {},
   "source": [
    "##### - **Method:** Utilized various time series models to predict over the next 15 days and evaluated performance of the models\n",
    "##### - **Approach:** Using data from Kaggle\n",
    "##### - **Metric:** Measure the accuracy of forecasted figures"
   ]
  },
  {
   "cell_type": "markdown",
   "id": "3639440e-6d2a-4904-96ed-75c684c99751",
   "metadata": {},
   "source": [
    "### 1) Import libraries and load data"
   ]
  },
  {
   "cell_type": "code",
   "execution_count": 1,
   "id": "61bd861c-2396-4b0f-ac63-70f4ec857672",
   "metadata": {},
   "outputs": [
    {
     "name": "stderr",
     "output_type": "stream",
     "text": [
      "Importing plotly failed. Interactive plots will not work.\n"
     ]
    }
   ],
   "source": [
    "import pandas as pd\n",
    "import numpy as np\n",
    "import datetime\n",
    "from tqdm import tqdm\n",
    "import warnings\n",
    "warnings.filterwarnings(\"ignore\") \n",
    "\n",
    "import matplotlib.pyplot as plt\n",
    "import seaborn as sns\n",
    "\n",
    "import statsmodels\n",
    "from statsmodels.tsa.stattools import adfuller, coint\n",
    "from statsmodels.tsa.stattools import grangercausalitytests\n",
    "from sklearn.metrics import mean_squared_error\n",
    "\n",
    "from statsmodels.tsa.api import VAR\n",
    "from prophet import Prophet\n",
    "from statsmodels.tsa.vector_ar.vecm import VECM"
   ]
  },
  {
   "cell_type": "code",
   "execution_count": 2,
   "id": "ed0db27f-2464-4a3f-b393-e0c74a810a81",
   "metadata": {},
   "outputs": [],
   "source": [
    "df_stores = pd.read_csv('./stores.csv')\n",
    "df_holidays = pd.read_csv('./holidays_events.csv')\n",
    "df_oil = pd.read_csv('./oil.csv')\n",
    "df_transactions = pd.read_csv('./transactions.csv')\n",
    "df = pd.read_csv('./train.csv')"
   ]
  },
  {
   "cell_type": "markdown",
   "id": "cc076f13-b1e7-4c4b-9792-87a6a1dabf45",
   "metadata": {},
   "source": [
    "### 2) EDA"
   ]
  },
  {
   "cell_type": "code",
   "execution_count": 3,
   "id": "6655c180-cee3-4975-9945-b151a01bcfc2",
   "metadata": {},
   "outputs": [
    {
     "data": {
      "text/plain": [
       "store_nbr     int64\n",
       "city         object\n",
       "state        object\n",
       "type         object\n",
       "cluster       int64\n",
       "dtype: object"
      ]
     },
     "execution_count": 3,
     "metadata": {},
     "output_type": "execute_result"
    }
   ],
   "source": [
    "df_stores.dtypes"
   ]
  },
  {
   "cell_type": "code",
   "execution_count": 4,
   "id": "462afec3-35ad-4441-800f-8f30fcfe8245",
   "metadata": {},
   "outputs": [
    {
     "data": {
      "text/html": [
       "<div>\n",
       "<style scoped>\n",
       "    .dataframe tbody tr th:only-of-type {\n",
       "        vertical-align: middle;\n",
       "    }\n",
       "\n",
       "    .dataframe tbody tr th {\n",
       "        vertical-align: top;\n",
       "    }\n",
       "\n",
       "    .dataframe thead th {\n",
       "        text-align: right;\n",
       "    }\n",
       "</style>\n",
       "<table border=\"1\" class=\"dataframe\">\n",
       "  <thead>\n",
       "    <tr style=\"text-align: right;\">\n",
       "      <th></th>\n",
       "      <th>store_nbr</th>\n",
       "      <th>city</th>\n",
       "      <th>state</th>\n",
       "      <th>type</th>\n",
       "      <th>cluster</th>\n",
       "    </tr>\n",
       "  </thead>\n",
       "  <tbody>\n",
       "    <tr>\n",
       "      <th>0</th>\n",
       "      <td>1</td>\n",
       "      <td>Quito</td>\n",
       "      <td>Pichincha</td>\n",
       "      <td>D</td>\n",
       "      <td>13</td>\n",
       "    </tr>\n",
       "    <tr>\n",
       "      <th>1</th>\n",
       "      <td>2</td>\n",
       "      <td>Quito</td>\n",
       "      <td>Pichincha</td>\n",
       "      <td>D</td>\n",
       "      <td>13</td>\n",
       "    </tr>\n",
       "    <tr>\n",
       "      <th>2</th>\n",
       "      <td>3</td>\n",
       "      <td>Quito</td>\n",
       "      <td>Pichincha</td>\n",
       "      <td>D</td>\n",
       "      <td>8</td>\n",
       "    </tr>\n",
       "    <tr>\n",
       "      <th>3</th>\n",
       "      <td>4</td>\n",
       "      <td>Quito</td>\n",
       "      <td>Pichincha</td>\n",
       "      <td>D</td>\n",
       "      <td>9</td>\n",
       "    </tr>\n",
       "    <tr>\n",
       "      <th>4</th>\n",
       "      <td>5</td>\n",
       "      <td>Santo Domingo</td>\n",
       "      <td>Santo Domingo de los Tsachilas</td>\n",
       "      <td>D</td>\n",
       "      <td>4</td>\n",
       "    </tr>\n",
       "  </tbody>\n",
       "</table>\n",
       "</div>"
      ],
      "text/plain": [
       "   store_nbr           city                           state type  cluster\n",
       "0          1          Quito                       Pichincha    D       13\n",
       "1          2          Quito                       Pichincha    D       13\n",
       "2          3          Quito                       Pichincha    D        8\n",
       "3          4          Quito                       Pichincha    D        9\n",
       "4          5  Santo Domingo  Santo Domingo de los Tsachilas    D        4"
      ]
     },
     "execution_count": 4,
     "metadata": {},
     "output_type": "execute_result"
    }
   ],
   "source": [
    "df_stores.head()"
   ]
  },
  {
   "cell_type": "code",
   "execution_count": 5,
   "id": "33179b07-93c7-4deb-983d-67364575a302",
   "metadata": {},
   "outputs": [
    {
     "data": {
      "text/plain": [
       "store_nbr       int64\n",
       "city         category\n",
       "dtype: object"
      ]
     },
     "execution_count": 5,
     "metadata": {},
     "output_type": "execute_result"
    }
   ],
   "source": [
    "# Change city datatype to category for ease of handling\n",
    "df_stores['city'] = df_stores['city'].astype('category')\n",
    "df_stores[['store_nbr', 'city']].dtypes"
   ]
  },
  {
   "cell_type": "code",
   "execution_count": 6,
   "id": "2d9e64ff-7b9d-4926-b7f5-b16b68af6449",
   "metadata": {},
   "outputs": [],
   "source": [
    "df_store_city = df_stores[['store_nbr', 'city']].copy()"
   ]
  },
  {
   "cell_type": "code",
   "execution_count": 7,
   "id": "2256a7d4-ea59-42ed-b716-b64b57d7e217",
   "metadata": {},
   "outputs": [
    {
     "name": "stdout",
     "output_type": "stream",
     "text": [
      "(54, 2) null: 0\n"
     ]
    },
    {
     "data": {
      "text/html": [
       "<div>\n",
       "<style scoped>\n",
       "    .dataframe tbody tr th:only-of-type {\n",
       "        vertical-align: middle;\n",
       "    }\n",
       "\n",
       "    .dataframe tbody tr th {\n",
       "        vertical-align: top;\n",
       "    }\n",
       "\n",
       "    .dataframe thead th {\n",
       "        text-align: right;\n",
       "    }\n",
       "</style>\n",
       "<table border=\"1\" class=\"dataframe\">\n",
       "  <thead>\n",
       "    <tr style=\"text-align: right;\">\n",
       "      <th></th>\n",
       "      <th>city</th>\n",
       "    </tr>\n",
       "  </thead>\n",
       "  <tbody>\n",
       "    <tr>\n",
       "      <th>count</th>\n",
       "      <td>54</td>\n",
       "    </tr>\n",
       "    <tr>\n",
       "      <th>unique</th>\n",
       "      <td>22</td>\n",
       "    </tr>\n",
       "    <tr>\n",
       "      <th>top</th>\n",
       "      <td>Quito</td>\n",
       "    </tr>\n",
       "    <tr>\n",
       "      <th>freq</th>\n",
       "      <td>18</td>\n",
       "    </tr>\n",
       "  </tbody>\n",
       "</table>\n",
       "</div>"
      ],
      "text/plain": [
       "         city\n",
       "count      54\n",
       "unique     22\n",
       "top     Quito\n",
       "freq       18"
      ]
     },
     "execution_count": 7,
     "metadata": {},
     "output_type": "execute_result"
    }
   ],
   "source": [
    "print(df_store_city.shape, 'null:', df_store_city.isnull().sum().sum())\n",
    "df_store_city.select_dtypes(include='category').describe()"
   ]
  },
  {
   "cell_type": "markdown",
   "id": "eaa7afce-a8c2-45b0-a7a4-05def89d6ac1",
   "metadata": {},
   "source": [
    "#### Holiday data"
   ]
  },
  {
   "cell_type": "code",
   "execution_count": 8,
   "id": "eb0d7d92-4edf-489d-b92b-ee99d71075ae",
   "metadata": {},
   "outputs": [
    {
     "name": "stdout",
     "output_type": "stream",
     "text": [
      "(350, 6)\n"
     ]
    },
    {
     "data": {
      "text/html": [
       "<div>\n",
       "<style scoped>\n",
       "    .dataframe tbody tr th:only-of-type {\n",
       "        vertical-align: middle;\n",
       "    }\n",
       "\n",
       "    .dataframe tbody tr th {\n",
       "        vertical-align: top;\n",
       "    }\n",
       "\n",
       "    .dataframe thead th {\n",
       "        text-align: right;\n",
       "    }\n",
       "</style>\n",
       "<table border=\"1\" class=\"dataframe\">\n",
       "  <thead>\n",
       "    <tr style=\"text-align: right;\">\n",
       "      <th></th>\n",
       "      <th>date</th>\n",
       "      <th>type</th>\n",
       "      <th>locale</th>\n",
       "      <th>locale_name</th>\n",
       "      <th>description</th>\n",
       "      <th>transferred</th>\n",
       "    </tr>\n",
       "  </thead>\n",
       "  <tbody>\n",
       "    <tr>\n",
       "      <th>0</th>\n",
       "      <td>2012-03-02</td>\n",
       "      <td>Holiday</td>\n",
       "      <td>Local</td>\n",
       "      <td>Manta</td>\n",
       "      <td>Fundacion de Manta</td>\n",
       "      <td>False</td>\n",
       "    </tr>\n",
       "    <tr>\n",
       "      <th>1</th>\n",
       "      <td>2012-04-01</td>\n",
       "      <td>Holiday</td>\n",
       "      <td>Regional</td>\n",
       "      <td>Cotopaxi</td>\n",
       "      <td>Provincializacion de Cotopaxi</td>\n",
       "      <td>False</td>\n",
       "    </tr>\n",
       "    <tr>\n",
       "      <th>2</th>\n",
       "      <td>2012-04-12</td>\n",
       "      <td>Holiday</td>\n",
       "      <td>Local</td>\n",
       "      <td>Cuenca</td>\n",
       "      <td>Fundacion de Cuenca</td>\n",
       "      <td>False</td>\n",
       "    </tr>\n",
       "    <tr>\n",
       "      <th>3</th>\n",
       "      <td>2012-04-14</td>\n",
       "      <td>Holiday</td>\n",
       "      <td>Local</td>\n",
       "      <td>Libertad</td>\n",
       "      <td>Cantonizacion de Libertad</td>\n",
       "      <td>False</td>\n",
       "    </tr>\n",
       "    <tr>\n",
       "      <th>4</th>\n",
       "      <td>2012-04-21</td>\n",
       "      <td>Holiday</td>\n",
       "      <td>Local</td>\n",
       "      <td>Riobamba</td>\n",
       "      <td>Cantonizacion de Riobamba</td>\n",
       "      <td>False</td>\n",
       "    </tr>\n",
       "  </tbody>\n",
       "</table>\n",
       "</div>"
      ],
      "text/plain": [
       "         date     type    locale locale_name                    description  \\\n",
       "0  2012-03-02  Holiday     Local       Manta             Fundacion de Manta   \n",
       "1  2012-04-01  Holiday  Regional    Cotopaxi  Provincializacion de Cotopaxi   \n",
       "2  2012-04-12  Holiday     Local      Cuenca            Fundacion de Cuenca   \n",
       "3  2012-04-14  Holiday     Local    Libertad      Cantonizacion de Libertad   \n",
       "4  2012-04-21  Holiday     Local    Riobamba      Cantonizacion de Riobamba   \n",
       "\n",
       "   transferred  \n",
       "0        False  \n",
       "1        False  \n",
       "2        False  \n",
       "3        False  \n",
       "4        False  "
      ]
     },
     "execution_count": 8,
     "metadata": {},
     "output_type": "execute_result"
    }
   ],
   "source": [
    "print(df_holidays.shape)\n",
    "df_holidays.head()"
   ]
  },
  {
   "cell_type": "code",
   "execution_count": 9,
   "id": "4b62ed8a-b022-490d-8a12-259b2b1abf7b",
   "metadata": {},
   "outputs": [
    {
     "data": {
      "text/plain": [
       "dtype('O')"
      ]
     },
     "execution_count": 9,
     "metadata": {},
     "output_type": "execute_result"
    }
   ],
   "source": [
    "df_holidays['date'].dtypes"
   ]
  },
  {
   "cell_type": "code",
   "execution_count": 10,
   "id": "fe4f56ce-a5dd-45b6-900d-a513f2e1cd98",
   "metadata": {},
   "outputs": [
    {
     "name": "stdout",
     "output_type": "stream",
     "text": [
      "(312, 2)\n"
     ]
    },
    {
     "data": {
      "text/html": [
       "<div>\n",
       "<style scoped>\n",
       "    .dataframe tbody tr th:only-of-type {\n",
       "        vertical-align: middle;\n",
       "    }\n",
       "\n",
       "    .dataframe tbody tr th {\n",
       "        vertical-align: top;\n",
       "    }\n",
       "\n",
       "    .dataframe thead th {\n",
       "        text-align: right;\n",
       "    }\n",
       "</style>\n",
       "<table border=\"1\" class=\"dataframe\">\n",
       "  <thead>\n",
       "    <tr style=\"text-align: right;\">\n",
       "      <th></th>\n",
       "      <th>date</th>\n",
       "      <th>is_holiday</th>\n",
       "    </tr>\n",
       "  </thead>\n",
       "  <tbody>\n",
       "    <tr>\n",
       "      <th>0</th>\n",
       "      <td>2012-03-02</td>\n",
       "      <td>1</td>\n",
       "    </tr>\n",
       "    <tr>\n",
       "      <th>1</th>\n",
       "      <td>2012-04-01</td>\n",
       "      <td>1</td>\n",
       "    </tr>\n",
       "    <tr>\n",
       "      <th>2</th>\n",
       "      <td>2012-04-12</td>\n",
       "      <td>1</td>\n",
       "    </tr>\n",
       "    <tr>\n",
       "      <th>3</th>\n",
       "      <td>2012-04-14</td>\n",
       "      <td>1</td>\n",
       "    </tr>\n",
       "    <tr>\n",
       "      <th>4</th>\n",
       "      <td>2012-04-21</td>\n",
       "      <td>1</td>\n",
       "    </tr>\n",
       "  </tbody>\n",
       "</table>\n",
       "</div>"
      ],
      "text/plain": [
       "        date  is_holiday\n",
       "0 2012-03-02           1\n",
       "1 2012-04-01           1\n",
       "2 2012-04-12           1\n",
       "3 2012-04-14           1\n",
       "4 2012-04-21           1"
      ]
     },
     "execution_count": 10,
     "metadata": {},
     "output_type": "execute_result"
    }
   ],
   "source": [
    "df_holidays['date'] = pd.to_datetime(df_holidays['date'])\n",
    "df_holidays_deduped = df_holidays.drop_duplicates(subset=['date'])\n",
    "df_holidays_deduped = df_holidays_deduped[['date']]\n",
    "df_holidays_deduped['is_holiday'] = 1\n",
    "print(df_holidays_deduped.shape)\n",
    "df_holidays_deduped.head()"
   ]
  },
  {
   "cell_type": "code",
   "execution_count": 11,
   "id": "705ebda7-b76d-4b89-867a-b1c6a4d8e62a",
   "metadata": {},
   "outputs": [
    {
     "data": {
      "text/html": [
       "<div>\n",
       "<style scoped>\n",
       "    .dataframe tbody tr th:only-of-type {\n",
       "        vertical-align: middle;\n",
       "    }\n",
       "\n",
       "    .dataframe tbody tr th {\n",
       "        vertical-align: top;\n",
       "    }\n",
       "\n",
       "    .dataframe thead th {\n",
       "        text-align: right;\n",
       "    }\n",
       "</style>\n",
       "<table border=\"1\" class=\"dataframe\">\n",
       "  <thead>\n",
       "    <tr style=\"text-align: right;\">\n",
       "      <th></th>\n",
       "      <th>date</th>\n",
       "    </tr>\n",
       "  </thead>\n",
       "  <tbody>\n",
       "    <tr>\n",
       "      <th>count</th>\n",
       "      <td>312</td>\n",
       "    </tr>\n",
       "    <tr>\n",
       "      <th>mean</th>\n",
       "      <td>2015-04-24 00:55:23.076923136</td>\n",
       "    </tr>\n",
       "    <tr>\n",
       "      <th>min</th>\n",
       "      <td>2012-03-02 00:00:00</td>\n",
       "    </tr>\n",
       "    <tr>\n",
       "      <th>25%</th>\n",
       "      <td>2013-12-24 18:00:00</td>\n",
       "    </tr>\n",
       "    <tr>\n",
       "      <th>50%</th>\n",
       "      <td>2015-05-11 00:00:00</td>\n",
       "    </tr>\n",
       "    <tr>\n",
       "      <th>75%</th>\n",
       "      <td>2016-07-08 00:00:00</td>\n",
       "    </tr>\n",
       "    <tr>\n",
       "      <th>max</th>\n",
       "      <td>2017-12-26 00:00:00</td>\n",
       "    </tr>\n",
       "  </tbody>\n",
       "</table>\n",
       "</div>"
      ],
      "text/plain": [
       "                                date\n",
       "count                            312\n",
       "mean   2015-04-24 00:55:23.076923136\n",
       "min              2012-03-02 00:00:00\n",
       "25%              2013-12-24 18:00:00\n",
       "50%              2015-05-11 00:00:00\n",
       "75%              2016-07-08 00:00:00\n",
       "max              2017-12-26 00:00:00"
      ]
     },
     "execution_count": 11,
     "metadata": {},
     "output_type": "execute_result"
    }
   ],
   "source": [
    "df_holidays_deduped.select_dtypes(include='datetime').describe()"
   ]
  },
  {
   "cell_type": "code",
   "execution_count": 12,
   "id": "5a7767ba-b824-482e-9665-e2a02b8c2c9f",
   "metadata": {},
   "outputs": [
    {
     "data": {
      "text/plain": [
       "date          datetime64[ns]\n",
       "is_holiday             int64\n",
       "dtype: object"
      ]
     },
     "execution_count": 12,
     "metadata": {},
     "output_type": "execute_result"
    }
   ],
   "source": [
    "df_holidays_deduped.dtypes"
   ]
  },
  {
   "cell_type": "markdown",
   "id": "882c9494-6b85-4809-be85-d33cdb35b28c",
   "metadata": {},
   "source": [
    "#### Oil Price data"
   ]
  },
  {
   "cell_type": "code",
   "execution_count": 13,
   "id": "a16f9cc8-a38d-46bb-b2ba-90ef13db1dd4",
   "metadata": {},
   "outputs": [
    {
     "data": {
      "text/plain": [
       "date           object\n",
       "dcoilwtico    float64\n",
       "dtype: object"
      ]
     },
     "execution_count": 13,
     "metadata": {},
     "output_type": "execute_result"
    }
   ],
   "source": [
    "df_oil.dtypes"
   ]
  },
  {
   "cell_type": "code",
   "execution_count": 14,
   "id": "52f60723-44ba-4edd-ab8e-2ceb09fa8789",
   "metadata": {},
   "outputs": [],
   "source": [
    "df_oil['date'] = pd.to_datetime(df_oil['date'], format='%Y-%m-%d')"
   ]
  },
  {
   "cell_type": "code",
   "execution_count": 15,
   "id": "e9ed1170-9ecc-43f8-99a3-9c91f117e83d",
   "metadata": {},
   "outputs": [
    {
     "data": {
      "text/plain": [
       "date          datetime64[ns]\n",
       "dcoilwtico           float64\n",
       "dtype: object"
      ]
     },
     "execution_count": 15,
     "metadata": {},
     "output_type": "execute_result"
    }
   ],
   "source": [
    "df_oil.dtypes"
   ]
  },
  {
   "cell_type": "code",
   "execution_count": 16,
   "id": "c67a0805-db38-4405-9d5a-1d4c33a4dcba",
   "metadata": {},
   "outputs": [
    {
     "name": "stdout",
     "output_type": "stream",
     "text": [
      "(1218, 2) null: 43\n"
     ]
    },
    {
     "data": {
      "text/html": [
       "<div>\n",
       "<style scoped>\n",
       "    .dataframe tbody tr th:only-of-type {\n",
       "        vertical-align: middle;\n",
       "    }\n",
       "\n",
       "    .dataframe tbody tr th {\n",
       "        vertical-align: top;\n",
       "    }\n",
       "\n",
       "    .dataframe thead th {\n",
       "        text-align: right;\n",
       "    }\n",
       "</style>\n",
       "<table border=\"1\" class=\"dataframe\">\n",
       "  <thead>\n",
       "    <tr style=\"text-align: right;\">\n",
       "      <th></th>\n",
       "      <th>date</th>\n",
       "      <th>dcoilwtico</th>\n",
       "    </tr>\n",
       "  </thead>\n",
       "  <tbody>\n",
       "    <tr>\n",
       "      <th>count</th>\n",
       "      <td>1218</td>\n",
       "      <td>1175.000000</td>\n",
       "    </tr>\n",
       "    <tr>\n",
       "      <th>mean</th>\n",
       "      <td>2015-05-02 12:00:00</td>\n",
       "      <td>67.714366</td>\n",
       "    </tr>\n",
       "    <tr>\n",
       "      <th>min</th>\n",
       "      <td>2013-01-01 00:00:00</td>\n",
       "      <td>26.190000</td>\n",
       "    </tr>\n",
       "    <tr>\n",
       "      <th>25%</th>\n",
       "      <td>2014-03-03 06:00:00</td>\n",
       "      <td>46.405000</td>\n",
       "    </tr>\n",
       "    <tr>\n",
       "      <th>50%</th>\n",
       "      <td>2015-05-02 12:00:00</td>\n",
       "      <td>53.190000</td>\n",
       "    </tr>\n",
       "    <tr>\n",
       "      <th>75%</th>\n",
       "      <td>2016-06-30 18:00:00</td>\n",
       "      <td>95.660000</td>\n",
       "    </tr>\n",
       "    <tr>\n",
       "      <th>max</th>\n",
       "      <td>2017-08-31 00:00:00</td>\n",
       "      <td>110.620000</td>\n",
       "    </tr>\n",
       "    <tr>\n",
       "      <th>std</th>\n",
       "      <td>NaN</td>\n",
       "      <td>25.630476</td>\n",
       "    </tr>\n",
       "  </tbody>\n",
       "</table>\n",
       "</div>"
      ],
      "text/plain": [
       "                      date   dcoilwtico\n",
       "count                 1218  1175.000000\n",
       "mean   2015-05-02 12:00:00    67.714366\n",
       "min    2013-01-01 00:00:00    26.190000\n",
       "25%    2014-03-03 06:00:00    46.405000\n",
       "50%    2015-05-02 12:00:00    53.190000\n",
       "75%    2016-06-30 18:00:00    95.660000\n",
       "max    2017-08-31 00:00:00   110.620000\n",
       "std                    NaN    25.630476"
      ]
     },
     "execution_count": 16,
     "metadata": {},
     "output_type": "execute_result"
    }
   ],
   "source": [
    "print(df_oil.shape, 'null:', df_oil.isnull().sum().sum())\n",
    "df_oil.describe()"
   ]
  },
  {
   "cell_type": "code",
   "execution_count": 17,
   "id": "9571f809-bc9f-404c-8ec5-7537a075b590",
   "metadata": {},
   "outputs": [
    {
     "data": {
      "text/plain": [
       "486"
      ]
     },
     "execution_count": 17,
     "metadata": {},
     "output_type": "execute_result"
    }
   ],
   "source": [
    "full_date_range = pd.date_range(start=df_oil['date'].min(), end=df_oil['date'].max(), freq='D')\n",
    "missing_dates = set(full_date_range) - set(df_oil['date'].unique())\n",
    "missing_dates = list(missing_dates)\n",
    "len(missing_dates)"
   ]
  },
  {
   "cell_type": "code",
   "execution_count": 18,
   "id": "bd7d7b9a-d175-4911-b1e5-1528df1bc64c",
   "metadata": {},
   "outputs": [
    {
     "name": "stdout",
     "output_type": "stream",
     "text": [
      "(1704, 2)\n"
     ]
    }
   ],
   "source": [
    "missing_rows = pd.DataFrame({'date': missing_dates,\n",
    "                             'dcoilwtico': np.nan})\n",
    "missing_rows['date'] = missing_rows['date'].dt.date\n",
    "df_oil['date'] = df_oil['date'].dt.date\n",
    "df_oil_new = pd.concat([missing_rows, df_oil], ignore_index=True)\n",
    "df_oil_new.sort_values(by='date', ascending=True, inplace=True)\n",
    "print(df_oil_new.shape)"
   ]
  },
  {
   "cell_type": "code",
   "execution_count": 19,
   "id": "84531ea1-99c6-4159-9764-7b1dba1e2f0d",
   "metadata": {},
   "outputs": [],
   "source": [
    "df_oil_new['dcoilwtico'].interpolate()\n",
    "df_oil_int = df_oil_new.bfill()"
   ]
  },
  {
   "cell_type": "code",
   "execution_count": 20,
   "id": "2b3131a7-933b-4217-a2f6-f77659f3415e",
   "metadata": {},
   "outputs": [
    {
     "data": {
      "text/plain": [
       "date          0\n",
       "dcoilwtico    0\n",
       "dtype: int64"
      ]
     },
     "execution_count": 20,
     "metadata": {},
     "output_type": "execute_result"
    }
   ],
   "source": [
    "df_oil_int.isnull().sum()"
   ]
  },
  {
   "cell_type": "markdown",
   "id": "4f7acb05-de5d-4bdf-b626-fad85e0cf8e4",
   "metadata": {},
   "source": [
    "#### Transactions data"
   ]
  },
  {
   "cell_type": "code",
   "execution_count": 21,
   "id": "cddc1cb0-9851-4a08-aec6-bbd7e516c7db",
   "metadata": {},
   "outputs": [
    {
     "data": {
      "text/plain": [
       "date            object\n",
       "store_nbr        int64\n",
       "transactions     int64\n",
       "dtype: object"
      ]
     },
     "execution_count": 21,
     "metadata": {},
     "output_type": "execute_result"
    }
   ],
   "source": [
    "df_transactions.dtypes"
   ]
  },
  {
   "cell_type": "code",
   "execution_count": 22,
   "id": "027954c9-9d45-4caf-9539-c933bf225c27",
   "metadata": {},
   "outputs": [],
   "source": [
    "df_transactions['date'] = pd.to_datetime(df_transactions['date'], format='%Y-%m-%d')"
   ]
  },
  {
   "cell_type": "code",
   "execution_count": 23,
   "id": "a6d80e48-3f63-4657-b303-bda882c11996",
   "metadata": {},
   "outputs": [
    {
     "data": {
      "text/plain": [
       "date            datetime64[ns]\n",
       "store_nbr                int64\n",
       "transactions             int64\n",
       "dtype: object"
      ]
     },
     "execution_count": 23,
     "metadata": {},
     "output_type": "execute_result"
    }
   ],
   "source": [
    "df_transactions.dtypes"
   ]
  },
  {
   "cell_type": "code",
   "execution_count": 24,
   "id": "c94f70f2-6922-4c48-b9bf-754863dc2cae",
   "metadata": {},
   "outputs": [
    {
     "name": "stdout",
     "output_type": "stream",
     "text": [
      "(83488, 3) null: 0\n"
     ]
    },
    {
     "data": {
      "text/html": [
       "<div>\n",
       "<style scoped>\n",
       "    .dataframe tbody tr th:only-of-type {\n",
       "        vertical-align: middle;\n",
       "    }\n",
       "\n",
       "    .dataframe tbody tr th {\n",
       "        vertical-align: top;\n",
       "    }\n",
       "\n",
       "    .dataframe thead th {\n",
       "        text-align: right;\n",
       "    }\n",
       "</style>\n",
       "<table border=\"1\" class=\"dataframe\">\n",
       "  <thead>\n",
       "    <tr style=\"text-align: right;\">\n",
       "      <th></th>\n",
       "      <th>date</th>\n",
       "      <th>store_nbr</th>\n",
       "      <th>transactions</th>\n",
       "    </tr>\n",
       "  </thead>\n",
       "  <tbody>\n",
       "    <tr>\n",
       "      <th>count</th>\n",
       "      <td>83488</td>\n",
       "      <td>83488.000000</td>\n",
       "      <td>83488.000000</td>\n",
       "    </tr>\n",
       "    <tr>\n",
       "      <th>mean</th>\n",
       "      <td>2015-05-20 16:07:40.866232064</td>\n",
       "      <td>26.939237</td>\n",
       "      <td>1694.602158</td>\n",
       "    </tr>\n",
       "    <tr>\n",
       "      <th>min</th>\n",
       "      <td>2013-01-01 00:00:00</td>\n",
       "      <td>1.000000</td>\n",
       "      <td>5.000000</td>\n",
       "    </tr>\n",
       "    <tr>\n",
       "      <th>25%</th>\n",
       "      <td>2014-03-27 00:00:00</td>\n",
       "      <td>13.000000</td>\n",
       "      <td>1046.000000</td>\n",
       "    </tr>\n",
       "    <tr>\n",
       "      <th>50%</th>\n",
       "      <td>2015-06-08 00:00:00</td>\n",
       "      <td>27.000000</td>\n",
       "      <td>1393.000000</td>\n",
       "    </tr>\n",
       "    <tr>\n",
       "      <th>75%</th>\n",
       "      <td>2016-07-14 06:00:00</td>\n",
       "      <td>40.000000</td>\n",
       "      <td>2079.000000</td>\n",
       "    </tr>\n",
       "    <tr>\n",
       "      <th>max</th>\n",
       "      <td>2017-08-15 00:00:00</td>\n",
       "      <td>54.000000</td>\n",
       "      <td>8359.000000</td>\n",
       "    </tr>\n",
       "    <tr>\n",
       "      <th>std</th>\n",
       "      <td>NaN</td>\n",
       "      <td>15.608204</td>\n",
       "      <td>963.286644</td>\n",
       "    </tr>\n",
       "  </tbody>\n",
       "</table>\n",
       "</div>"
      ],
      "text/plain": [
       "                                date     store_nbr  transactions\n",
       "count                          83488  83488.000000  83488.000000\n",
       "mean   2015-05-20 16:07:40.866232064     26.939237   1694.602158\n",
       "min              2013-01-01 00:00:00      1.000000      5.000000\n",
       "25%              2014-03-27 00:00:00     13.000000   1046.000000\n",
       "50%              2015-06-08 00:00:00     27.000000   1393.000000\n",
       "75%              2016-07-14 06:00:00     40.000000   2079.000000\n",
       "max              2017-08-15 00:00:00     54.000000   8359.000000\n",
       "std                              NaN     15.608204    963.286644"
      ]
     },
     "execution_count": 24,
     "metadata": {},
     "output_type": "execute_result"
    }
   ],
   "source": [
    "print(df_transactions.shape, 'null:', df_transactions.isnull().sum().sum())\n",
    "df_transactions.describe()"
   ]
  },
  {
   "cell_type": "code",
   "execution_count": 25,
   "id": "08f660a0-f8b8-4edc-ba50-de5671b2e7d4",
   "metadata": {},
   "outputs": [
    {
     "name": "stdout",
     "output_type": "stream",
     "text": [
      "(1682, 2)\n"
     ]
    },
    {
     "data": {
      "text/html": [
       "<div>\n",
       "<style scoped>\n",
       "    .dataframe tbody tr th:only-of-type {\n",
       "        vertical-align: middle;\n",
       "    }\n",
       "\n",
       "    .dataframe tbody tr th {\n",
       "        vertical-align: top;\n",
       "    }\n",
       "\n",
       "    .dataframe thead th {\n",
       "        text-align: right;\n",
       "    }\n",
       "</style>\n",
       "<table border=\"1\" class=\"dataframe\">\n",
       "  <thead>\n",
       "    <tr style=\"text-align: right;\">\n",
       "      <th></th>\n",
       "      <th>date</th>\n",
       "      <th>transactions</th>\n",
       "    </tr>\n",
       "  </thead>\n",
       "  <tbody>\n",
       "    <tr>\n",
       "      <th>0</th>\n",
       "      <td>2013-01-01</td>\n",
       "      <td>770.000000</td>\n",
       "    </tr>\n",
       "    <tr>\n",
       "      <th>1</th>\n",
       "      <td>2013-01-02</td>\n",
       "      <td>2026.413043</td>\n",
       "    </tr>\n",
       "    <tr>\n",
       "      <th>2</th>\n",
       "      <td>2013-01-03</td>\n",
       "      <td>1706.608696</td>\n",
       "    </tr>\n",
       "    <tr>\n",
       "      <th>3</th>\n",
       "      <td>2013-01-04</td>\n",
       "      <td>1706.391304</td>\n",
       "    </tr>\n",
       "    <tr>\n",
       "      <th>4</th>\n",
       "      <td>2013-01-05</td>\n",
       "      <td>2034.195652</td>\n",
       "    </tr>\n",
       "    <tr>\n",
       "      <th>...</th>\n",
       "      <td>...</td>\n",
       "      <td>...</td>\n",
       "    </tr>\n",
       "    <tr>\n",
       "      <th>1677</th>\n",
       "      <td>2017-08-11</td>\n",
       "      <td>1658.351852</td>\n",
       "    </tr>\n",
       "    <tr>\n",
       "      <th>1678</th>\n",
       "      <td>2017-08-12</td>\n",
       "      <td>1665.314815</td>\n",
       "    </tr>\n",
       "    <tr>\n",
       "      <th>1679</th>\n",
       "      <td>2017-08-13</td>\n",
       "      <td>1592.462963</td>\n",
       "    </tr>\n",
       "    <tr>\n",
       "      <th>1680</th>\n",
       "      <td>2017-08-14</td>\n",
       "      <td>1582.370370</td>\n",
       "    </tr>\n",
       "    <tr>\n",
       "      <th>1681</th>\n",
       "      <td>2017-08-15</td>\n",
       "      <td>1602.981481</td>\n",
       "    </tr>\n",
       "  </tbody>\n",
       "</table>\n",
       "<p>1682 rows × 2 columns</p>\n",
       "</div>"
      ],
      "text/plain": [
       "           date  transactions\n",
       "0    2013-01-01    770.000000\n",
       "1    2013-01-02   2026.413043\n",
       "2    2013-01-03   1706.608696\n",
       "3    2013-01-04   1706.391304\n",
       "4    2013-01-05   2034.195652\n",
       "...         ...           ...\n",
       "1677 2017-08-11   1658.351852\n",
       "1678 2017-08-12   1665.314815\n",
       "1679 2017-08-13   1592.462963\n",
       "1680 2017-08-14   1582.370370\n",
       "1681 2017-08-15   1602.981481\n",
       "\n",
       "[1682 rows x 2 columns]"
      ]
     },
     "execution_count": 25,
     "metadata": {},
     "output_type": "execute_result"
    }
   ],
   "source": [
    "df_transactions_grp = df_transactions[['date', 'transactions']].groupby(by=['date']).mean()\n",
    "df_transactions_grp.reset_index(inplace=True)\n",
    "df_transactions_grp['date'] = pd.to_datetime(df_transactions_grp['date'], format='%Y-%m-%d')\n",
    "print(df_transactions_grp.shape)\n",
    "df_transactions_grp"
   ]
  },
  {
   "cell_type": "code",
   "execution_count": 26,
   "id": "df8af386-4bb4-459f-a3df-ad8826f544eb",
   "metadata": {},
   "outputs": [
    {
     "data": {
      "text/plain": [
       "6"
      ]
     },
     "execution_count": 26,
     "metadata": {},
     "output_type": "execute_result"
    }
   ],
   "source": [
    "full_date_range = pd.date_range(start=df_transactions_grp['date'].min(), end=df_transactions_grp['date'].max(), freq='D')\n",
    "missing_dates = set(full_date_range) - set(df_transactions_grp['date'].unique())\n",
    "missing_dates = list(missing_dates)\n",
    "len(missing_dates)"
   ]
  },
  {
   "cell_type": "code",
   "execution_count": 27,
   "id": "46d924fc-a14b-409a-b1e7-b10da0d79e37",
   "metadata": {},
   "outputs": [
    {
     "data": {
      "text/html": [
       "<div>\n",
       "<style scoped>\n",
       "    .dataframe tbody tr th:only-of-type {\n",
       "        vertical-align: middle;\n",
       "    }\n",
       "\n",
       "    .dataframe tbody tr th {\n",
       "        vertical-align: top;\n",
       "    }\n",
       "\n",
       "    .dataframe thead th {\n",
       "        text-align: right;\n",
       "    }\n",
       "</style>\n",
       "<table border=\"1\" class=\"dataframe\">\n",
       "  <thead>\n",
       "    <tr style=\"text-align: right;\">\n",
       "      <th></th>\n",
       "      <th>date</th>\n",
       "      <th>transactions</th>\n",
       "    </tr>\n",
       "  </thead>\n",
       "  <tbody>\n",
       "    <tr>\n",
       "      <th>0</th>\n",
       "      <td>2016-01-01</td>\n",
       "      <td>NaN</td>\n",
       "    </tr>\n",
       "    <tr>\n",
       "      <th>1</th>\n",
       "      <td>2015-12-25</td>\n",
       "      <td>NaN</td>\n",
       "    </tr>\n",
       "    <tr>\n",
       "      <th>2</th>\n",
       "      <td>2016-01-03</td>\n",
       "      <td>NaN</td>\n",
       "    </tr>\n",
       "    <tr>\n",
       "      <th>3</th>\n",
       "      <td>2016-12-25</td>\n",
       "      <td>NaN</td>\n",
       "    </tr>\n",
       "    <tr>\n",
       "      <th>4</th>\n",
       "      <td>2013-12-25</td>\n",
       "      <td>NaN</td>\n",
       "    </tr>\n",
       "    <tr>\n",
       "      <th>5</th>\n",
       "      <td>2014-12-25</td>\n",
       "      <td>NaN</td>\n",
       "    </tr>\n",
       "  </tbody>\n",
       "</table>\n",
       "</div>"
      ],
      "text/plain": [
       "        date  transactions\n",
       "0 2016-01-01           NaN\n",
       "1 2015-12-25           NaN\n",
       "2 2016-01-03           NaN\n",
       "3 2016-12-25           NaN\n",
       "4 2013-12-25           NaN\n",
       "5 2014-12-25           NaN"
      ]
     },
     "execution_count": 27,
     "metadata": {},
     "output_type": "execute_result"
    }
   ],
   "source": [
    "missing_rows = pd.DataFrame({'date': missing_dates,\n",
    "                             'transactions': np.nan})\n",
    "missing_rows['date'] = pd.to_datetime(missing_rows['date'], format='%Y-%m-%d')\n",
    "missing_rows"
   ]
  },
  {
   "cell_type": "code",
   "execution_count": 28,
   "id": "740010c5-3c70-4ebb-8b5e-54a2a12f8922",
   "metadata": {},
   "outputs": [
    {
     "name": "stdout",
     "output_type": "stream",
     "text": [
      "(1688, 2)\n"
     ]
    }
   ],
   "source": [
    "df_transactions_grp['date'] = pd.to_datetime(df_transactions_grp['date'], format='%Y-%m-%d')\n",
    "df_transactions_grp_new = pd.concat([missing_rows, df_transactions_grp], ignore_index=True)\n",
    "df_transactions_grp_new.sort_values(by='date', ascending=True, inplace=True)\n",
    "print(df_transactions_grp_new.shape)"
   ]
  },
  {
   "cell_type": "code",
   "execution_count": 29,
   "id": "b99c609f-4673-4e77-ace5-a8c6516c8e23",
   "metadata": {},
   "outputs": [
    {
     "name": "stdout",
     "output_type": "stream",
     "text": [
      "(1688, 3)\n"
     ]
    },
    {
     "data": {
      "text/html": [
       "<div>\n",
       "<style scoped>\n",
       "    .dataframe tbody tr th:only-of-type {\n",
       "        vertical-align: middle;\n",
       "    }\n",
       "\n",
       "    .dataframe tbody tr th {\n",
       "        vertical-align: top;\n",
       "    }\n",
       "\n",
       "    .dataframe thead th {\n",
       "        text-align: right;\n",
       "    }\n",
       "</style>\n",
       "<table border=\"1\" class=\"dataframe\">\n",
       "  <thead>\n",
       "    <tr style=\"text-align: right;\">\n",
       "      <th></th>\n",
       "      <th>date</th>\n",
       "      <th>transactions</th>\n",
       "      <th>is_holiday</th>\n",
       "    </tr>\n",
       "  </thead>\n",
       "  <tbody>\n",
       "    <tr>\n",
       "      <th>0</th>\n",
       "      <td>2013-01-01</td>\n",
       "      <td>770.000000</td>\n",
       "      <td>1.0</td>\n",
       "    </tr>\n",
       "    <tr>\n",
       "      <th>1</th>\n",
       "      <td>2013-01-02</td>\n",
       "      <td>2026.413043</td>\n",
       "      <td>NaN</td>\n",
       "    </tr>\n",
       "    <tr>\n",
       "      <th>2</th>\n",
       "      <td>2013-01-03</td>\n",
       "      <td>1706.608696</td>\n",
       "      <td>NaN</td>\n",
       "    </tr>\n",
       "    <tr>\n",
       "      <th>3</th>\n",
       "      <td>2013-01-04</td>\n",
       "      <td>1706.391304</td>\n",
       "      <td>NaN</td>\n",
       "    </tr>\n",
       "    <tr>\n",
       "      <th>4</th>\n",
       "      <td>2013-01-05</td>\n",
       "      <td>2034.195652</td>\n",
       "      <td>1.0</td>\n",
       "    </tr>\n",
       "  </tbody>\n",
       "</table>\n",
       "</div>"
      ],
      "text/plain": [
       "        date  transactions  is_holiday\n",
       "0 2013-01-01    770.000000         1.0\n",
       "1 2013-01-02   2026.413043         NaN\n",
       "2 2013-01-03   1706.608696         NaN\n",
       "3 2013-01-04   1706.391304         NaN\n",
       "4 2013-01-05   2034.195652         1.0"
      ]
     },
     "execution_count": 29,
     "metadata": {},
     "output_type": "execute_result"
    }
   ],
   "source": [
    "df_merge_grp = df_transactions_grp_new.merge(df_holidays_deduped, how='left', on='date')\n",
    "print(df_merge_grp.shape)\n",
    "df_merge_grp.head()"
   ]
  },
  {
   "cell_type": "code",
   "execution_count": 30,
   "id": "5bbb3ae8-dbef-4bb4-b9d5-5eaeec59bae2",
   "metadata": {},
   "outputs": [
    {
     "data": {
      "text/plain": [
       "np.int64(6)"
      ]
     },
     "execution_count": 30,
     "metadata": {},
     "output_type": "execute_result"
    }
   ],
   "source": [
    "df_merge_grp['transactions'].isnull().sum().sum()"
   ]
  },
  {
   "cell_type": "code",
   "execution_count": 31,
   "id": "ed521f48-6da5-4223-abc5-f5c5a6e7a4ab",
   "metadata": {},
   "outputs": [],
   "source": [
    "df_merge_grp['is_holiday'] = df_merge_grp['is_holiday'].fillna(0)"
   ]
  },
  {
   "cell_type": "code",
   "execution_count": 32,
   "id": "86d6b324-9ece-44d3-823a-4045e41c2504",
   "metadata": {},
   "outputs": [],
   "source": [
    "df_merge_grp['transactions'].interpolate()\n",
    "df_merge_grp_int = df_merge_grp.bfill()"
   ]
  },
  {
   "cell_type": "code",
   "execution_count": 33,
   "id": "20102f69-7543-4b0d-b7d5-dc0a01febd7e",
   "metadata": {},
   "outputs": [
    {
     "data": {
      "text/plain": [
       "date            0\n",
       "transactions    0\n",
       "is_holiday      0\n",
       "dtype: int64"
      ]
     },
     "execution_count": 33,
     "metadata": {},
     "output_type": "execute_result"
    }
   ],
   "source": [
    "df_merge_grp_int.isnull().sum()"
   ]
  },
  {
   "cell_type": "code",
   "execution_count": 34,
   "id": "16bc2aff-3b2a-4093-8d89-cead3744d897",
   "metadata": {},
   "outputs": [
    {
     "data": {
      "text/plain": [
       "date            datetime64[ns]\n",
       "transactions           float64\n",
       "is_holiday             float64\n",
       "dtype: object"
      ]
     },
     "execution_count": 34,
     "metadata": {},
     "output_type": "execute_result"
    }
   ],
   "source": [
    "df_merge_grp_int.dtypes"
   ]
  },
  {
   "cell_type": "markdown",
   "id": "4fb3b2c9-5411-4c39-a6b8-2f69fc8d2253",
   "metadata": {},
   "source": [
    "#### df data"
   ]
  },
  {
   "cell_type": "code",
   "execution_count": 35,
   "id": "a960024d-4d79-4217-b917-b6f551b669d4",
   "metadata": {},
   "outputs": [
    {
     "data": {
      "text/plain": [
       "date      object\n",
       "sales    float64\n",
       "dtype: object"
      ]
     },
     "execution_count": 35,
     "metadata": {},
     "output_type": "execute_result"
    }
   ],
   "source": [
    "df[['date', 'sales']].dtypes"
   ]
  },
  {
   "cell_type": "code",
   "execution_count": 36,
   "id": "65c9c574-d49f-4bfb-8e26-eb7e5e634a21",
   "metadata": {},
   "outputs": [
    {
     "name": "stdout",
     "output_type": "stream",
     "text": [
      "(1684, 2)\n"
     ]
    }
   ],
   "source": [
    "df['date'] = pd.to_datetime(df['date'], format='%Y-%m-%d')\n",
    "df_grp = df[['date', 'sales']].groupby(by='date').sum()\n",
    "df_grp.reset_index(inplace=True)\n",
    "print(df_grp.shape)"
   ]
  },
  {
   "cell_type": "code",
   "execution_count": 37,
   "id": "31b0e959-9155-4898-a741-c88a4ce06963",
   "metadata": {},
   "outputs": [
    {
     "data": {
      "text/plain": [
       "date     datetime64[ns]\n",
       "sales           float64\n",
       "dtype: object"
      ]
     },
     "execution_count": 37,
     "metadata": {},
     "output_type": "execute_result"
    }
   ],
   "source": [
    "df_grp.dtypes"
   ]
  },
  {
   "cell_type": "code",
   "execution_count": 38,
   "id": "53b9473b-80c4-49ba-946f-e3a1b066f53b",
   "metadata": {},
   "outputs": [
    {
     "data": {
      "text/plain": [
       "date     0\n",
       "sales    0\n",
       "dtype: int64"
      ]
     },
     "execution_count": 38,
     "metadata": {},
     "output_type": "execute_result"
    }
   ],
   "source": [
    "df_grp.isnull().sum()"
   ]
  },
  {
   "cell_type": "code",
   "execution_count": 39,
   "id": "1e71d40c-4c97-4901-91ef-4ee3b0e94a73",
   "metadata": {},
   "outputs": [
    {
     "data": {
      "text/html": [
       "<div>\n",
       "<style scoped>\n",
       "    .dataframe tbody tr th:only-of-type {\n",
       "        vertical-align: middle;\n",
       "    }\n",
       "\n",
       "    .dataframe tbody tr th {\n",
       "        vertical-align: top;\n",
       "    }\n",
       "\n",
       "    .dataframe thead th {\n",
       "        text-align: right;\n",
       "    }\n",
       "</style>\n",
       "<table border=\"1\" class=\"dataframe\">\n",
       "  <thead>\n",
       "    <tr style=\"text-align: right;\">\n",
       "      <th></th>\n",
       "      <th>date</th>\n",
       "      <th>sales</th>\n",
       "    </tr>\n",
       "  </thead>\n",
       "  <tbody>\n",
       "    <tr>\n",
       "      <th>count</th>\n",
       "      <td>1684</td>\n",
       "      <td>1.684000e+03</td>\n",
       "    </tr>\n",
       "    <tr>\n",
       "      <th>mean</th>\n",
       "      <td>2015-04-24 08:27:04.703088128</td>\n",
       "      <td>6.375564e+05</td>\n",
       "    </tr>\n",
       "    <tr>\n",
       "      <th>min</th>\n",
       "      <td>2013-01-01 00:00:00</td>\n",
       "      <td>2.511619e+03</td>\n",
       "    </tr>\n",
       "    <tr>\n",
       "      <th>25%</th>\n",
       "      <td>2014-02-26 18:00:00</td>\n",
       "      <td>4.427115e+05</td>\n",
       "    </tr>\n",
       "    <tr>\n",
       "      <th>50%</th>\n",
       "      <td>2015-04-24 12:00:00</td>\n",
       "      <td>6.321889e+05</td>\n",
       "    </tr>\n",
       "    <tr>\n",
       "      <th>75%</th>\n",
       "      <td>2016-06-19 06:00:00</td>\n",
       "      <td>7.859455e+05</td>\n",
       "    </tr>\n",
       "    <tr>\n",
       "      <th>max</th>\n",
       "      <td>2017-08-15 00:00:00</td>\n",
       "      <td>1.463084e+06</td>\n",
       "    </tr>\n",
       "    <tr>\n",
       "      <th>std</th>\n",
       "      <td>NaN</td>\n",
       "      <td>2.344102e+05</td>\n",
       "    </tr>\n",
       "  </tbody>\n",
       "</table>\n",
       "</div>"
      ],
      "text/plain": [
       "                                date         sales\n",
       "count                           1684  1.684000e+03\n",
       "mean   2015-04-24 08:27:04.703088128  6.375564e+05\n",
       "min              2013-01-01 00:00:00  2.511619e+03\n",
       "25%              2014-02-26 18:00:00  4.427115e+05\n",
       "50%              2015-04-24 12:00:00  6.321889e+05\n",
       "75%              2016-06-19 06:00:00  7.859455e+05\n",
       "max              2017-08-15 00:00:00  1.463084e+06\n",
       "std                              NaN  2.344102e+05"
      ]
     },
     "execution_count": 39,
     "metadata": {},
     "output_type": "execute_result"
    }
   ],
   "source": [
    "df_grp.describe()"
   ]
  },
  {
   "cell_type": "code",
   "execution_count": 40,
   "id": "58421953-a60c-40dc-8060-155cf04c40a9",
   "metadata": {},
   "outputs": [
    {
     "data": {
      "text/plain": [
       "dtype('O')"
      ]
     },
     "execution_count": 40,
     "metadata": {},
     "output_type": "execute_result"
    }
   ],
   "source": [
    "df_oil_int['date'].dtype"
   ]
  },
  {
   "cell_type": "code",
   "execution_count": 41,
   "id": "e0b6382e-f760-4854-a66f-0b9dd771b6ac",
   "metadata": {},
   "outputs": [
    {
     "name": "stdout",
     "output_type": "stream",
     "text": [
      "(1684, 3)\n"
     ]
    },
    {
     "data": {
      "text/html": [
       "<div>\n",
       "<style scoped>\n",
       "    .dataframe tbody tr th:only-of-type {\n",
       "        vertical-align: middle;\n",
       "    }\n",
       "\n",
       "    .dataframe tbody tr th {\n",
       "        vertical-align: top;\n",
       "    }\n",
       "\n",
       "    .dataframe thead th {\n",
       "        text-align: right;\n",
       "    }\n",
       "</style>\n",
       "<table border=\"1\" class=\"dataframe\">\n",
       "  <thead>\n",
       "    <tr style=\"text-align: right;\">\n",
       "      <th></th>\n",
       "      <th>date</th>\n",
       "      <th>sales</th>\n",
       "      <th>dcoilwtico</th>\n",
       "    </tr>\n",
       "  </thead>\n",
       "  <tbody>\n",
       "    <tr>\n",
       "      <th>0</th>\n",
       "      <td>2013-01-01</td>\n",
       "      <td>2511.618999</td>\n",
       "      <td>93.14</td>\n",
       "    </tr>\n",
       "    <tr>\n",
       "      <th>1</th>\n",
       "      <td>2013-01-02</td>\n",
       "      <td>496092.417944</td>\n",
       "      <td>93.14</td>\n",
       "    </tr>\n",
       "    <tr>\n",
       "      <th>2</th>\n",
       "      <td>2013-01-03</td>\n",
       "      <td>361461.231124</td>\n",
       "      <td>92.97</td>\n",
       "    </tr>\n",
       "    <tr>\n",
       "      <th>3</th>\n",
       "      <td>2013-01-04</td>\n",
       "      <td>354459.677093</td>\n",
       "      <td>93.12</td>\n",
       "    </tr>\n",
       "    <tr>\n",
       "      <th>4</th>\n",
       "      <td>2013-01-05</td>\n",
       "      <td>477350.121229</td>\n",
       "      <td>93.20</td>\n",
       "    </tr>\n",
       "  </tbody>\n",
       "</table>\n",
       "</div>"
      ],
      "text/plain": [
       "        date          sales  dcoilwtico\n",
       "0 2013-01-01    2511.618999       93.14\n",
       "1 2013-01-02  496092.417944       93.14\n",
       "2 2013-01-03  361461.231124       92.97\n",
       "3 2013-01-04  354459.677093       93.12\n",
       "4 2013-01-05  477350.121229       93.20"
      ]
     },
     "execution_count": 41,
     "metadata": {},
     "output_type": "execute_result"
    }
   ],
   "source": [
    "df_oil_int['date'] = pd.to_datetime(df_oil_int['date'], format='%Y-%m-%d')\n",
    "df_new = pd.merge(df_grp, df_oil_int, how='left', on=['date'])\n",
    "print(df_new.shape)\n",
    "df_new.head()"
   ]
  },
  {
   "cell_type": "code",
   "execution_count": 42,
   "id": "7c5bb9d2-d590-4960-9635-a17a29d36048",
   "metadata": {},
   "outputs": [
    {
     "name": "stdout",
     "output_type": "stream",
     "text": [
      "(1684, 4)\n"
     ]
    },
    {
     "data": {
      "text/html": [
       "<div>\n",
       "<style scoped>\n",
       "    .dataframe tbody tr th:only-of-type {\n",
       "        vertical-align: middle;\n",
       "    }\n",
       "\n",
       "    .dataframe tbody tr th {\n",
       "        vertical-align: top;\n",
       "    }\n",
       "\n",
       "    .dataframe thead th {\n",
       "        text-align: right;\n",
       "    }\n",
       "</style>\n",
       "<table border=\"1\" class=\"dataframe\">\n",
       "  <thead>\n",
       "    <tr style=\"text-align: right;\">\n",
       "      <th></th>\n",
       "      <th>sales</th>\n",
       "      <th>dcoilwtico</th>\n",
       "      <th>transactions</th>\n",
       "      <th>is_holiday</th>\n",
       "    </tr>\n",
       "    <tr>\n",
       "      <th>date</th>\n",
       "      <th></th>\n",
       "      <th></th>\n",
       "      <th></th>\n",
       "      <th></th>\n",
       "    </tr>\n",
       "  </thead>\n",
       "  <tbody>\n",
       "    <tr>\n",
       "      <th>2013-01-01</th>\n",
       "      <td>2511.618999</td>\n",
       "      <td>93.14</td>\n",
       "      <td>770.000000</td>\n",
       "      <td>1.0</td>\n",
       "    </tr>\n",
       "    <tr>\n",
       "      <th>2013-01-02</th>\n",
       "      <td>496092.417944</td>\n",
       "      <td>93.14</td>\n",
       "      <td>2026.413043</td>\n",
       "      <td>0.0</td>\n",
       "    </tr>\n",
       "    <tr>\n",
       "      <th>2013-01-03</th>\n",
       "      <td>361461.231124</td>\n",
       "      <td>92.97</td>\n",
       "      <td>1706.608696</td>\n",
       "      <td>0.0</td>\n",
       "    </tr>\n",
       "    <tr>\n",
       "      <th>2013-01-04</th>\n",
       "      <td>354459.677093</td>\n",
       "      <td>93.12</td>\n",
       "      <td>1706.391304</td>\n",
       "      <td>0.0</td>\n",
       "    </tr>\n",
       "    <tr>\n",
       "      <th>2013-01-05</th>\n",
       "      <td>477350.121229</td>\n",
       "      <td>93.20</td>\n",
       "      <td>2034.195652</td>\n",
       "      <td>1.0</td>\n",
       "    </tr>\n",
       "  </tbody>\n",
       "</table>\n",
       "</div>"
      ],
      "text/plain": [
       "                    sales  dcoilwtico  transactions  is_holiday\n",
       "date                                                           \n",
       "2013-01-01    2511.618999       93.14    770.000000         1.0\n",
       "2013-01-02  496092.417944       93.14   2026.413043         0.0\n",
       "2013-01-03  361461.231124       92.97   1706.608696         0.0\n",
       "2013-01-04  354459.677093       93.12   1706.391304         0.0\n",
       "2013-01-05  477350.121229       93.20   2034.195652         1.0"
      ]
     },
     "execution_count": 42,
     "metadata": {},
     "output_type": "execute_result"
    }
   ],
   "source": [
    "df_merge_grp_int['date'] = pd.to_datetime(df_merge_grp_int['date'], format='%Y-%m-%d')\n",
    "df_new = pd.merge(df_new, df_merge_grp_int, how='left', on=['date'])\n",
    "df_new.set_index('date', inplace=True)\n",
    "print(df_new.shape)\n",
    "df_new.head()"
   ]
  },
  {
   "cell_type": "code",
   "execution_count": 43,
   "id": "a1fe72ed-aa7a-4f17-b619-700877bf3e65",
   "metadata": {},
   "outputs": [
    {
     "data": {
      "text/plain": [
       "sales           0\n",
       "dcoilwtico      0\n",
       "transactions    0\n",
       "is_holiday      0\n",
       "dtype: int64"
      ]
     },
     "execution_count": 43,
     "metadata": {},
     "output_type": "execute_result"
    }
   ],
   "source": [
    "df_new.isnull().sum()"
   ]
  },
  {
   "cell_type": "code",
   "execution_count": 44,
   "id": "f2ca468f-fd34-4456-a38e-151eb4812237",
   "metadata": {},
   "outputs": [
    {
     "data": {
      "text/html": [
       "<div>\n",
       "<style scoped>\n",
       "    .dataframe tbody tr th:only-of-type {\n",
       "        vertical-align: middle;\n",
       "    }\n",
       "\n",
       "    .dataframe tbody tr th {\n",
       "        vertical-align: top;\n",
       "    }\n",
       "\n",
       "    .dataframe thead th {\n",
       "        text-align: right;\n",
       "    }\n",
       "</style>\n",
       "<table border=\"1\" class=\"dataframe\">\n",
       "  <thead>\n",
       "    <tr style=\"text-align: right;\">\n",
       "      <th></th>\n",
       "      <th>sales</th>\n",
       "      <th>dcoilwtico</th>\n",
       "      <th>transactions</th>\n",
       "      <th>is_holiday</th>\n",
       "    </tr>\n",
       "  </thead>\n",
       "  <tbody>\n",
       "    <tr>\n",
       "      <th>count</th>\n",
       "      <td>1.684000e+03</td>\n",
       "      <td>1684.000000</td>\n",
       "      <td>1684.000000</td>\n",
       "      <td>1684.000000</td>\n",
       "    </tr>\n",
       "    <tr>\n",
       "      <th>mean</th>\n",
       "      <td>6.375564e+05</td>\n",
       "      <td>67.862162</td>\n",
       "      <td>1695.418862</td>\n",
       "      <td>0.149644</td>\n",
       "    </tr>\n",
       "    <tr>\n",
       "      <th>std</th>\n",
       "      <td>2.344102e+05</td>\n",
       "      <td>25.711860</td>\n",
       "      <td>226.933675</td>\n",
       "      <td>0.356828</td>\n",
       "    </tr>\n",
       "    <tr>\n",
       "      <th>min</th>\n",
       "      <td>2.511619e+03</td>\n",
       "      <td>26.190000</td>\n",
       "      <td>663.500000</td>\n",
       "      <td>0.000000</td>\n",
       "    </tr>\n",
       "    <tr>\n",
       "      <th>25%</th>\n",
       "      <td>4.427115e+05</td>\n",
       "      <td>46.320000</td>\n",
       "      <td>1546.431159</td>\n",
       "      <td>0.000000</td>\n",
       "    </tr>\n",
       "    <tr>\n",
       "      <th>50%</th>\n",
       "      <td>6.321889e+05</td>\n",
       "      <td>53.190000</td>\n",
       "      <td>1636.610397</td>\n",
       "      <td>0.000000</td>\n",
       "    </tr>\n",
       "    <tr>\n",
       "      <th>75%</th>\n",
       "      <td>7.859455e+05</td>\n",
       "      <td>95.802500</td>\n",
       "      <td>1816.159984</td>\n",
       "      <td>0.000000</td>\n",
       "    </tr>\n",
       "    <tr>\n",
       "      <th>max</th>\n",
       "      <td>1.463084e+06</td>\n",
       "      <td>110.620000</td>\n",
       "      <td>3315.872340</td>\n",
       "      <td>1.000000</td>\n",
       "    </tr>\n",
       "  </tbody>\n",
       "</table>\n",
       "</div>"
      ],
      "text/plain": [
       "              sales   dcoilwtico  transactions   is_holiday\n",
       "count  1.684000e+03  1684.000000   1684.000000  1684.000000\n",
       "mean   6.375564e+05    67.862162   1695.418862     0.149644\n",
       "std    2.344102e+05    25.711860    226.933675     0.356828\n",
       "min    2.511619e+03    26.190000    663.500000     0.000000\n",
       "25%    4.427115e+05    46.320000   1546.431159     0.000000\n",
       "50%    6.321889e+05    53.190000   1636.610397     0.000000\n",
       "75%    7.859455e+05    95.802500   1816.159984     0.000000\n",
       "max    1.463084e+06   110.620000   3315.872340     1.000000"
      ]
     },
     "execution_count": 44,
     "metadata": {},
     "output_type": "execute_result"
    }
   ],
   "source": [
    "df_new.describe()"
   ]
  },
  {
   "cell_type": "code",
   "execution_count": 45,
   "id": "d254bfa7-d716-418b-9bb8-c79b88c31830",
   "metadata": {},
   "outputs": [
    {
     "data": {
      "text/plain": [
       "1684"
      ]
     },
     "execution_count": 45,
     "metadata": {},
     "output_type": "execute_result"
    }
   ],
   "source": [
    "df_new.shape[0]"
   ]
  },
  {
   "cell_type": "code",
   "execution_count": 46,
   "id": "ed1dce5f-8d0b-4de7-ad82-5f9815b559f7",
   "metadata": {},
   "outputs": [],
   "source": [
    "test_size = 15\n",
    "og_training_set, og_test_set = df_new[:-test_size], df_new[-test_size:]"
   ]
  },
  {
   "cell_type": "markdown",
   "id": "20e86b9e-7e5e-4dc8-bae7-77dfd71ec0ea",
   "metadata": {},
   "source": [
    "**Observation:**\n",
    "- Train data: 2013 - Mid Aug 2017\n",
    "- Oil data: 2013 - End Aug 2017\n",
    "- Transaction data: 2013 - Mid Aug 2017"
   ]
  },
  {
   "cell_type": "code",
   "execution_count": 60,
   "id": "39ef7425-7e94-431b-9902-5ff2b786e694",
   "metadata": {},
   "outputs": [
    {
     "data": {
      "text/plain": [
       "date            datetime64[ns]\n",
       "sales                  float64\n",
       "dcoilwtico             float64\n",
       "transactions           float64\n",
       "is_holiday            category\n",
       "dtype: object"
      ]
     },
     "execution_count": 60,
     "metadata": {},
     "output_type": "execute_result"
    }
   ],
   "source": [
    "og_training_set['is_holiday'] = og_training_set['is_holiday'].astype('category')\n",
    "og_training_set.dtypes"
   ]
  },
  {
   "cell_type": "markdown",
   "id": "34585e4d-21f8-466e-bb92-dd3e94f38abd",
   "metadata": {},
   "source": [
    "#### ADF test"
   ]
  },
  {
   "cell_type": "code",
   "execution_count": 48,
   "id": "5cc77140-54f4-4ec2-aa85-7426d7538ed8",
   "metadata": {},
   "outputs": [],
   "source": [
    "def adf_test(series):\n",
    "    result = adfuller(series)\n",
    "    print('ADF Statistic:', result[0])\n",
    "    print('p-value:', result[1])\n",
    "    print('Critical Values:', result[4])\n",
    "    \n",
    "    if result[1] < 0.05:\n",
    "        print(\"Reject the null hypothesis - The series is stationary\")\n",
    "    else:\n",
    "        print(\"Fail to reject the null hypothesis - The series is non-stationary\")"
   ]
  },
  {
   "cell_type": "code",
   "execution_count": 49,
   "id": "e4cb6bf3-a257-4ef3-95ea-97010c77d6b4",
   "metadata": {},
   "outputs": [
    {
     "name": "stderr",
     "output_type": "stream",
     "text": [
      "100%|█████████████████████████████████████████████| 3/3 [00:00<00:00, 31.03it/s]"
     ]
    },
    {
     "name": "stdout",
     "output_type": "stream",
     "text": [
      "sales\n",
      "ADF Statistic: -2.537990117612831\n",
      "p-value: 0.10650235986862733\n",
      "Critical Values: {'1%': np.float64(-3.4343290567280453), '5%': np.float64(-2.863297525562038), '10%': np.float64(-2.5677056661976674)}\n",
      "Fail to reject the null hypothesis - The series is non-stationary\n",
      "dcoilwtico\n",
      "ADF Statistic: -0.9323176362084944\n",
      "p-value: 0.7771435768007593\n",
      "Critical Values: {'1%': np.float64(-3.43427885313169), '5%': np.float64(-2.863275365507293), '10%': np.float64(-2.5676938662645394)}\n",
      "Fail to reject the null hypothesis - The series is non-stationary\n",
      "transactions\n",
      "ADF Statistic: -7.067466825273857\n",
      "p-value: 5.037055942400552e-10\n",
      "Critical Values: {'1%': np.float64(-3.4343290567280453), '5%': np.float64(-2.863297525562038), '10%': np.float64(-2.5677056661976674)}\n",
      "Reject the null hypothesis - The series is stationary\n"
     ]
    },
    {
     "name": "stderr",
     "output_type": "stream",
     "text": [
      "\n"
     ]
    }
   ],
   "source": [
    "for variable in tqdm(og_training_set[['sales', 'dcoilwtico', 'transactions']].columns.tolist()):\n",
    "    print(variable)\n",
    "    adf_test(og_training_set[variable])"
   ]
  },
  {
   "cell_type": "code",
   "execution_count": 50,
   "id": "b00f99f9-d333-4420-becd-e35e5897276e",
   "metadata": {},
   "outputs": [],
   "source": [
    "training_set = og_training_set[['sales', 'dcoilwtico', 'transactions']].copy()\n",
    "training_set['sales'] = training_set['sales'].diff()\n",
    "training_set['sales'].replace([np.inf, -np.inf], np.nan, inplace=True)\n",
    "training_set.dropna(subset=['sales'], inplace=True)\n",
    "\n",
    "training_set['dcoilwtico'] = training_set['dcoilwtico'].diff()\n",
    "training_set['dcoilwtico'].replace([np.inf, -np.inf], np.nan, inplace=True)\n",
    "training_set.dropna(subset=['dcoilwtico'], inplace=True)"
   ]
  },
  {
   "cell_type": "code",
   "execution_count": 51,
   "id": "a77574c2-951b-43ee-ba3c-5def94d7c64d",
   "metadata": {},
   "outputs": [
    {
     "name": "stderr",
     "output_type": "stream",
     "text": [
      "  0%|                                                     | 0/3 [00:00<?, ?it/s]"
     ]
    },
    {
     "name": "stdout",
     "output_type": "stream",
     "text": [
      "sales\n"
     ]
    },
    {
     "name": "stderr",
     "output_type": "stream",
     "text": [
      "100%|█████████████████████████████████████████████| 3/3 [00:00<00:00, 26.48it/s]"
     ]
    },
    {
     "name": "stdout",
     "output_type": "stream",
     "text": [
      "ADF Statistic: -11.420993005027945\n",
      "p-value: 6.874454395211951e-21\n",
      "Critical Values: {'1%': np.float64(-3.434341199650204), '5%': np.float64(-2.8633028854374762), '10%': np.float64(-2.5677085202688126)}\n",
      "Reject the null hypothesis - The series is stationary\n",
      "dcoilwtico\n",
      "ADF Statistic: -42.35103248281877\n",
      "p-value: 0.0\n",
      "Critical Values: {'1%': np.float64(-3.4342812150354276), '5%': np.float64(-2.8632764080687307), '10%': np.float64(-2.5676944214132233)}\n",
      "Reject the null hypothesis - The series is stationary\n",
      "transactions\n",
      "ADF Statistic: -7.088030221446249\n",
      "p-value: 4.485231524559756e-10\n",
      "Critical Values: {'1%': np.float64(-3.4343339050195465), '5%': np.float64(-2.8632996655963554), '10%': np.float64(-2.567706805740553)}\n",
      "Reject the null hypothesis - The series is stationary\n"
     ]
    },
    {
     "name": "stderr",
     "output_type": "stream",
     "text": [
      "\n"
     ]
    }
   ],
   "source": [
    "for variable in tqdm(training_set.columns.tolist()):\n",
    "    print(variable)\n",
    "    adf_test(training_set[variable])"
   ]
  },
  {
   "cell_type": "code",
   "execution_count": 52,
   "id": "6ad62f01-13a7-4c38-bb55-39ef55f8308e",
   "metadata": {},
   "outputs": [
    {
     "name": "stdout",
     "output_type": "stream",
     "text": [
      "(1667, 3)\n"
     ]
    },
    {
     "data": {
      "text/html": [
       "<div>\n",
       "<style scoped>\n",
       "    .dataframe tbody tr th:only-of-type {\n",
       "        vertical-align: middle;\n",
       "    }\n",
       "\n",
       "    .dataframe tbody tr th {\n",
       "        vertical-align: top;\n",
       "    }\n",
       "\n",
       "    .dataframe thead th {\n",
       "        text-align: right;\n",
       "    }\n",
       "</style>\n",
       "<table border=\"1\" class=\"dataframe\">\n",
       "  <thead>\n",
       "    <tr style=\"text-align: right;\">\n",
       "      <th></th>\n",
       "      <th>sales</th>\n",
       "      <th>dcoilwtico</th>\n",
       "      <th>transactions</th>\n",
       "    </tr>\n",
       "    <tr>\n",
       "      <th>date</th>\n",
       "      <th></th>\n",
       "      <th></th>\n",
       "      <th></th>\n",
       "    </tr>\n",
       "  </thead>\n",
       "  <tbody>\n",
       "    <tr>\n",
       "      <th>2013-01-03</th>\n",
       "      <td>-134631.186820</td>\n",
       "      <td>-0.17</td>\n",
       "      <td>1706.608696</td>\n",
       "    </tr>\n",
       "    <tr>\n",
       "      <th>2013-01-04</th>\n",
       "      <td>-7001.554031</td>\n",
       "      <td>0.15</td>\n",
       "      <td>1706.391304</td>\n",
       "    </tr>\n",
       "    <tr>\n",
       "      <th>2013-01-05</th>\n",
       "      <td>122890.444136</td>\n",
       "      <td>0.08</td>\n",
       "      <td>2034.195652</td>\n",
       "    </tr>\n",
       "    <tr>\n",
       "      <th>2013-01-06</th>\n",
       "      <td>42345.279859</td>\n",
       "      <td>0.00</td>\n",
       "      <td>1966.608696</td>\n",
       "    </tr>\n",
       "    <tr>\n",
       "      <th>2013-01-07</th>\n",
       "      <td>-183572.600022</td>\n",
       "      <td>0.00</td>\n",
       "      <td>1643.413043</td>\n",
       "    </tr>\n",
       "  </tbody>\n",
       "</table>\n",
       "</div>"
      ],
      "text/plain": [
       "                    sales  dcoilwtico  transactions\n",
       "date                                               \n",
       "2013-01-03 -134631.186820       -0.17   1706.608696\n",
       "2013-01-04   -7001.554031        0.15   1706.391304\n",
       "2013-01-05  122890.444136        0.08   2034.195652\n",
       "2013-01-06   42345.279859        0.00   1966.608696\n",
       "2013-01-07 -183572.600022        0.00   1643.413043"
      ]
     },
     "execution_count": 52,
     "metadata": {},
     "output_type": "execute_result"
    }
   ],
   "source": [
    "print(training_set.shape)\n",
    "training_set.head()"
   ]
  },
  {
   "cell_type": "code",
   "execution_count": 54,
   "id": "8efdc9cf-de4c-47fd-90d3-07861af21eeb",
   "metadata": {},
   "outputs": [
    {
     "data": {
      "text/html": [
       "<div>\n",
       "<style scoped>\n",
       "    .dataframe tbody tr th:only-of-type {\n",
       "        vertical-align: middle;\n",
       "    }\n",
       "\n",
       "    .dataframe tbody tr th {\n",
       "        vertical-align: top;\n",
       "    }\n",
       "\n",
       "    .dataframe thead th {\n",
       "        text-align: right;\n",
       "    }\n",
       "</style>\n",
       "<table border=\"1\" class=\"dataframe\">\n",
       "  <thead>\n",
       "    <tr style=\"text-align: right;\">\n",
       "      <th></th>\n",
       "      <th>sales</th>\n",
       "      <th>dcoilwtico</th>\n",
       "      <th>transactions</th>\n",
       "      <th>is_holiday</th>\n",
       "    </tr>\n",
       "    <tr>\n",
       "      <th>date</th>\n",
       "      <th></th>\n",
       "      <th></th>\n",
       "      <th></th>\n",
       "      <th></th>\n",
       "    </tr>\n",
       "  </thead>\n",
       "  <tbody>\n",
       "    <tr>\n",
       "      <th>2013-01-03</th>\n",
       "      <td>-134631.186820</td>\n",
       "      <td>-0.17</td>\n",
       "      <td>1706.608696</td>\n",
       "      <td>0.0</td>\n",
       "    </tr>\n",
       "    <tr>\n",
       "      <th>2013-01-04</th>\n",
       "      <td>-7001.554031</td>\n",
       "      <td>0.15</td>\n",
       "      <td>1706.391304</td>\n",
       "      <td>0.0</td>\n",
       "    </tr>\n",
       "    <tr>\n",
       "      <th>2013-01-05</th>\n",
       "      <td>122890.444136</td>\n",
       "      <td>0.08</td>\n",
       "      <td>2034.195652</td>\n",
       "      <td>1.0</td>\n",
       "    </tr>\n",
       "    <tr>\n",
       "      <th>2013-01-06</th>\n",
       "      <td>42345.279859</td>\n",
       "      <td>0.00</td>\n",
       "      <td>1966.608696</td>\n",
       "      <td>0.0</td>\n",
       "    </tr>\n",
       "    <tr>\n",
       "      <th>2013-01-07</th>\n",
       "      <td>-183572.600022</td>\n",
       "      <td>0.00</td>\n",
       "      <td>1643.413043</td>\n",
       "      <td>0.0</td>\n",
       "    </tr>\n",
       "    <tr>\n",
       "      <th>...</th>\n",
       "      <td>...</td>\n",
       "      <td>...</td>\n",
       "      <td>...</td>\n",
       "      <td>...</td>\n",
       "    </tr>\n",
       "    <tr>\n",
       "      <th>2017-07-27</th>\n",
       "      <td>-80803.217108</td>\n",
       "      <td>0.47</td>\n",
       "      <td>1458.203704</td>\n",
       "      <td>0.0</td>\n",
       "    </tr>\n",
       "    <tr>\n",
       "      <th>2017-07-28</th>\n",
       "      <td>175249.855145</td>\n",
       "      <td>0.67</td>\n",
       "      <td>1651.796296</td>\n",
       "      <td>0.0</td>\n",
       "    </tr>\n",
       "    <tr>\n",
       "      <th>2017-07-29</th>\n",
       "      <td>197211.183534</td>\n",
       "      <td>0.49</td>\n",
       "      <td>1856.055556</td>\n",
       "      <td>0.0</td>\n",
       "    </tr>\n",
       "    <tr>\n",
       "      <th>2017-07-30</th>\n",
       "      <td>91441.612215</td>\n",
       "      <td>0.00</td>\n",
       "      <td>1757.388889</td>\n",
       "      <td>0.0</td>\n",
       "    </tr>\n",
       "    <tr>\n",
       "      <th>2017-07-31</th>\n",
       "      <td>-237895.637081</td>\n",
       "      <td>0.00</td>\n",
       "      <td>1640.611111</td>\n",
       "      <td>0.0</td>\n",
       "    </tr>\n",
       "  </tbody>\n",
       "</table>\n",
       "<p>1667 rows × 4 columns</p>\n",
       "</div>"
      ],
      "text/plain": [
       "                    sales  dcoilwtico  transactions  is_holiday\n",
       "date                                                           \n",
       "2013-01-03 -134631.186820       -0.17   1706.608696         0.0\n",
       "2013-01-04   -7001.554031        0.15   1706.391304         0.0\n",
       "2013-01-05  122890.444136        0.08   2034.195652         1.0\n",
       "2013-01-06   42345.279859        0.00   1966.608696         0.0\n",
       "2013-01-07 -183572.600022        0.00   1643.413043         0.0\n",
       "...                   ...         ...           ...         ...\n",
       "2017-07-27  -80803.217108        0.47   1458.203704         0.0\n",
       "2017-07-28  175249.855145        0.67   1651.796296         0.0\n",
       "2017-07-29  197211.183534        0.49   1856.055556         0.0\n",
       "2017-07-30   91441.612215        0.00   1757.388889         0.0\n",
       "2017-07-31 -237895.637081        0.00   1640.611111         0.0\n",
       "\n",
       "[1667 rows x 4 columns]"
      ]
     },
     "execution_count": 54,
     "metadata": {},
     "output_type": "execute_result"
    }
   ],
   "source": [
    "training_set.reset_index(inplace=True)\n",
    "og_training_set.reset_index(inplace=True)\n",
    "df_training = training_set.merge(og_training_set[['date', 'is_holiday']], how='left', on='date')\n",
    "df_training.set_index('date', inplace=True)\n",
    "df_training"
   ]
  },
  {
   "cell_type": "code",
   "execution_count": 66,
   "id": "eb40d868-3e4d-4bc9-b855-a1ef09df86a2",
   "metadata": {},
   "outputs": [
    {
     "data": {
      "text/plain": [
       "sales            float64\n",
       "dcoilwtico       float64\n",
       "transactions     float64\n",
       "is_holiday      category\n",
       "dtype: object"
      ]
     },
     "execution_count": 66,
     "metadata": {},
     "output_type": "execute_result"
    }
   ],
   "source": [
    "df_training['is_holiday'] = df_training['is_holiday'].astype('category')\n",
    "df_training.dtypes"
   ]
  },
  {
   "cell_type": "markdown",
   "id": "c679509c-62aa-4dc2-85a7-1fce49ee8aed",
   "metadata": {},
   "source": [
    "#### Granger causality test"
   ]
  },
  {
   "cell_type": "code",
   "execution_count": 55,
   "id": "ad0a99a4-861f-4748-88c4-70f294e55c25",
   "metadata": {
    "scrolled": true
   },
   "outputs": [
    {
     "name": "stdout",
     "output_type": "stream",
     "text": [
      "Granger Causality Test for dcoilwtico -> sales:\n",
      "\n",
      "Granger Causality\n",
      "number of lags (no zero) 1\n",
      "ssr based F test:         F=0.5303  , p=0.4666  , df_denom=1663, df_num=1\n",
      "ssr based chi2 test:   chi2=0.5313  , p=0.4661  , df=1\n",
      "likelihood ratio test: chi2=0.5312  , p=0.4661  , df=1\n",
      "parameter F test:         F=0.5303  , p=0.4666  , df_denom=1663, df_num=1\n",
      "\n",
      "Granger Causality\n",
      "number of lags (no zero) 2\n",
      "ssr based F test:         F=1.2581  , p=0.2845  , df_denom=1660, df_num=2\n",
      "ssr based chi2 test:   chi2=2.5238  , p=0.2831  , df=2\n",
      "likelihood ratio test: chi2=2.5219  , p=0.2834  , df=2\n",
      "parameter F test:         F=1.2581  , p=0.2845  , df_denom=1660, df_num=2\n",
      "\n",
      "Granger Causality\n",
      "number of lags (no zero) 3\n",
      "ssr based F test:         F=0.7669  , p=0.5125  , df_denom=1657, df_num=3\n",
      "ssr based chi2 test:   chi2=2.3105  , p=0.5105  , df=3\n",
      "likelihood ratio test: chi2=2.3089  , p=0.5108  , df=3\n",
      "parameter F test:         F=0.7669  , p=0.5125  , df_denom=1657, df_num=3\n",
      "\n",
      "Granger Causality\n",
      "number of lags (no zero) 4\n",
      "ssr based F test:         F=0.8345  , p=0.5032  , df_denom=1654, df_num=4\n",
      "ssr based chi2 test:   chi2=3.3561  , p=0.5001  , df=4\n",
      "likelihood ratio test: chi2=3.3527  , p=0.5006  , df=4\n",
      "parameter F test:         F=0.8345  , p=0.5032  , df_denom=1654, df_num=4\n",
      "\n",
      "Granger Causality\n",
      "number of lags (no zero) 5\n",
      "ssr based F test:         F=2.0167  , p=0.0735  , df_denom=1651, df_num=5\n",
      "ssr based chi2 test:   chi2=10.1507 , p=0.0711  , df=5\n",
      "likelihood ratio test: chi2=10.1198 , p=0.0719  , df=5\n",
      "parameter F test:         F=2.0167  , p=0.0735  , df_denom=1651, df_num=5\n",
      "\n",
      "Granger Causality\n",
      "number of lags (no zero) 6\n",
      "ssr based F test:         F=1.2331  , p=0.2862  , df_denom=1648, df_num=6\n",
      "ssr based chi2 test:   chi2=7.4571  , p=0.2806  , df=6\n",
      "likelihood ratio test: chi2=7.4404  , p=0.2820  , df=6\n",
      "parameter F test:         F=1.2331  , p=0.2862  , df_denom=1648, df_num=6\n",
      "\n",
      "Granger Causality\n",
      "number of lags (no zero) 7\n",
      "ssr based F test:         F=1.2708  , p=0.2610  , df_denom=1645, df_num=7\n",
      "ssr based chi2 test:   chi2=8.9769  , p=0.2543  , df=7\n",
      "likelihood ratio test: chi2=8.9527  , p=0.2561  , df=7\n",
      "parameter F test:         F=1.2708  , p=0.2610  , df_denom=1645, df_num=7\n",
      "\n",
      "Granger Causality\n",
      "number of lags (no zero) 8\n",
      "ssr based F test:         F=1.1278  , p=0.3411  , df_denom=1642, df_num=8\n",
      "ssr based chi2 test:   chi2=9.1162  , p=0.3326  , df=8\n",
      "likelihood ratio test: chi2=9.0913  , p=0.3347  , df=8\n",
      "parameter F test:         F=1.1278  , p=0.3411  , df_denom=1642, df_num=8\n",
      "\n",
      "Granger Causality\n",
      "number of lags (no zero) 9\n",
      "ssr based F test:         F=1.0298  , p=0.4135  , df_denom=1639, df_num=9\n",
      "ssr based chi2 test:   chi2=9.3753  , p=0.4034  , df=9\n",
      "likelihood ratio test: chi2=9.3489  , p=0.4057  , df=9\n",
      "parameter F test:         F=1.0298  , p=0.4135  , df_denom=1639, df_num=9\n",
      "\n",
      "Granger Causality\n",
      "number of lags (no zero) 10\n",
      "ssr based F test:         F=0.9302  , p=0.5040  , df_denom=1636, df_num=10\n",
      "ssr based chi2 test:   chi2=9.4217  , p=0.4926  , df=10\n",
      "likelihood ratio test: chi2=9.3950  , p=0.4951  , df=10\n",
      "parameter F test:         F=0.9302  , p=0.5040  , df_denom=1636, df_num=10\n",
      "\n",
      "\n",
      "Granger Causality Test for transactions -> sales:\n",
      "\n",
      "Granger Causality\n",
      "number of lags (no zero) 1\n",
      "ssr based F test:         F=124.3209, p=0.0000  , df_denom=1663, df_num=1\n",
      "ssr based chi2 test:   chi2=124.5452, p=0.0000  , df=1\n",
      "likelihood ratio test: chi2=120.1096, p=0.0000  , df=1\n",
      "parameter F test:         F=124.3209, p=0.0000  , df_denom=1663, df_num=1\n",
      "\n",
      "Granger Causality\n",
      "number of lags (no zero) 2\n",
      "ssr based F test:         F=130.5968, p=0.0000  , df_denom=1660, df_num=2\n",
      "ssr based chi2 test:   chi2=261.9804, p=0.0000  , df=2\n",
      "likelihood ratio test: chi2=243.3049, p=0.0000  , df=2\n",
      "parameter F test:         F=130.5968, p=0.0000  , df_denom=1660, df_num=2\n",
      "\n",
      "Granger Causality\n",
      "number of lags (no zero) 3\n",
      "ssr based F test:         F=82.0950 , p=0.0000  , df_denom=1657, df_num=3\n",
      "ssr based chi2 test:   chi2=247.3254, p=0.0000  , df=3\n",
      "likelihood ratio test: chi2=230.5848, p=0.0000  , df=3\n",
      "parameter F test:         F=82.0950 , p=0.0000  , df_denom=1657, df_num=3\n",
      "\n",
      "Granger Causality\n",
      "number of lags (no zero) 4\n",
      "ssr based F test:         F=62.8962 , p=0.0000  , df_denom=1654, df_num=4\n",
      "ssr based chi2 test:   chi2=252.9539, p=0.0000  , df=4\n",
      "likelihood ratio test: chi2=235.4682, p=0.0000  , df=4\n",
      "parameter F test:         F=62.8962 , p=0.0000  , df_denom=1654, df_num=4\n",
      "\n",
      "Granger Causality\n",
      "number of lags (no zero) 5\n",
      "ssr based F test:         F=31.6367 , p=0.0000  , df_denom=1651, df_num=5\n",
      "ssr based chi2 test:   chi2=159.2373, p=0.0000  , df=5\n",
      "likelihood ratio test: chi2=152.0637, p=0.0000  , df=5\n",
      "parameter F test:         F=31.6367 , p=0.0000  , df_denom=1651, df_num=5\n",
      "\n",
      "Granger Causality\n",
      "number of lags (no zero) 6\n",
      "ssr based F test:         F=14.2020 , p=0.0000  , df_denom=1648, df_num=6\n",
      "ssr based chi2 test:   chi2=85.8839 , p=0.0000  , df=6\n",
      "likelihood ratio test: chi2=83.7372 , p=0.0000  , df=6\n",
      "parameter F test:         F=14.2020 , p=0.0000  , df_denom=1648, df_num=6\n",
      "\n",
      "Granger Causality\n",
      "number of lags (no zero) 7\n",
      "ssr based F test:         F=10.8305 , p=0.0000  , df_denom=1645, df_num=7\n",
      "ssr based chi2 test:   chi2=76.5048 , p=0.0000  , df=7\n",
      "likelihood ratio test: chi2=74.7942 , p=0.0000  , df=7\n",
      "parameter F test:         F=10.8305 , p=0.0000  , df_denom=1645, df_num=7\n",
      "\n",
      "Granger Causality\n",
      "number of lags (no zero) 8\n",
      "ssr based F test:         F=21.9404 , p=0.0000  , df_denom=1642, df_num=8\n",
      "ssr based chi2 test:   chi2=177.3407, p=0.0000  , df=8\n",
      "likelihood ratio test: chi2=168.4877, p=0.0000  , df=8\n",
      "parameter F test:         F=21.9404 , p=0.0000  , df_denom=1642, df_num=8\n",
      "\n",
      "Granger Causality\n",
      "number of lags (no zero) 9\n",
      "ssr based F test:         F=25.0807 , p=0.0000  , df_denom=1639, df_num=9\n",
      "ssr based chi2 test:   chi2=228.3431, p=0.0000  , df=9\n",
      "likelihood ratio test: chi2=213.9285, p=0.0000  , df=9\n",
      "parameter F test:         F=25.0807 , p=0.0000  , df_denom=1639, df_num=9\n",
      "\n",
      "Granger Causality\n",
      "number of lags (no zero) 10\n",
      "ssr based F test:         F=23.0977 , p=0.0000  , df_denom=1636, df_num=10\n",
      "ssr based chi2 test:   chi2=233.9414, p=0.0000  , df=10\n",
      "likelihood ratio test: chi2=218.8334, p=0.0000  , df=10\n",
      "parameter F test:         F=23.0977 , p=0.0000  , df_denom=1636, df_num=10\n",
      "\n",
      "\n"
     ]
    }
   ],
   "source": [
    "max_lag = 10\n",
    "predictors = ['dcoilwtico', 'transactions']\n",
    "\n",
    "for predictor in predictors:\n",
    "    \n",
    "    print(f'Granger Causality Test for {predictor} -> sales:')\n",
    "    grangercausalitytests(training_set[['sales', predictor]], max_lag)\n",
    "    print('\\n')"
   ]
  },
  {
   "cell_type": "markdown",
   "id": "fc2113ea-05de-4aac-a1ae-da57ffffa3d0",
   "metadata": {},
   "source": [
    "**Observation:**\n",
    "- Significant Lags: Lags 2 and 5 showed significant Granger causality, indicating that past oil prices could help predict future sales for these specific lags.\n",
    "- Overall Relationship: While some lags indicated a predictive relationship, the lack of significance in other lags suggests that the effect of oil prices on sales may not be consistent over time or may be affected by other variables.\n",
    "- Significant Lags: All tested lags (1 through 10) show significant Granger causality, suggesting a consistent predictive relationship between transactions and sales. This means that past transaction data can reliably help forecast future sales across all lags tested.\n",
    "- Implication: The strong relationship indicates that changes in transaction volumes are closely associated with changes in sales, making transaction data a useful predictor for sales forecasting."
   ]
  },
  {
   "cell_type": "markdown",
   "id": "5695891e-6079-4bf9-b18f-177d3d68580a",
   "metadata": {},
   "source": [
    "#### Engle-Granger Cointegration Test (ADF test on residuals)"
   ]
  },
  {
   "cell_type": "code",
   "execution_count": 57,
   "id": "accab8f3-22e9-4e84-ad2e-b01568bdb5e0",
   "metadata": {},
   "outputs": [
    {
     "name": "stdout",
     "output_type": "stream",
     "text": [
      "Cointegration test statistic dcoilwtico: -11.416525352663028\n",
      "p-value dcoilwtico: 8.45941038668635e-20\n",
      "Cointegration test statistic transaction: -7.559559804803959\n",
      "p-value transaction: 3.7730758423404493e-10\n"
     ]
    }
   ],
   "source": [
    "score, p_value, _ = coint(training_set['sales'], training_set['dcoilwtico'])\n",
    "print(f'Cointegration test statistic dcoilwtico: {score}')\n",
    "print(f'p-value dcoilwtico: {p_value}')\n",
    "\n",
    "score, p_value, _ = coint(training_set['sales'], training_set['transactions'])\n",
    "print(f'Cointegration test statistic transaction: {score}')\n",
    "print(f'p-value transaction: {p_value}')"
   ]
  },
  {
   "cell_type": "markdown",
   "id": "f07aa9df-cb96-43e5-928d-e03dd22864db",
   "metadata": {},
   "source": [
    "**Observation:**\n",
    "- Both dcoilwtico and transactions are cointegrated with sales, as indicated by the significantly negative test statistics and extremely low p-values.\n",
    "- This means that there is a long-run equilibrium relationship between sales, dcoilwtico, and transactions, even if these series may individually exhibit non-stationary behavior. Despite short-term fluctuations, they move together over time, maintaining a stable long-term relationship.\n",
    "- The presence of cointegration means that Vector Error Correction Model (VECM) can be used, which accounts for both short-term dynamics and the long-term equilibrium relationship between the variables."
   ]
  },
  {
   "cell_type": "markdown",
   "id": "efd20bf2-c27b-4028-8624-0dc5c06dd21c",
   "metadata": {},
   "source": [
    "### 3) Time Series Modelling"
   ]
  },
  {
   "cell_type": "markdown",
   "id": "8cd91150-e584-4dd2-b5b3-74bc05984e0f",
   "metadata": {},
   "source": [
    "#### VAR"
   ]
  },
  {
   "cell_type": "code",
   "execution_count": 67,
   "id": "01beb4dc-ac13-4157-a806-f589332c2845",
   "metadata": {},
   "outputs": [],
   "source": [
    "training_var = df_training.copy()"
   ]
  },
  {
   "cell_type": "code",
   "execution_count": 68,
   "id": "6811ff02-4900-4aef-88cf-20de5018eb24",
   "metadata": {},
   "outputs": [
    {
     "name": "stdout",
     "output_type": "stream",
     "text": [
      "  Summary of Regression Results   \n",
      "==================================\n",
      "Model:                         VAR\n",
      "Method:                        OLS\n",
      "Date:           Thu, 24, Oct, 2024\n",
      "Time:                     15:00:50\n",
      "--------------------------------------------------------------------\n",
      "No. of Equations:         4.00000    BIC:                    30.8397\n",
      "Nobs:                     1662.00    HQIC:                   30.6674\n",
      "Log likelihood:          -34749.4    FPE:                1.88203e+13\n",
      "AIC:                      30.5660    Det(Omega_mle):     1.78984e+13\n",
      "--------------------------------------------------------------------\n",
      "Results for equation sales\n",
      "==================================================================================\n",
      "                     coefficient       std. error           t-stat            prob\n",
      "----------------------------------------------------------------------------------\n",
      "const              215666.653409     33701.654959            6.399           0.000\n",
      "L1.sales               -0.510649         0.030689          -16.639           0.000\n",
      "L1.dcoilwtico       -4313.017718      2773.362029           -1.555           0.120\n",
      "L1.transactions       205.651388        24.760783            8.306           0.000\n",
      "L1.is_holiday       -7158.402432      8747.189286           -0.818           0.413\n",
      "L2.sales               -0.605032         0.032400          -18.674           0.000\n",
      "L2.dcoilwtico         579.581790      2776.743511            0.209           0.835\n",
      "L2.transactions      -192.236516        30.638754           -6.274           0.000\n",
      "L2.is_holiday       43950.083216      8992.225773            4.888           0.000\n",
      "L3.sales               -0.444487         0.033225          -13.378           0.000\n",
      "L3.dcoilwtico        2311.971911      2771.680969            0.834           0.404\n",
      "L3.transactions       -23.761355        30.799023           -0.771           0.440\n",
      "L3.is_holiday      -25755.225102      9082.873589           -2.836           0.005\n",
      "L4.sales               -0.451590         0.030596          -14.760           0.000\n",
      "L4.dcoilwtico       -3557.330255      2772.957485           -1.283           0.200\n",
      "L4.transactions        51.816355        30.672221            1.689           0.091\n",
      "L4.is_holiday       -2029.175357      9055.235503           -0.224           0.823\n",
      "L5.sales               -0.446643         0.021317          -20.952           0.000\n",
      "L5.dcoilwtico        5547.278133      2768.226033            2.004           0.045\n",
      "L5.transactions      -170.366273        25.365795           -6.716           0.000\n",
      "L5.is_holiday       18198.240896      8704.507568            2.091           0.037\n",
      "==================================================================================\n",
      "\n",
      "Results for equation dcoilwtico\n",
      "==================================================================================\n",
      "                     coefficient       std. error           t-stat            prob\n",
      "----------------------------------------------------------------------------------\n",
      "const                   0.301011         0.299768            1.004           0.315\n",
      "L1.sales               -0.000000         0.000000           -1.137           0.255\n",
      "L1.dcoilwtico          -0.037606         0.024668           -1.524           0.127\n",
      "L1.transactions         0.000048         0.000220            0.219           0.827\n",
      "L1.is_holiday          -0.102440         0.077804           -1.317           0.188\n",
      "L2.sales                0.000000         0.000000            0.709           0.478\n",
      "L2.dcoilwtico           0.008876         0.024698            0.359           0.719\n",
      "L2.transactions        -0.000065         0.000273           -0.240           0.810\n",
      "L2.is_holiday          -0.061094         0.079984           -0.764           0.445\n",
      "L3.sales               -0.000000         0.000000           -0.729           0.466\n",
      "L3.dcoilwtico          -0.016948         0.024653           -0.687           0.492\n",
      "L3.transactions         0.000051         0.000274            0.185           0.853\n",
      "L3.is_holiday           0.175070         0.080790            2.167           0.030\n",
      "L4.sales               -0.000000         0.000000           -0.103           0.918\n",
      "L4.dcoilwtico          -0.012704         0.024665           -0.515           0.607\n",
      "L4.transactions         0.000033         0.000273            0.122           0.903\n",
      "L4.is_holiday           0.076060         0.080544            0.944           0.345\n",
      "L5.sales                0.000000         0.000000            1.229           0.219\n",
      "L5.dcoilwtico           0.019670         0.024623            0.799           0.424\n",
      "L5.transactions        -0.000262         0.000226           -1.163           0.245\n",
      "L5.is_holiday          -0.058644         0.077424           -0.757           0.449\n",
      "==================================================================================\n",
      "\n",
      "Results for equation transactions\n",
      "==================================================================================\n",
      "                     coefficient       std. error           t-stat            prob\n",
      "----------------------------------------------------------------------------------\n",
      "const                 379.375324        42.398738            8.948           0.000\n",
      "L1.sales               -0.000228         0.000039           -5.899           0.000\n",
      "L1.dcoilwtico          -3.034287         3.489059           -0.870           0.384\n",
      "L1.transactions         0.840377         0.031151           26.978           0.000\n",
      "L1.is_holiday           7.751369        11.004498            0.704           0.481\n",
      "L2.sales               -0.000352         0.000041           -8.625           0.000\n",
      "L2.dcoilwtico           1.398173         3.493313            0.400           0.689\n",
      "L2.transactions        -0.247471         0.038545           -6.420           0.000\n",
      "L2.is_holiday          25.734209        11.312769            2.275           0.023\n",
      "L3.sales               -0.000227         0.000042           -5.422           0.000\n",
      "L3.dcoilwtico           0.198704         3.486944            0.057           0.955\n",
      "L3.transactions         0.092012         0.038747            2.375           0.018\n",
      "L3.is_holiday         -36.223209        11.426809           -3.170           0.002\n",
      "L4.sales               -0.000409         0.000038          -10.620           0.000\n",
      "L4.dcoilwtico          -4.029483         3.488550           -1.155           0.248\n",
      "L4.transactions         0.049496         0.038588            1.283           0.200\n",
      "L4.is_holiday         -23.254143        11.392039           -2.041           0.041\n",
      "L5.sales               -0.000566         0.000027          -21.116           0.000\n",
      "L5.dcoilwtico           2.940499         3.482597            0.844           0.398\n",
      "L5.transactions         0.042544         0.031912            1.333           0.182\n",
      "L5.is_holiday          20.778020        10.950801            1.897           0.058\n",
      "==================================================================================\n",
      "\n",
      "Results for equation is_holiday\n",
      "==================================================================================\n",
      "                     coefficient       std. error           t-stat            prob\n",
      "----------------------------------------------------------------------------------\n",
      "const                  -0.184107         0.095026           -1.937           0.053\n",
      "L1.sales               -0.000000         0.000000           -5.337           0.000\n",
      "L1.dcoilwtico          -0.005864         0.007820           -0.750           0.453\n",
      "L1.transactions         0.000487         0.000070            6.972           0.000\n",
      "L1.is_holiday           0.244881         0.024664            9.929           0.000\n",
      "L2.sales               -0.000000         0.000000           -2.451           0.014\n",
      "L2.dcoilwtico          -0.003006         0.007829           -0.384           0.701\n",
      "L2.transactions        -0.000134         0.000086           -1.554           0.120\n",
      "L2.is_holiday           0.125448         0.025355            4.948           0.000\n",
      "L3.sales               -0.000000         0.000000           -1.459           0.145\n",
      "L3.dcoilwtico           0.010067         0.007815            1.288           0.198\n",
      "L3.transactions        -0.000029         0.000087           -0.335           0.738\n",
      "L3.is_holiday           0.025065         0.025610            0.979           0.328\n",
      "L4.sales               -0.000000         0.000000           -2.641           0.008\n",
      "L4.dcoilwtico           0.004681         0.007819            0.599           0.549\n",
      "L4.transactions        -0.000047         0.000086           -0.545           0.586\n",
      "L4.is_holiday           0.026478         0.025532            1.037           0.300\n",
      "L5.sales                0.000000         0.000000            1.034           0.301\n",
      "L5.dcoilwtico           0.008214         0.007805            1.052           0.293\n",
      "L5.transactions        -0.000124         0.000072           -1.739           0.082\n",
      "L5.is_holiday           0.086400         0.024543            3.520           0.000\n",
      "==================================================================================\n",
      "\n",
      "Correlation matrix of residuals\n",
      "                   sales  dcoilwtico  transactions  is_holiday\n",
      "sales           1.000000    0.017039      0.645527    0.008863\n",
      "dcoilwtico      0.017039    1.000000      0.030103   -0.031801\n",
      "transactions    0.645527    0.030103      1.000000    0.080941\n",
      "is_holiday      0.008863   -0.031801      0.080941    1.000000\n",
      "\n",
      "\n",
      "\n"
     ]
    },
    {
     "name": "stderr",
     "output_type": "stream",
     "text": [
      "/Users/wanderlustzenn/Desktop/projects/base_py/lib/python3.9/site-packages/statsmodels/tsa/base/tsa_model.py:473: ValueWarning: A date index has been provided, but it has no associated frequency information and so will be ignored when e.g. forecasting.\n",
      "  self._init_dates(dates, freq)\n"
     ]
    }
   ],
   "source": [
    "var_model = VAR(training_var)\n",
    "var_model_fitted = var_model.fit(maxlags=5, ic='aic')\n",
    "print(var_model_fitted.summary())"
   ]
  },
  {
   "cell_type": "code",
   "execution_count": 73,
   "id": "5999f5fe-6fa5-468d-b05d-c42e5eab2158",
   "metadata": {},
   "outputs": [
    {
     "data": {
      "text/html": [
       "<div>\n",
       "<style scoped>\n",
       "    .dataframe tbody tr th:only-of-type {\n",
       "        vertical-align: middle;\n",
       "    }\n",
       "\n",
       "    .dataframe tbody tr th {\n",
       "        vertical-align: top;\n",
       "    }\n",
       "\n",
       "    .dataframe thead th {\n",
       "        text-align: right;\n",
       "    }\n",
       "</style>\n",
       "<table border=\"1\" class=\"dataframe\">\n",
       "  <thead>\n",
       "    <tr style=\"text-align: right;\">\n",
       "      <th></th>\n",
       "      <th>sales</th>\n",
       "      <th>dcoilwtico</th>\n",
       "      <th>transactions</th>\n",
       "      <th>is_holiday</th>\n",
       "    </tr>\n",
       "  </thead>\n",
       "  <tbody>\n",
       "    <tr>\n",
       "      <th>0</th>\n",
       "      <td>-54910.667975</td>\n",
       "      <td>0.049953</td>\n",
       "      <td>1588.018666</td>\n",
       "      <td>0</td>\n",
       "    </tr>\n",
       "    <tr>\n",
       "      <th>1</th>\n",
       "      <td>-35057.507899</td>\n",
       "      <td>-0.033239</td>\n",
       "      <td>1527.881389</td>\n",
       "      <td>0</td>\n",
       "    </tr>\n",
       "    <tr>\n",
       "      <th>2</th>\n",
       "      <td>-5611.312397</td>\n",
       "      <td>0.016052</td>\n",
       "      <td>1524.160652</td>\n",
       "      <td>0</td>\n",
       "    </tr>\n",
       "    <tr>\n",
       "      <th>3</th>\n",
       "      <td>99239.374089</td>\n",
       "      <td>-0.015592</td>\n",
       "      <td>1655.046144</td>\n",
       "      <td>0</td>\n",
       "    </tr>\n",
       "    <tr>\n",
       "      <th>4</th>\n",
       "      <td>128660.964431</td>\n",
       "      <td>-0.091493</td>\n",
       "      <td>1823.869617</td>\n",
       "      <td>0</td>\n",
       "    </tr>\n",
       "    <tr>\n",
       "      <th>5</th>\n",
       "      <td>-32839.802642</td>\n",
       "      <td>-0.036983</td>\n",
       "      <td>1770.076911</td>\n",
       "      <td>0</td>\n",
       "    </tr>\n",
       "    <tr>\n",
       "      <th>6</th>\n",
       "      <td>-77257.655629</td>\n",
       "      <td>0.008696</td>\n",
       "      <td>1669.264126</td>\n",
       "      <td>0</td>\n",
       "    </tr>\n",
       "    <tr>\n",
       "      <th>7</th>\n",
       "      <td>-35014.834281</td>\n",
       "      <td>-0.003296</td>\n",
       "      <td>1621.514156</td>\n",
       "      <td>0</td>\n",
       "    </tr>\n",
       "    <tr>\n",
       "      <th>8</th>\n",
       "      <td>-20220.012224</td>\n",
       "      <td>0.010659</td>\n",
       "      <td>1586.803604</td>\n",
       "      <td>0</td>\n",
       "    </tr>\n",
       "    <tr>\n",
       "      <th>9</th>\n",
       "      <td>-2848.274244</td>\n",
       "      <td>-0.007865</td>\n",
       "      <td>1602.841191</td>\n",
       "      <td>0</td>\n",
       "    </tr>\n",
       "    <tr>\n",
       "      <th>10</th>\n",
       "      <td>68464.553166</td>\n",
       "      <td>-0.045824</td>\n",
       "      <td>1704.943817</td>\n",
       "      <td>0</td>\n",
       "    </tr>\n",
       "    <tr>\n",
       "      <th>11</th>\n",
       "      <td>50074.150594</td>\n",
       "      <td>-0.055687</td>\n",
       "      <td>1760.569370</td>\n",
       "      <td>0</td>\n",
       "    </tr>\n",
       "    <tr>\n",
       "      <th>12</th>\n",
       "      <td>-19120.499826</td>\n",
       "      <td>-0.024972</td>\n",
       "      <td>1725.503244</td>\n",
       "      <td>0</td>\n",
       "    </tr>\n",
       "    <tr>\n",
       "      <th>13</th>\n",
       "      <td>-32485.906983</td>\n",
       "      <td>-0.010084</td>\n",
       "      <td>1681.426143</td>\n",
       "      <td>0</td>\n",
       "    </tr>\n",
       "    <tr>\n",
       "      <th>14</th>\n",
       "      <td>-16643.459445</td>\n",
       "      <td>-0.009339</td>\n",
       "      <td>1656.057688</td>\n",
       "      <td>0</td>\n",
       "    </tr>\n",
       "  </tbody>\n",
       "</table>\n",
       "</div>"
      ],
      "text/plain": [
       "            sales  dcoilwtico  transactions  is_holiday\n",
       "0   -54910.667975    0.049953   1588.018666           0\n",
       "1   -35057.507899   -0.033239   1527.881389           0\n",
       "2    -5611.312397    0.016052   1524.160652           0\n",
       "3    99239.374089   -0.015592   1655.046144           0\n",
       "4   128660.964431   -0.091493   1823.869617           0\n",
       "5   -32839.802642   -0.036983   1770.076911           0\n",
       "6   -77257.655629    0.008696   1669.264126           0\n",
       "7   -35014.834281   -0.003296   1621.514156           0\n",
       "8   -20220.012224    0.010659   1586.803604           0\n",
       "9    -2848.274244   -0.007865   1602.841191           0\n",
       "10   68464.553166   -0.045824   1704.943817           0\n",
       "11   50074.150594   -0.055687   1760.569370           0\n",
       "12  -19120.499826   -0.024972   1725.503244           0\n",
       "13  -32485.906983   -0.010084   1681.426143           0\n",
       "14  -16643.459445   -0.009339   1656.057688           0"
      ]
     },
     "execution_count": 73,
     "metadata": {},
     "output_type": "execute_result"
    }
   ],
   "source": [
    "lag_order = var_model_fitted.k_ar\n",
    "var_forecast_input = training_var.values[-lag_order:]  # Use last observations as input\n",
    "var_forecast = var_model_fitted.forecast(y=var_forecast_input, steps=15)\n",
    "\n",
    "df_var_forecast = pd.DataFrame(var_forecast, columns=['sales', 'dcoilwtico', 'transactions', 'is_holiday'])\n",
    "df_var_forecast['is_holiday'] = np.where(df_var_forecast['is_holiday'] >= 0.5, 1, 0)\n",
    "df_var_forecast"
   ]
  },
  {
   "cell_type": "code",
   "execution_count": 74,
   "id": "c14584d0-9968-43c2-9870-3138e55bdfd7",
   "metadata": {},
   "outputs": [],
   "source": [
    "sales_original = df_new[-16:-1]['sales'].values\n",
    "dcoilwtico_original = df_new[-16:-1]['dcoilwtico'].values\n",
    "\n",
    "sales_new = []\n",
    "for original, change in zip(sales_original, df_var_forecast['sales'].values):\n",
    "    new_value = original + change\n",
    "    sales_new.append(new_value)\n",
    "\n",
    "dcoilwtico_new = []\n",
    "for original, change in zip(dcoilwtico_original, df_var_forecast['dcoilwtico'].values):\n",
    "    new_value = original + change\n",
    "    dcoilwtico_new.append(new_value)\n",
    "\n",
    "df_sales_new = pd.DataFrame(sales_new, columns=['Predicted Sales'])\n",
    "df_dcoilwtico_new = pd.DataFrame(dcoilwtico_new, columns=['Predicted dcoilwtico'])"
   ]
  },
  {
   "cell_type": "code",
   "execution_count": 77,
   "id": "9684acd3-51d0-4ab4-9896-a3b16e051f62",
   "metadata": {},
   "outputs": [
    {
     "data": {
      "text/html": [
       "<div>\n",
       "<style scoped>\n",
       "    .dataframe tbody tr th:only-of-type {\n",
       "        vertical-align: middle;\n",
       "    }\n",
       "\n",
       "    .dataframe tbody tr th {\n",
       "        vertical-align: top;\n",
       "    }\n",
       "\n",
       "    .dataframe thead th {\n",
       "        text-align: right;\n",
       "    }\n",
       "</style>\n",
       "<table border=\"1\" class=\"dataframe\">\n",
       "  <thead>\n",
       "    <tr style=\"text-align: right;\">\n",
       "      <th></th>\n",
       "      <th>Predicted Sales</th>\n",
       "      <th>Predicted dcoilwtico</th>\n",
       "      <th>Predicted Transactions</th>\n",
       "      <th>is_holiday</th>\n",
       "    </tr>\n",
       "    <tr>\n",
       "      <th>date</th>\n",
       "      <th></th>\n",
       "      <th></th>\n",
       "      <th></th>\n",
       "      <th></th>\n",
       "    </tr>\n",
       "  </thead>\n",
       "  <tbody>\n",
       "    <tr>\n",
       "      <th>2017-08-01</th>\n",
       "      <td>830946.172896</td>\n",
       "      <td>50.259953</td>\n",
       "      <td>1588.018666</td>\n",
       "      <td>0</td>\n",
       "    </tr>\n",
       "    <tr>\n",
       "      <th>2017-08-02</th>\n",
       "      <td>953470.255305</td>\n",
       "      <td>49.156761</td>\n",
       "      <td>1527.881389</td>\n",
       "      <td>0</td>\n",
       "    </tr>\n",
       "    <tr>\n",
       "      <th>2017-08-03</th>\n",
       "      <td>959100.703654</td>\n",
       "      <td>49.616052</td>\n",
       "      <td>1524.160652</td>\n",
       "      <td>0</td>\n",
       "    </tr>\n",
       "    <tr>\n",
       "      <th>2017-08-04</th>\n",
       "      <td>827307.859221</td>\n",
       "      <td>49.014408</td>\n",
       "      <td>1655.046144</td>\n",
       "      <td>0</td>\n",
       "    </tr>\n",
       "    <tr>\n",
       "      <th>2017-08-05</th>\n",
       "      <td>956436.650559</td>\n",
       "      <td>49.478507</td>\n",
       "      <td>1823.869617</td>\n",
       "      <td>0</td>\n",
       "    </tr>\n",
       "    <tr>\n",
       "      <th>2017-08-06</th>\n",
       "      <td>932853.847850</td>\n",
       "      <td>49.333017</td>\n",
       "      <td>1770.076911</td>\n",
       "      <td>0</td>\n",
       "    </tr>\n",
       "    <tr>\n",
       "      <th>2017-08-07</th>\n",
       "      <td>972301.508648</td>\n",
       "      <td>49.378696</td>\n",
       "      <td>1669.264126</td>\n",
       "      <td>0</td>\n",
       "    </tr>\n",
       "    <tr>\n",
       "      <th>2017-08-08</th>\n",
       "      <td>762450.129536</td>\n",
       "      <td>49.366704</td>\n",
       "      <td>1621.514156</td>\n",
       "      <td>0</td>\n",
       "    </tr>\n",
       "    <tr>\n",
       "      <th>2017-08-09</th>\n",
       "      <td>697546.336881</td>\n",
       "      <td>49.080659</td>\n",
       "      <td>1586.803604</td>\n",
       "      <td>0</td>\n",
       "    </tr>\n",
       "    <tr>\n",
       "      <th>2017-08-10</th>\n",
       "      <td>731291.399766</td>\n",
       "      <td>49.582135</td>\n",
       "      <td>1602.841191</td>\n",
       "      <td>0</td>\n",
       "    </tr>\n",
       "    <tr>\n",
       "      <th>2017-08-11</th>\n",
       "      <td>719851.465136</td>\n",
       "      <td>48.494176</td>\n",
       "      <td>1704.943817</td>\n",
       "      <td>0</td>\n",
       "    </tr>\n",
       "    <tr>\n",
       "      <th>2017-08-12</th>\n",
       "      <td>876447.872616</td>\n",
       "      <td>48.754313</td>\n",
       "      <td>1760.569370</td>\n",
       "      <td>0</td>\n",
       "    </tr>\n",
       "    <tr>\n",
       "      <th>2017-08-13</th>\n",
       "      <td>773510.035253</td>\n",
       "      <td>47.565028</td>\n",
       "      <td>1725.503244</td>\n",
       "      <td>0</td>\n",
       "    </tr>\n",
       "    <tr>\n",
       "      <th>2017-08-14</th>\n",
       "      <td>833153.770488</td>\n",
       "      <td>47.579916</td>\n",
       "      <td>1681.426143</td>\n",
       "      <td>0</td>\n",
       "    </tr>\n",
       "    <tr>\n",
       "      <th>2017-08-15</th>\n",
       "      <td>744278.946636</td>\n",
       "      <td>47.580661</td>\n",
       "      <td>1656.057688</td>\n",
       "      <td>0</td>\n",
       "    </tr>\n",
       "  </tbody>\n",
       "</table>\n",
       "</div>"
      ],
      "text/plain": [
       "            Predicted Sales  Predicted dcoilwtico  Predicted Transactions  \\\n",
       "date                                                                        \n",
       "2017-08-01    830946.172896             50.259953             1588.018666   \n",
       "2017-08-02    953470.255305             49.156761             1527.881389   \n",
       "2017-08-03    959100.703654             49.616052             1524.160652   \n",
       "2017-08-04    827307.859221             49.014408             1655.046144   \n",
       "2017-08-05    956436.650559             49.478507             1823.869617   \n",
       "2017-08-06    932853.847850             49.333017             1770.076911   \n",
       "2017-08-07    972301.508648             49.378696             1669.264126   \n",
       "2017-08-08    762450.129536             49.366704             1621.514156   \n",
       "2017-08-09    697546.336881             49.080659             1586.803604   \n",
       "2017-08-10    731291.399766             49.582135             1602.841191   \n",
       "2017-08-11    719851.465136             48.494176             1704.943817   \n",
       "2017-08-12    876447.872616             48.754313             1760.569370   \n",
       "2017-08-13    773510.035253             47.565028             1725.503244   \n",
       "2017-08-14    833153.770488             47.579916             1681.426143   \n",
       "2017-08-15    744278.946636             47.580661             1656.057688   \n",
       "\n",
       "            is_holiday  \n",
       "date                    \n",
       "2017-08-01           0  \n",
       "2017-08-02           0  \n",
       "2017-08-03           0  \n",
       "2017-08-04           0  \n",
       "2017-08-05           0  \n",
       "2017-08-06           0  \n",
       "2017-08-07           0  \n",
       "2017-08-08           0  \n",
       "2017-08-09           0  \n",
       "2017-08-10           0  \n",
       "2017-08-11           0  \n",
       "2017-08-12           0  \n",
       "2017-08-13           0  \n",
       "2017-08-14           0  \n",
       "2017-08-15           0  "
      ]
     },
     "execution_count": 77,
     "metadata": {},
     "output_type": "execute_result"
    }
   ],
   "source": [
    "df_test_dates = pd.DataFrame(og_test_set.index)\n",
    "df_var_forecast['Predicted Transactions'] = df_var_forecast['transactions']\n",
    "df_var_forecast_new = pd.concat([df_test_dates, df_sales_new, df_dcoilwtico_new, df_var_forecast[['Predicted Transactions', 'is_holiday']]], axis=1)\n",
    "df_var_forecast_new.set_index('date', inplace=True)\n",
    "df_var_forecast_new"
   ]
  },
  {
   "cell_type": "code",
   "execution_count": 78,
   "id": "06f9fe4f-ca44-4e0d-bb6d-bb1ca77580bc",
   "metadata": {},
   "outputs": [
    {
     "data": {
      "text/html": [
       "<div>\n",
       "<style scoped>\n",
       "    .dataframe tbody tr th:only-of-type {\n",
       "        vertical-align: middle;\n",
       "    }\n",
       "\n",
       "    .dataframe tbody tr th {\n",
       "        vertical-align: top;\n",
       "    }\n",
       "\n",
       "    .dataframe thead th {\n",
       "        text-align: right;\n",
       "    }\n",
       "</style>\n",
       "<table border=\"1\" class=\"dataframe\">\n",
       "  <thead>\n",
       "    <tr style=\"text-align: right;\">\n",
       "      <th></th>\n",
       "      <th>sales</th>\n",
       "      <th>dcoilwtico</th>\n",
       "      <th>transactions</th>\n",
       "      <th>is_holiday</th>\n",
       "      <th>Predicted Sales</th>\n",
       "      <th>Predicted dcoilwtico</th>\n",
       "      <th>Predicted Transactions</th>\n",
       "      <th>is_holiday</th>\n",
       "    </tr>\n",
       "    <tr>\n",
       "      <th>date</th>\n",
       "      <th></th>\n",
       "      <th></th>\n",
       "      <th></th>\n",
       "      <th></th>\n",
       "      <th></th>\n",
       "      <th></th>\n",
       "      <th></th>\n",
       "      <th></th>\n",
       "    </tr>\n",
       "  </thead>\n",
       "  <tbody>\n",
       "    <tr>\n",
       "      <th>2017-08-01</th>\n",
       "      <td>9.885278e+05</td>\n",
       "      <td>49.19</td>\n",
       "      <td>1705.240741</td>\n",
       "      <td>0.0</td>\n",
       "      <td>830946.172896</td>\n",
       "      <td>50.259953</td>\n",
       "      <td>1588.018666</td>\n",
       "      <td>0</td>\n",
       "    </tr>\n",
       "    <tr>\n",
       "      <th>2017-08-02</th>\n",
       "      <td>9.647120e+05</td>\n",
       "      <td>49.60</td>\n",
       "      <td>1722.648148</td>\n",
       "      <td>0.0</td>\n",
       "      <td>953470.255305</td>\n",
       "      <td>49.156761</td>\n",
       "      <td>1527.881389</td>\n",
       "      <td>0</td>\n",
       "    </tr>\n",
       "    <tr>\n",
       "      <th>2017-08-03</th>\n",
       "      <td>7.280685e+05</td>\n",
       "      <td>49.03</td>\n",
       "      <td>1583.722222</td>\n",
       "      <td>0.0</td>\n",
       "      <td>959100.703654</td>\n",
       "      <td>49.616052</td>\n",
       "      <td>1524.160652</td>\n",
       "      <td>0</td>\n",
       "    </tr>\n",
       "    <tr>\n",
       "      <th>2017-08-04</th>\n",
       "      <td>8.277757e+05</td>\n",
       "      <td>49.57</td>\n",
       "      <td>1690.833333</td>\n",
       "      <td>0.0</td>\n",
       "      <td>827307.859221</td>\n",
       "      <td>49.014408</td>\n",
       "      <td>1655.046144</td>\n",
       "      <td>0</td>\n",
       "    </tr>\n",
       "    <tr>\n",
       "      <th>2017-08-05</th>\n",
       "      <td>9.656937e+05</td>\n",
       "      <td>49.37</td>\n",
       "      <td>1872.370370</td>\n",
       "      <td>1.0</td>\n",
       "      <td>956436.650559</td>\n",
       "      <td>49.478507</td>\n",
       "      <td>1823.869617</td>\n",
       "      <td>0</td>\n",
       "    </tr>\n",
       "    <tr>\n",
       "      <th>2017-08-06</th>\n",
       "      <td>1.049559e+06</td>\n",
       "      <td>49.37</td>\n",
       "      <td>1780.777778</td>\n",
       "      <td>0.0</td>\n",
       "      <td>932853.847850</td>\n",
       "      <td>49.333017</td>\n",
       "      <td>1770.076911</td>\n",
       "      <td>0</td>\n",
       "    </tr>\n",
       "    <tr>\n",
       "      <th>2017-08-07</th>\n",
       "      <td>7.974650e+05</td>\n",
       "      <td>49.37</td>\n",
       "      <td>1612.444444</td>\n",
       "      <td>0.0</td>\n",
       "      <td>972301.508648</td>\n",
       "      <td>49.378696</td>\n",
       "      <td>1669.264126</td>\n",
       "      <td>0</td>\n",
       "    </tr>\n",
       "    <tr>\n",
       "      <th>2017-08-08</th>\n",
       "      <td>7.177663e+05</td>\n",
       "      <td>49.07</td>\n",
       "      <td>1544.851852</td>\n",
       "      <td>0.0</td>\n",
       "      <td>762450.129536</td>\n",
       "      <td>49.366704</td>\n",
       "      <td>1621.514156</td>\n",
       "      <td>0</td>\n",
       "    </tr>\n",
       "    <tr>\n",
       "      <th>2017-08-09</th>\n",
       "      <td>7.341397e+05</td>\n",
       "      <td>49.59</td>\n",
       "      <td>1582.444444</td>\n",
       "      <td>0.0</td>\n",
       "      <td>697546.336881</td>\n",
       "      <td>49.080659</td>\n",
       "      <td>1586.803604</td>\n",
       "      <td>0</td>\n",
       "    </tr>\n",
       "    <tr>\n",
       "      <th>2017-08-10</th>\n",
       "      <td>6.513869e+05</td>\n",
       "      <td>48.54</td>\n",
       "      <td>1538.222222</td>\n",
       "      <td>1.0</td>\n",
       "      <td>731291.399766</td>\n",
       "      <td>49.582135</td>\n",
       "      <td>1602.841191</td>\n",
       "      <td>0</td>\n",
       "    </tr>\n",
       "    <tr>\n",
       "      <th>2017-08-11</th>\n",
       "      <td>8.263737e+05</td>\n",
       "      <td>48.81</td>\n",
       "      <td>1658.351852</td>\n",
       "      <td>1.0</td>\n",
       "      <td>719851.465136</td>\n",
       "      <td>48.494176</td>\n",
       "      <td>1704.943817</td>\n",
       "      <td>0</td>\n",
       "    </tr>\n",
       "    <tr>\n",
       "      <th>2017-08-12</th>\n",
       "      <td>7.926305e+05</td>\n",
       "      <td>47.59</td>\n",
       "      <td>1665.314815</td>\n",
       "      <td>0.0</td>\n",
       "      <td>876447.872616</td>\n",
       "      <td>48.754313</td>\n",
       "      <td>1760.569370</td>\n",
       "      <td>0</td>\n",
       "    </tr>\n",
       "    <tr>\n",
       "      <th>2017-08-13</th>\n",
       "      <td>8.656397e+05</td>\n",
       "      <td>47.59</td>\n",
       "      <td>1592.462963</td>\n",
       "      <td>0.0</td>\n",
       "      <td>773510.035253</td>\n",
       "      <td>47.565028</td>\n",
       "      <td>1725.503244</td>\n",
       "      <td>0</td>\n",
       "    </tr>\n",
       "    <tr>\n",
       "      <th>2017-08-14</th>\n",
       "      <td>7.609224e+05</td>\n",
       "      <td>47.59</td>\n",
       "      <td>1582.370370</td>\n",
       "      <td>0.0</td>\n",
       "      <td>833153.770488</td>\n",
       "      <td>47.579916</td>\n",
       "      <td>1681.426143</td>\n",
       "      <td>0</td>\n",
       "    </tr>\n",
       "    <tr>\n",
       "      <th>2017-08-15</th>\n",
       "      <td>7.626619e+05</td>\n",
       "      <td>47.57</td>\n",
       "      <td>1602.981481</td>\n",
       "      <td>1.0</td>\n",
       "      <td>744278.946636</td>\n",
       "      <td>47.580661</td>\n",
       "      <td>1656.057688</td>\n",
       "      <td>0</td>\n",
       "    </tr>\n",
       "  </tbody>\n",
       "</table>\n",
       "</div>"
      ],
      "text/plain": [
       "                   sales  dcoilwtico  transactions  is_holiday  \\\n",
       "date                                                             \n",
       "2017-08-01  9.885278e+05       49.19   1705.240741         0.0   \n",
       "2017-08-02  9.647120e+05       49.60   1722.648148         0.0   \n",
       "2017-08-03  7.280685e+05       49.03   1583.722222         0.0   \n",
       "2017-08-04  8.277757e+05       49.57   1690.833333         0.0   \n",
       "2017-08-05  9.656937e+05       49.37   1872.370370         1.0   \n",
       "2017-08-06  1.049559e+06       49.37   1780.777778         0.0   \n",
       "2017-08-07  7.974650e+05       49.37   1612.444444         0.0   \n",
       "2017-08-08  7.177663e+05       49.07   1544.851852         0.0   \n",
       "2017-08-09  7.341397e+05       49.59   1582.444444         0.0   \n",
       "2017-08-10  6.513869e+05       48.54   1538.222222         1.0   \n",
       "2017-08-11  8.263737e+05       48.81   1658.351852         1.0   \n",
       "2017-08-12  7.926305e+05       47.59   1665.314815         0.0   \n",
       "2017-08-13  8.656397e+05       47.59   1592.462963         0.0   \n",
       "2017-08-14  7.609224e+05       47.59   1582.370370         0.0   \n",
       "2017-08-15  7.626619e+05       47.57   1602.981481         1.0   \n",
       "\n",
       "            Predicted Sales  Predicted dcoilwtico  Predicted Transactions  \\\n",
       "date                                                                        \n",
       "2017-08-01    830946.172896             50.259953             1588.018666   \n",
       "2017-08-02    953470.255305             49.156761             1527.881389   \n",
       "2017-08-03    959100.703654             49.616052             1524.160652   \n",
       "2017-08-04    827307.859221             49.014408             1655.046144   \n",
       "2017-08-05    956436.650559             49.478507             1823.869617   \n",
       "2017-08-06    932853.847850             49.333017             1770.076911   \n",
       "2017-08-07    972301.508648             49.378696             1669.264126   \n",
       "2017-08-08    762450.129536             49.366704             1621.514156   \n",
       "2017-08-09    697546.336881             49.080659             1586.803604   \n",
       "2017-08-10    731291.399766             49.582135             1602.841191   \n",
       "2017-08-11    719851.465136             48.494176             1704.943817   \n",
       "2017-08-12    876447.872616             48.754313             1760.569370   \n",
       "2017-08-13    773510.035253             47.565028             1725.503244   \n",
       "2017-08-14    833153.770488             47.579916             1681.426143   \n",
       "2017-08-15    744278.946636             47.580661             1656.057688   \n",
       "\n",
       "            is_holiday  \n",
       "date                    \n",
       "2017-08-01           0  \n",
       "2017-08-02           0  \n",
       "2017-08-03           0  \n",
       "2017-08-04           0  \n",
       "2017-08-05           0  \n",
       "2017-08-06           0  \n",
       "2017-08-07           0  \n",
       "2017-08-08           0  \n",
       "2017-08-09           0  \n",
       "2017-08-10           0  \n",
       "2017-08-11           0  \n",
       "2017-08-12           0  \n",
       "2017-08-13           0  \n",
       "2017-08-14           0  \n",
       "2017-08-15           0  "
      ]
     },
     "execution_count": 78,
     "metadata": {},
     "output_type": "execute_result"
    }
   ],
   "source": [
    "test_var = og_test_set.copy()\n",
    "df_var_forecast_final = pd.concat([test_var, df_var_forecast_new], axis=1)\n",
    "df_var_forecast_final"
   ]
  },
  {
   "cell_type": "code",
   "execution_count": 79,
   "id": "469e084e-1cf7-40e4-9b1f-abed44164152",
   "metadata": {},
   "outputs": [
    {
     "name": "stdout",
     "output_type": "stream",
     "text": [
      "RMSE: 104799.50135682609\n"
     ]
    }
   ],
   "source": [
    "rmse_VAR = np.sqrt(mean_squared_error(df_var_forecast_final['sales'], df_var_forecast_final['Predicted Sales']))\n",
    "print(f'RMSE: {rmse_VAR}')"
   ]
  },
  {
   "cell_type": "code",
   "execution_count": 80,
   "id": "0e780fed-b596-4dde-af1a-adeba2c8e349",
   "metadata": {},
   "outputs": [],
   "source": [
    "# Function for calculating MAPE\n",
    "def MAPE(y_true, y_pred):\n",
    "    y_true, y_pred = np.array(y_true), np.array(y_pred)\n",
    "\n",
    "    non_zero_mask = y_true != 0\n",
    "    \n",
    "    return np.mean(np.abs((y_true[non_zero_mask] - y_pred[non_zero_mask]) / y_true[non_zero_mask])) * 100"
   ]
  },
  {
   "cell_type": "code",
   "execution_count": 81,
   "id": "9b66a3bc-812e-4368-a41f-aa5724d86f1c",
   "metadata": {},
   "outputs": [
    {
     "data": {
      "text/plain": [
       "np.float64(10.15898146363742)"
      ]
     },
     "execution_count": 81,
     "metadata": {},
     "output_type": "execute_result"
    }
   ],
   "source": [
    "MAPE(df_var_forecast_final['sales'], df_var_forecast_final['Predicted Sales'])"
   ]
  },
  {
   "cell_type": "code",
   "execution_count": 82,
   "id": "635a7bfb-a502-4199-be3c-3a1a6519ffa5",
   "metadata": {},
   "outputs": [
    {
     "data": {
      "text/plain": [
       "<Axes: xlabel='date'>"
      ]
     },
     "execution_count": 82,
     "metadata": {},
     "output_type": "execute_result"
    },
    {
     "data": {
      "image/png": "[encoded data removed]",
      "text/plain": [
       "<Figure size 640x480 with 1 Axes>"
      ]
     },
     "metadata": {},
     "output_type": "display_data"
    }
   ],
   "source": [
    "df_var_forecast_final['sales'].plot(style = '--', color = 'r', legend = True, label = 'Test')\n",
    "df_var_forecast_final['Predicted Sales'].plot(color = 'b', legend = True, label = 'VAR_fc')"
   ]
  },
  {
   "cell_type": "markdown",
   "id": "ef640b13-c4e3-40fc-81fd-7cde74ea9910",
   "metadata": {},
   "source": [
    "#### VECM"
   ]
  },
  {
   "cell_type": "code",
   "execution_count": 86,
   "id": "1727db40-2508-4eb4-9dc2-e66dd36b48c3",
   "metadata": {},
   "outputs": [],
   "source": [
    "training_vecm = df_training.copy()"
   ]
  },
  {
   "cell_type": "code",
   "execution_count": 88,
   "id": "89234792-50f4-43fb-a781-302af05f4335",
   "metadata": {},
   "outputs": [
    {
     "data": {
      "text/plain": [
       "sales            float64\n",
       "dcoilwtico       float64\n",
       "transactions     float64\n",
       "is_holiday      category\n",
       "dtype: object"
      ]
     },
     "execution_count": 88,
     "metadata": {},
     "output_type": "execute_result"
    }
   ],
   "source": [
    "training_vecm.dtypes"
   ]
  },
  {
   "cell_type": "code",
   "execution_count": 89,
   "id": "1549bb19-d4ad-483d-9289-535d9e683f0e",
   "metadata": {},
   "outputs": [
    {
     "name": "stdout",
     "output_type": "stream",
     "text": [
      "Det. terms outside the coint. relation & lagged endog. parameters for equation sales\n",
      "===================================================================================\n",
      "                      coef    std err          z      P>|z|      [0.025      0.975]\n",
      "-----------------------------------------------------------------------------------\n",
      "L1.sales            1.9995      0.079     25.299      0.000       1.845       2.154\n",
      "L1.dcoilwtico   -8093.7770   2481.041     -3.262      0.001    -1.3e+04   -3231.025\n",
      "L1.transactions   240.2554     24.201      9.928      0.000     192.823     287.688\n",
      "L1.is_holiday   -1.341e+04   8237.019     -1.628      0.104   -2.96e+04    2733.781\n",
      "L2.sales            1.3886      0.060     23.058      0.000       1.271       1.507\n",
      "L2.dcoilwtico   -6651.1323   3079.698     -2.160      0.031   -1.27e+04    -615.035\n",
      "L2.transactions    62.3860     25.415      2.455      0.014      12.573     112.199\n",
      "L2.is_holiday    2.517e+04   9519.845      2.644      0.008    6510.445    4.38e+04\n",
      "L3.sales            0.9394      0.039     24.247      0.000       0.864       1.015\n",
      "L3.dcoilwtico   -3611.8753   3080.796     -1.172      0.241   -9650.124    2426.374\n",
      "L3.transactions    61.5683     25.519      2.413      0.016      11.553     111.584\n",
      "L3.is_holiday   -6642.9925   9494.529     -0.700      0.484   -2.53e+04     1.2e+04\n",
      "L4.sales            0.4760      0.021     22.730      0.000       0.435       0.517\n",
      "L4.dcoilwtico   -6437.8545   2476.798     -2.599      0.009   -1.13e+04   -1583.419\n",
      "L4.transactions   132.1749     24.819      5.326      0.000      83.532     180.818\n",
      "L4.is_holiday   -1.426e+04   8179.298     -1.743      0.081   -3.03e+04    1775.415\n",
      "Det. terms outside the coint. relation & lagged endog. parameters for equation dcoilwtico\n",
      "===================================================================================\n",
      "                      coef    std err          z      P>|z|      [0.025      0.975]\n",
      "-----------------------------------------------------------------------------------\n",
      "L1.sales        -6.918e-07   7.61e-07     -0.909      0.364   -2.18e-06    8.01e-07\n",
      "L1.dcoilwtico      -0.8307      0.024    -34.755      0.000      -0.878      -0.784\n",
      "L1.transactions  5.502e-05      0.000      0.236      0.813      -0.000       0.001\n",
      "L1.is_holiday      -0.1187      0.079     -1.495      0.135      -0.274       0.037\n",
      "L2.sales        -3.362e-07    5.8e-07     -0.579      0.562   -1.47e-06    8.01e-07\n",
      "L2.dcoilwtico      -0.6107      0.030    -20.584      0.000      -0.669      -0.553\n",
      "L2.transactions -1.824e-05      0.000     -0.074      0.941      -0.000       0.000\n",
      "L2.is_holiday      -0.1678      0.092     -1.830      0.067      -0.348       0.012\n",
      "L3.sales        -3.892e-07   3.73e-07     -1.043      0.297   -1.12e-06    3.42e-07\n",
      "L3.dcoilwtico      -0.4225      0.030    -14.236      0.000      -0.481      -0.364\n",
      "L3.transactions  5.561e-05      0.000      0.226      0.821      -0.000       0.001\n",
      "L3.is_holiday       0.0448      0.091      0.490      0.624      -0.134       0.224\n",
      "L4.sales        -2.414e-07   2.02e-07     -1.197      0.231   -6.37e-07    1.54e-07\n",
      "L4.dcoilwtico      -0.2250      0.024     -9.429      0.000      -0.272      -0.178\n",
      "L4.transactions  9.907e-05      0.000      0.414      0.679      -0.000       0.001\n",
      "L4.is_holiday       0.1058      0.079      1.343      0.179      -0.049       0.260\n",
      "Det. terms outside the coint. relation & lagged endog. parameters for equation transactions\n",
      "===================================================================================\n",
      "                      coef    std err          z      P>|z|      [0.025      0.975]\n",
      "-----------------------------------------------------------------------------------\n",
      "L1.sales            0.0017      0.000     16.389      0.000       0.001       0.002\n",
      "L1.dcoilwtico      -4.6101      3.163     -1.458      0.145     -10.809       1.589\n",
      "L1.transactions    -0.0912      0.031     -2.956      0.003      -0.152      -0.031\n",
      "L1.is_holiday       8.9763     10.501      0.855      0.393     -11.605      29.557\n",
      "L2.sales            0.0013   7.68e-05     16.752      0.000       0.001       0.001\n",
      "L2.dcoilwtico      -2.1998      3.926     -0.560      0.575      -9.895       5.495\n",
      "L2.transactions    -0.3172      0.032     -9.791      0.000      -0.381      -0.254\n",
      "L2.is_holiday      34.8347     12.136      2.870      0.004      11.048      58.621\n",
      "L3.sales            0.0010   4.94e-05     21.207      0.000       0.001       0.001\n",
      "L3.dcoilwtico      -0.9693      3.927     -0.247      0.805      -8.667       6.728\n",
      "L3.transactions    -0.1867      0.033     -5.738      0.000      -0.250      -0.123\n",
      "L3.is_holiday      -3.5075     12.104     -0.290      0.772     -27.231      20.216\n",
      "L4.sales            0.0006   2.67e-05     23.105      0.000       0.001       0.001\n",
      "L4.dcoilwtico      -4.0582      3.157     -1.285      0.199     -10.247       2.130\n",
      "L4.transactions    -0.1080      0.032     -3.413      0.001      -0.170      -0.046\n",
      "L4.is_holiday     -26.6594     10.427     -2.557      0.011     -47.096      -6.223\n",
      "Det. terms outside the coint. relation & lagged endog. parameters for equation is_holiday\n",
      "===================================================================================\n",
      "                      coef    std err          z      P>|z|      [0.025      0.975]\n",
      "-----------------------------------------------------------------------------------\n",
      "L1.sales         5.329e-07   2.31e-07      2.302      0.021    7.92e-08    9.86e-07\n",
      "L1.dcoilwtico      -0.0114      0.007     -1.570      0.117      -0.026       0.003\n",
      "L1.transactions     0.0005   7.09e-05      7.313      0.000       0.000       0.001\n",
      "L1.is_holiday      -0.6412      0.024    -26.580      0.000      -0.688      -0.594\n",
      "L2.sales         2.876e-07   1.76e-07      1.631      0.103    -5.8e-08    6.33e-07\n",
      "L2.dcoilwtico      -0.0176      0.009     -1.953      0.051      -0.035    6.55e-05\n",
      "L2.transactions     0.0003   7.44e-05      4.524      0.000       0.000       0.000\n",
      "L2.is_holiday      -0.4266      0.028    -15.304      0.000      -0.481      -0.372\n",
      "L3.sales         1.245e-07   1.13e-07      1.097      0.272   -9.79e-08    3.47e-07\n",
      "L3.dcoilwtico      -0.0084      0.009     -0.932      0.351      -0.026       0.009\n",
      "L3.transactions     0.0003   7.47e-05      3.627      0.000       0.000       0.000\n",
      "L3.is_holiday      -0.3207      0.028    -11.534      0.000      -0.375      -0.266\n",
      "L4.sales        -9.934e-08   6.13e-08     -1.620      0.105    -2.2e-07    2.09e-08\n",
      "L4.dcoilwtico      -0.0054      0.007     -0.747      0.455      -0.020       0.009\n",
      "L4.transactions     0.0002   7.27e-05      2.376      0.017    3.03e-05       0.000\n",
      "L4.is_holiday      -0.2021      0.024     -8.437      0.000      -0.249      -0.155\n",
      "               Loading coefficients (alpha) for equation sales                \n",
      "==============================================================================\n",
      "                 coef    std err          z      P>|z|      [0.025      0.975]\n",
      "------------------------------------------------------------------------------\n",
      "ec1           -3.5129      0.094    -37.402      0.000      -3.697      -3.329\n",
      "             Loading coefficients (alpha) for equation dcoilwtico             \n",
      "==============================================================================\n",
      "                 coef    std err          z      P>|z|      [0.025      0.975]\n",
      "------------------------------------------------------------------------------\n",
      "ec1         4.776e-07   9.05e-07      0.528      0.598    -1.3e-06    2.25e-06\n",
      "            Loading coefficients (alpha) for equation transactions            \n",
      "==============================================================================\n",
      "                 coef    std err          z      P>|z|      [0.025      0.975]\n",
      "------------------------------------------------------------------------------\n",
      "ec1           -0.0019      0.000    -15.796      0.000      -0.002      -0.002\n",
      "             Loading coefficients (alpha) for equation is_holiday             \n",
      "==============================================================================\n",
      "                 coef    std err          z      P>|z|      [0.025      0.975]\n",
      "------------------------------------------------------------------------------\n",
      "ec1        -1.056e-06   2.75e-07     -3.838      0.000   -1.59e-06   -5.17e-07\n",
      "          Cointegration relations for loading-coefficients-column 1           \n",
      "==============================================================================\n",
      "                 coef    std err          z      P>|z|      [0.025      0.975]\n",
      "------------------------------------------------------------------------------\n",
      "beta.1         1.0000          0          0      0.000       1.000       1.000\n",
      "beta.2     -1324.8936   1737.843     -0.762      0.446   -4731.003    2081.215\n",
      "beta.3        -0.0646      0.551     -0.117      0.907      -1.144       1.015\n",
      "beta.4        24.5682   3513.156      0.007      0.994   -6861.092    6910.228\n",
      "==============================================================================\n"
     ]
    },
    {
     "name": "stderr",
     "output_type": "stream",
     "text": [
      "/Users/wanderlustzenn/Desktop/projects/base_py/lib/python3.9/site-packages/statsmodels/tsa/base/tsa_model.py:473: ValueWarning: A date index has been provided, but it has no associated frequency information and so will be ignored when e.g. forecasting.\n",
      "  self._init_dates(dates, freq)\n"
     ]
    }
   ],
   "source": [
    "k_ar_diff = 5 - 1 # optimal lag length from VAR model - 1\n",
    "vecm_model = VECM(training_vecm, k_ar_diff=k_ar_diff)\n",
    "vecm_model_fitted = vecm_model.fit()\n",
    "print(vecm_model_fitted.summary())"
   ]
  },
  {
   "cell_type": "code",
   "execution_count": 93,
   "id": "3f5d4095-5d43-4182-8578-cee0f3a71960",
   "metadata": {},
   "outputs": [
    {
     "data": {
      "text/html": [
       "<div>\n",
       "<style scoped>\n",
       "    .dataframe tbody tr th:only-of-type {\n",
       "        vertical-align: middle;\n",
       "    }\n",
       "\n",
       "    .dataframe tbody tr th {\n",
       "        vertical-align: top;\n",
       "    }\n",
       "\n",
       "    .dataframe thead th {\n",
       "        text-align: right;\n",
       "    }\n",
       "</style>\n",
       "<table border=\"1\" class=\"dataframe\">\n",
       "  <thead>\n",
       "    <tr style=\"text-align: right;\">\n",
       "      <th></th>\n",
       "      <th>sales</th>\n",
       "      <th>dcoilwtico</th>\n",
       "      <th>transactions</th>\n",
       "      <th>is_holiday</th>\n",
       "    </tr>\n",
       "  </thead>\n",
       "  <tbody>\n",
       "    <tr>\n",
       "      <th>0</th>\n",
       "      <td>-58095.892264</td>\n",
       "      <td>0.435598</td>\n",
       "      <td>1575.213407</td>\n",
       "      <td>0</td>\n",
       "    </tr>\n",
       "    <tr>\n",
       "      <th>1</th>\n",
       "      <td>-41366.229694</td>\n",
       "      <td>0.325497</td>\n",
       "      <td>1501.292326</td>\n",
       "      <td>0</td>\n",
       "    </tr>\n",
       "    <tr>\n",
       "      <th>2</th>\n",
       "      <td>-10616.739237</td>\n",
       "      <td>0.303246</td>\n",
       "      <td>1491.273916</td>\n",
       "      <td>0</td>\n",
       "    </tr>\n",
       "    <tr>\n",
       "      <th>3</th>\n",
       "      <td>97495.842177</td>\n",
       "      <td>0.178064</td>\n",
       "      <td>1617.362843</td>\n",
       "      <td>0</td>\n",
       "    </tr>\n",
       "    <tr>\n",
       "      <th>4</th>\n",
       "      <td>130159.007809</td>\n",
       "      <td>0.153019</td>\n",
       "      <td>1790.414943</td>\n",
       "      <td>0</td>\n",
       "    </tr>\n",
       "    <tr>\n",
       "      <th>5</th>\n",
       "      <td>-30647.638130</td>\n",
       "      <td>0.262513</td>\n",
       "      <td>1737.480819</td>\n",
       "      <td>0</td>\n",
       "    </tr>\n",
       "    <tr>\n",
       "      <th>6</th>\n",
       "      <td>-78285.335794</td>\n",
       "      <td>0.278649</td>\n",
       "      <td>1632.227072</td>\n",
       "      <td>0</td>\n",
       "    </tr>\n",
       "    <tr>\n",
       "      <th>7</th>\n",
       "      <td>-38396.719234</td>\n",
       "      <td>0.259216</td>\n",
       "      <td>1578.087907</td>\n",
       "      <td>0</td>\n",
       "    </tr>\n",
       "    <tr>\n",
       "      <th>8</th>\n",
       "      <td>-23526.506426</td>\n",
       "      <td>0.263776</td>\n",
       "      <td>1537.972542</td>\n",
       "      <td>0</td>\n",
       "    </tr>\n",
       "    <tr>\n",
       "      <th>9</th>\n",
       "      <td>-3680.667684</td>\n",
       "      <td>0.262041</td>\n",
       "      <td>1553.505556</td>\n",
       "      <td>0</td>\n",
       "    </tr>\n",
       "    <tr>\n",
       "      <th>10</th>\n",
       "      <td>69620.382014</td>\n",
       "      <td>0.232751</td>\n",
       "      <td>1657.525898</td>\n",
       "      <td>0</td>\n",
       "    </tr>\n",
       "    <tr>\n",
       "      <th>11</th>\n",
       "      <td>50289.312155</td>\n",
       "      <td>0.215670</td>\n",
       "      <td>1712.920549</td>\n",
       "      <td>0</td>\n",
       "    </tr>\n",
       "    <tr>\n",
       "      <th>12</th>\n",
       "      <td>-19895.024970</td>\n",
       "      <td>0.239961</td>\n",
       "      <td>1675.554566</td>\n",
       "      <td>0</td>\n",
       "    </tr>\n",
       "    <tr>\n",
       "      <th>13</th>\n",
       "      <td>-34088.727549</td>\n",
       "      <td>0.254470</td>\n",
       "      <td>1627.887678</td>\n",
       "      <td>0</td>\n",
       "    </tr>\n",
       "    <tr>\n",
       "      <th>14</th>\n",
       "      <td>-18512.305422</td>\n",
       "      <td>0.259706</td>\n",
       "      <td>1599.128804</td>\n",
       "      <td>0</td>\n",
       "    </tr>\n",
       "  </tbody>\n",
       "</table>\n",
       "</div>"
      ],
      "text/plain": [
       "            sales  dcoilwtico  transactions  is_holiday\n",
       "0   -58095.892264    0.435598   1575.213407           0\n",
       "1   -41366.229694    0.325497   1501.292326           0\n",
       "2   -10616.739237    0.303246   1491.273916           0\n",
       "3    97495.842177    0.178064   1617.362843           0\n",
       "4   130159.007809    0.153019   1790.414943           0\n",
       "5   -30647.638130    0.262513   1737.480819           0\n",
       "6   -78285.335794    0.278649   1632.227072           0\n",
       "7   -38396.719234    0.259216   1578.087907           0\n",
       "8   -23526.506426    0.263776   1537.972542           0\n",
       "9    -3680.667684    0.262041   1553.505556           0\n",
       "10   69620.382014    0.232751   1657.525898           0\n",
       "11   50289.312155    0.215670   1712.920549           0\n",
       "12  -19895.024970    0.239961   1675.554566           0\n",
       "13  -34088.727549    0.254470   1627.887678           0\n",
       "14  -18512.305422    0.259706   1599.128804           0"
      ]
     },
     "execution_count": 93,
     "metadata": {},
     "output_type": "execute_result"
    }
   ],
   "source": [
    "forecast = vecm_model_fitted.predict(steps=15)\n",
    "df_vecm_forecast = pd.DataFrame(forecast, columns=['sales','dcoilwtico', 'transactions', 'is_holiday'])\n",
    "df_vecm_forecast['is_holiday'] = np.where(df_vecm_forecast['is_holiday'] >= 0.5, 1, 0)\n",
    "df_vecm_forecast"
   ]
  },
  {
   "cell_type": "code",
   "execution_count": 94,
   "id": "e3644871-eaa6-4a9e-acff-c363f169fff3",
   "metadata": {},
   "outputs": [],
   "source": [
    "sales_original = df_new[-16:-1]['sales'].values\n",
    "dcoilwtico_original = df_new[-16:-1]['dcoilwtico'].values\n",
    "\n",
    "sales_new = []\n",
    "for original, change in zip(sales_original, df_vecm_forecast['sales'].values):\n",
    "    new_value = original + change\n",
    "    sales_new.append(new_value)\n",
    "\n",
    "dcoilwtico_new = []\n",
    "for original, change in zip(dcoilwtico_original, df_vecm_forecast['dcoilwtico'].values):\n",
    "    new_value = original + change\n",
    "    dcoilwtico_new.append(new_value)\n",
    "\n",
    "df_sales_new = pd.DataFrame(sales_new, columns=['Predicted Sales'])\n",
    "df_dcoilwtico_new = pd.DataFrame(dcoilwtico_new, columns=['Predicted dcoilwtico'])"
   ]
  },
  {
   "cell_type": "code",
   "execution_count": 95,
   "id": "fa013f01-fe72-4d11-80e6-bbff474a09fb",
   "metadata": {},
   "outputs": [
    {
     "data": {
      "text/html": [
       "<div>\n",
       "<style scoped>\n",
       "    .dataframe tbody tr th:only-of-type {\n",
       "        vertical-align: middle;\n",
       "    }\n",
       "\n",
       "    .dataframe tbody tr th {\n",
       "        vertical-align: top;\n",
       "    }\n",
       "\n",
       "    .dataframe thead th {\n",
       "        text-align: right;\n",
       "    }\n",
       "</style>\n",
       "<table border=\"1\" class=\"dataframe\">\n",
       "  <thead>\n",
       "    <tr style=\"text-align: right;\">\n",
       "      <th></th>\n",
       "      <th>Predicted Sales</th>\n",
       "      <th>Predicted dcoilwtico</th>\n",
       "      <th>Predicted Transactions</th>\n",
       "    </tr>\n",
       "    <tr>\n",
       "      <th>date</th>\n",
       "      <th></th>\n",
       "      <th></th>\n",
       "      <th></th>\n",
       "    </tr>\n",
       "  </thead>\n",
       "  <tbody>\n",
       "    <tr>\n",
       "      <th>2017-08-01</th>\n",
       "      <td>827760.948606</td>\n",
       "      <td>50.645598</td>\n",
       "      <td>1588.018666</td>\n",
       "    </tr>\n",
       "    <tr>\n",
       "      <th>2017-08-02</th>\n",
       "      <td>947161.533510</td>\n",
       "      <td>49.515497</td>\n",
       "      <td>1527.881389</td>\n",
       "    </tr>\n",
       "    <tr>\n",
       "      <th>2017-08-03</th>\n",
       "      <td>954095.276814</td>\n",
       "      <td>49.903246</td>\n",
       "      <td>1524.160652</td>\n",
       "    </tr>\n",
       "    <tr>\n",
       "      <th>2017-08-04</th>\n",
       "      <td>825564.327309</td>\n",
       "      <td>49.208064</td>\n",
       "      <td>1655.046144</td>\n",
       "    </tr>\n",
       "    <tr>\n",
       "      <th>2017-08-05</th>\n",
       "      <td>957934.693937</td>\n",
       "      <td>49.723019</td>\n",
       "      <td>1823.869617</td>\n",
       "    </tr>\n",
       "    <tr>\n",
       "      <th>2017-08-06</th>\n",
       "      <td>935046.012362</td>\n",
       "      <td>49.632513</td>\n",
       "      <td>1770.076911</td>\n",
       "    </tr>\n",
       "    <tr>\n",
       "      <th>2017-08-07</th>\n",
       "      <td>971273.828483</td>\n",
       "      <td>49.648649</td>\n",
       "      <td>1669.264126</td>\n",
       "    </tr>\n",
       "    <tr>\n",
       "      <th>2017-08-08</th>\n",
       "      <td>759068.244583</td>\n",
       "      <td>49.629216</td>\n",
       "      <td>1621.514156</td>\n",
       "    </tr>\n",
       "    <tr>\n",
       "      <th>2017-08-09</th>\n",
       "      <td>694239.842679</td>\n",
       "      <td>49.333776</td>\n",
       "      <td>1586.803604</td>\n",
       "    </tr>\n",
       "    <tr>\n",
       "      <th>2017-08-10</th>\n",
       "      <td>730459.006326</td>\n",
       "      <td>49.852041</td>\n",
       "      <td>1602.841191</td>\n",
       "    </tr>\n",
       "    <tr>\n",
       "      <th>2017-08-11</th>\n",
       "      <td>721007.293984</td>\n",
       "      <td>48.772751</td>\n",
       "      <td>1704.943817</td>\n",
       "    </tr>\n",
       "    <tr>\n",
       "      <th>2017-08-12</th>\n",
       "      <td>876663.034177</td>\n",
       "      <td>49.025670</td>\n",
       "      <td>1760.569370</td>\n",
       "    </tr>\n",
       "    <tr>\n",
       "      <th>2017-08-13</th>\n",
       "      <td>772735.510108</td>\n",
       "      <td>47.829961</td>\n",
       "      <td>1725.503244</td>\n",
       "    </tr>\n",
       "    <tr>\n",
       "      <th>2017-08-14</th>\n",
       "      <td>831550.949922</td>\n",
       "      <td>47.844470</td>\n",
       "      <td>1681.426143</td>\n",
       "    </tr>\n",
       "    <tr>\n",
       "      <th>2017-08-15</th>\n",
       "      <td>742410.100659</td>\n",
       "      <td>47.849706</td>\n",
       "      <td>1656.057688</td>\n",
       "    </tr>\n",
       "  </tbody>\n",
       "</table>\n",
       "</div>"
      ],
      "text/plain": [
       "            Predicted Sales  Predicted dcoilwtico  Predicted Transactions\n",
       "date                                                                     \n",
       "2017-08-01    827760.948606             50.645598             1588.018666\n",
       "2017-08-02    947161.533510             49.515497             1527.881389\n",
       "2017-08-03    954095.276814             49.903246             1524.160652\n",
       "2017-08-04    825564.327309             49.208064             1655.046144\n",
       "2017-08-05    957934.693937             49.723019             1823.869617\n",
       "2017-08-06    935046.012362             49.632513             1770.076911\n",
       "2017-08-07    971273.828483             49.648649             1669.264126\n",
       "2017-08-08    759068.244583             49.629216             1621.514156\n",
       "2017-08-09    694239.842679             49.333776             1586.803604\n",
       "2017-08-10    730459.006326             49.852041             1602.841191\n",
       "2017-08-11    721007.293984             48.772751             1704.943817\n",
       "2017-08-12    876663.034177             49.025670             1760.569370\n",
       "2017-08-13    772735.510108             47.829961             1725.503244\n",
       "2017-08-14    831550.949922             47.844470             1681.426143\n",
       "2017-08-15    742410.100659             47.849706             1656.057688"
      ]
     },
     "execution_count": 95,
     "metadata": {},
     "output_type": "execute_result"
    }
   ],
   "source": [
    "df_test_dates = pd.DataFrame(og_test_set.index)\n",
    "df_vecm_forecast['Predicted Transactions'] = df_var_forecast['transactions']\n",
    "df_vecm_forecast_new = pd.concat([df_test_dates, df_sales_new, df_dcoilwtico_new, df_vecm_forecast['Predicted Transactions']], axis=1)\n",
    "df_vecm_forecast_new.set_index('date', inplace=True)\n",
    "df_vecm_forecast_new"
   ]
  },
  {
   "cell_type": "code",
   "execution_count": 96,
   "id": "486995c0-65ad-47d6-8bcb-2797004de6c6",
   "metadata": {},
   "outputs": [
    {
     "data": {
      "text/html": [
       "<div>\n",
       "<style scoped>\n",
       "    .dataframe tbody tr th:only-of-type {\n",
       "        vertical-align: middle;\n",
       "    }\n",
       "\n",
       "    .dataframe tbody tr th {\n",
       "        vertical-align: top;\n",
       "    }\n",
       "\n",
       "    .dataframe thead th {\n",
       "        text-align: right;\n",
       "    }\n",
       "</style>\n",
       "<table border=\"1\" class=\"dataframe\">\n",
       "  <thead>\n",
       "    <tr style=\"text-align: right;\">\n",
       "      <th></th>\n",
       "      <th>sales</th>\n",
       "      <th>dcoilwtico</th>\n",
       "      <th>transactions</th>\n",
       "      <th>is_holiday</th>\n",
       "      <th>Predicted Sales</th>\n",
       "      <th>Predicted dcoilwtico</th>\n",
       "      <th>Predicted Transactions</th>\n",
       "    </tr>\n",
       "    <tr>\n",
       "      <th>date</th>\n",
       "      <th></th>\n",
       "      <th></th>\n",
       "      <th></th>\n",
       "      <th></th>\n",
       "      <th></th>\n",
       "      <th></th>\n",
       "      <th></th>\n",
       "    </tr>\n",
       "  </thead>\n",
       "  <tbody>\n",
       "    <tr>\n",
       "      <th>2017-08-01</th>\n",
       "      <td>9.885278e+05</td>\n",
       "      <td>49.19</td>\n",
       "      <td>1705.240741</td>\n",
       "      <td>0.0</td>\n",
       "      <td>827760.948606</td>\n",
       "      <td>50.645598</td>\n",
       "      <td>1588.018666</td>\n",
       "    </tr>\n",
       "    <tr>\n",
       "      <th>2017-08-02</th>\n",
       "      <td>9.647120e+05</td>\n",
       "      <td>49.60</td>\n",
       "      <td>1722.648148</td>\n",
       "      <td>0.0</td>\n",
       "      <td>947161.533510</td>\n",
       "      <td>49.515497</td>\n",
       "      <td>1527.881389</td>\n",
       "    </tr>\n",
       "    <tr>\n",
       "      <th>2017-08-03</th>\n",
       "      <td>7.280685e+05</td>\n",
       "      <td>49.03</td>\n",
       "      <td>1583.722222</td>\n",
       "      <td>0.0</td>\n",
       "      <td>954095.276814</td>\n",
       "      <td>49.903246</td>\n",
       "      <td>1524.160652</td>\n",
       "    </tr>\n",
       "    <tr>\n",
       "      <th>2017-08-04</th>\n",
       "      <td>8.277757e+05</td>\n",
       "      <td>49.57</td>\n",
       "      <td>1690.833333</td>\n",
       "      <td>0.0</td>\n",
       "      <td>825564.327309</td>\n",
       "      <td>49.208064</td>\n",
       "      <td>1655.046144</td>\n",
       "    </tr>\n",
       "    <tr>\n",
       "      <th>2017-08-05</th>\n",
       "      <td>9.656937e+05</td>\n",
       "      <td>49.37</td>\n",
       "      <td>1872.370370</td>\n",
       "      <td>1.0</td>\n",
       "      <td>957934.693937</td>\n",
       "      <td>49.723019</td>\n",
       "      <td>1823.869617</td>\n",
       "    </tr>\n",
       "    <tr>\n",
       "      <th>2017-08-06</th>\n",
       "      <td>1.049559e+06</td>\n",
       "      <td>49.37</td>\n",
       "      <td>1780.777778</td>\n",
       "      <td>0.0</td>\n",
       "      <td>935046.012362</td>\n",
       "      <td>49.632513</td>\n",
       "      <td>1770.076911</td>\n",
       "    </tr>\n",
       "    <tr>\n",
       "      <th>2017-08-07</th>\n",
       "      <td>7.974650e+05</td>\n",
       "      <td>49.37</td>\n",
       "      <td>1612.444444</td>\n",
       "      <td>0.0</td>\n",
       "      <td>971273.828483</td>\n",
       "      <td>49.648649</td>\n",
       "      <td>1669.264126</td>\n",
       "    </tr>\n",
       "    <tr>\n",
       "      <th>2017-08-08</th>\n",
       "      <td>7.177663e+05</td>\n",
       "      <td>49.07</td>\n",
       "      <td>1544.851852</td>\n",
       "      <td>0.0</td>\n",
       "      <td>759068.244583</td>\n",
       "      <td>49.629216</td>\n",
       "      <td>1621.514156</td>\n",
       "    </tr>\n",
       "    <tr>\n",
       "      <th>2017-08-09</th>\n",
       "      <td>7.341397e+05</td>\n",
       "      <td>49.59</td>\n",
       "      <td>1582.444444</td>\n",
       "      <td>0.0</td>\n",
       "      <td>694239.842679</td>\n",
       "      <td>49.333776</td>\n",
       "      <td>1586.803604</td>\n",
       "    </tr>\n",
       "    <tr>\n",
       "      <th>2017-08-10</th>\n",
       "      <td>6.513869e+05</td>\n",
       "      <td>48.54</td>\n",
       "      <td>1538.222222</td>\n",
       "      <td>1.0</td>\n",
       "      <td>730459.006326</td>\n",
       "      <td>49.852041</td>\n",
       "      <td>1602.841191</td>\n",
       "    </tr>\n",
       "    <tr>\n",
       "      <th>2017-08-11</th>\n",
       "      <td>8.263737e+05</td>\n",
       "      <td>48.81</td>\n",
       "      <td>1658.351852</td>\n",
       "      <td>1.0</td>\n",
       "      <td>721007.293984</td>\n",
       "      <td>48.772751</td>\n",
       "      <td>1704.943817</td>\n",
       "    </tr>\n",
       "    <tr>\n",
       "      <th>2017-08-12</th>\n",
       "      <td>7.926305e+05</td>\n",
       "      <td>47.59</td>\n",
       "      <td>1665.314815</td>\n",
       "      <td>0.0</td>\n",
       "      <td>876663.034177</td>\n",
       "      <td>49.025670</td>\n",
       "      <td>1760.569370</td>\n",
       "    </tr>\n",
       "    <tr>\n",
       "      <th>2017-08-13</th>\n",
       "      <td>8.656397e+05</td>\n",
       "      <td>47.59</td>\n",
       "      <td>1592.462963</td>\n",
       "      <td>0.0</td>\n",
       "      <td>772735.510108</td>\n",
       "      <td>47.829961</td>\n",
       "      <td>1725.503244</td>\n",
       "    </tr>\n",
       "    <tr>\n",
       "      <th>2017-08-14</th>\n",
       "      <td>7.609224e+05</td>\n",
       "      <td>47.59</td>\n",
       "      <td>1582.370370</td>\n",
       "      <td>0.0</td>\n",
       "      <td>831550.949922</td>\n",
       "      <td>47.844470</td>\n",
       "      <td>1681.426143</td>\n",
       "    </tr>\n",
       "    <tr>\n",
       "      <th>2017-08-15</th>\n",
       "      <td>7.626619e+05</td>\n",
       "      <td>47.57</td>\n",
       "      <td>1602.981481</td>\n",
       "      <td>1.0</td>\n",
       "      <td>742410.100659</td>\n",
       "      <td>47.849706</td>\n",
       "      <td>1656.057688</td>\n",
       "    </tr>\n",
       "  </tbody>\n",
       "</table>\n",
       "</div>"
      ],
      "text/plain": [
       "                   sales  dcoilwtico  transactions  is_holiday  \\\n",
       "date                                                             \n",
       "2017-08-01  9.885278e+05       49.19   1705.240741         0.0   \n",
       "2017-08-02  9.647120e+05       49.60   1722.648148         0.0   \n",
       "2017-08-03  7.280685e+05       49.03   1583.722222         0.0   \n",
       "2017-08-04  8.277757e+05       49.57   1690.833333         0.0   \n",
       "2017-08-05  9.656937e+05       49.37   1872.370370         1.0   \n",
       "2017-08-06  1.049559e+06       49.37   1780.777778         0.0   \n",
       "2017-08-07  7.974650e+05       49.37   1612.444444         0.0   \n",
       "2017-08-08  7.177663e+05       49.07   1544.851852         0.0   \n",
       "2017-08-09  7.341397e+05       49.59   1582.444444         0.0   \n",
       "2017-08-10  6.513869e+05       48.54   1538.222222         1.0   \n",
       "2017-08-11  8.263737e+05       48.81   1658.351852         1.0   \n",
       "2017-08-12  7.926305e+05       47.59   1665.314815         0.0   \n",
       "2017-08-13  8.656397e+05       47.59   1592.462963         0.0   \n",
       "2017-08-14  7.609224e+05       47.59   1582.370370         0.0   \n",
       "2017-08-15  7.626619e+05       47.57   1602.981481         1.0   \n",
       "\n",
       "            Predicted Sales  Predicted dcoilwtico  Predicted Transactions  \n",
       "date                                                                       \n",
       "2017-08-01    827760.948606             50.645598             1588.018666  \n",
       "2017-08-02    947161.533510             49.515497             1527.881389  \n",
       "2017-08-03    954095.276814             49.903246             1524.160652  \n",
       "2017-08-04    825564.327309             49.208064             1655.046144  \n",
       "2017-08-05    957934.693937             49.723019             1823.869617  \n",
       "2017-08-06    935046.012362             49.632513             1770.076911  \n",
       "2017-08-07    971273.828483             49.648649             1669.264126  \n",
       "2017-08-08    759068.244583             49.629216             1621.514156  \n",
       "2017-08-09    694239.842679             49.333776             1586.803604  \n",
       "2017-08-10    730459.006326             49.852041             1602.841191  \n",
       "2017-08-11    721007.293984             48.772751             1704.943817  \n",
       "2017-08-12    876663.034177             49.025670             1760.569370  \n",
       "2017-08-13    772735.510108             47.829961             1725.503244  \n",
       "2017-08-14    831550.949922             47.844470             1681.426143  \n",
       "2017-08-15    742410.100659             47.849706             1656.057688  "
      ]
     },
     "execution_count": 96,
     "metadata": {},
     "output_type": "execute_result"
    }
   ],
   "source": [
    "test_vecm = og_test_set.copy()\n",
    "df_vecm_forecast_final = pd.concat([test_vecm, df_vecm_forecast_new], axis=1)\n",
    "df_vecm_forecast_final"
   ]
  },
  {
   "cell_type": "code",
   "execution_count": 97,
   "id": "16562ef4-5537-4c76-8846-39e63bf16ac6",
   "metadata": {},
   "outputs": [
    {
     "name": "stdout",
     "output_type": "stream",
     "text": [
      "RMSE: 104042.77011987059\n"
     ]
    }
   ],
   "source": [
    "rmse_vecm = np.sqrt(mean_squared_error(df_vecm_forecast_final['sales'], df_vecm_forecast_final['Predicted Sales']))\n",
    "print(f'RMSE: {rmse_vecm}')"
   ]
  },
  {
   "cell_type": "code",
   "execution_count": 98,
   "id": "92cb5a7f-3706-467e-99af-475a6959e8e7",
   "metadata": {},
   "outputs": [
    {
     "data": {
      "text/plain": [
       "np.float64(10.15025011457935)"
      ]
     },
     "execution_count": 98,
     "metadata": {},
     "output_type": "execute_result"
    }
   ],
   "source": [
    "MAPE(df_vecm_forecast_final['sales'], df_vecm_forecast_final['Predicted Sales'])"
   ]
  },
  {
   "cell_type": "code",
   "execution_count": 99,
   "id": "5c0b5408-edc2-4b0f-b6d0-a0fc7bd664e0",
   "metadata": {},
   "outputs": [
    {
     "data": {
      "text/plain": [
       "<Axes: xlabel='date'>"
      ]
     },
     "execution_count": 99,
     "metadata": {},
     "output_type": "execute_result"
    },
    {
     "data": {
      "image/png": "[encoded data removed]",
      "text/plain": [
       "<Figure size 640x480 with 1 Axes>"
      ]
     },
     "metadata": {},
     "output_type": "display_data"
    }
   ],
   "source": [
    "df_vecm_forecast_final['sales'].plot(style = '--', color = 'r', legend = True, label = 'Test')\n",
    "df_vecm_forecast_final['Predicted Sales'].plot(color = 'b', legend = True, label = 'vecm_fc')"
   ]
  },
  {
   "cell_type": "markdown",
   "id": "45e5eee7-1cfe-42f8-a187-ab4bf4fad262",
   "metadata": {},
   "source": [
    "### 4) Conclusion"
   ]
  },
  {
   "cell_type": "markdown",
   "id": "c4096177-84db-4e80-b415-f8e856e4e31f",
   "metadata": {},
   "source": [
    "VECM model performed slightly better than VAR model in predicting Sales, with RMSE of 104042 and MAPE of 10.15%."
   ]
  }
 ],
 "metadata": {
  "kernelspec": {
   "display_name": "Python 3 (ipykernel)",
   "language": "python",
   "name": "python3"
  },
  "language_info": {
   "codemirror_mode": {
    "name": "ipython",
    "version": 3
   },
   "file_extension": ".py",
   "mimetype": "text/x-python",
   "name": "python",
   "nbconvert_exporter": "python",
   "pygments_lexer": "ipython3",
   "version": "3.9.6"
  }
 },
 "nbformat": 4,
 "nbformat_minor": 5
}
