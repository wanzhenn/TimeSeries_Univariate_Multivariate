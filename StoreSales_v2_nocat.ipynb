{
 "cells": [
  {
   "cell_type": "markdown",
   "id": "06ffe70f-c422-4ec7-8efa-5c51fa6eed61",
   "metadata": {},
   "source": [
    "### **Problem Statement:** Predict sales from items sold at Corporación Favorita, a large Ecuadorian-based grocery retailer using Time Series Analysis"
   ]
  },
  {
   "cell_type": "markdown",
   "id": "7e33b5ae-9141-436a-a186-2cc2109ff222",
   "metadata": {},
   "source": [
    "##### - **Method:** Utilized various time series models to predict over the next 15 days and evaluated performance of the models\n",
    "##### - **Approach:** Using data from Kaggle\n",
    "##### - **Metric:** Measure the accuracy of forecasted figures"
   ]
  },
  {
   "cell_type": "markdown",
   "id": "3639440e-6d2a-4904-96ed-75c684c99751",
   "metadata": {},
   "source": [
    "### 1) Import libraries and load data"
   ]
  },
  {
   "cell_type": "code",
   "execution_count": 1,
   "id": "61bd861c-2396-4b0f-ac63-70f4ec857672",
   "metadata": {},
   "outputs": [
    {
     "name": "stderr",
     "output_type": "stream",
     "text": [
      "Importing plotly failed. Interactive plots will not work.\n"
     ]
    }
   ],
   "source": [
    "import pandas as pd\n",
    "import numpy as np\n",
    "import datetime\n",
    "from tqdm import tqdm\n",
    "import warnings\n",
    "warnings.filterwarnings(\"ignore\") \n",
    "\n",
    "import matplotlib.pyplot as plt\n",
    "import seaborn as sns\n",
    "\n",
    "import statsmodels\n",
    "from statsmodels.tsa.stattools import adfuller, coint\n",
    "from statsmodels.tsa.stattools import grangercausalitytests\n",
    "from sklearn.metrics import mean_squared_error\n",
    "\n",
    "from statsmodels.tsa.api import VAR\n",
    "from prophet import Prophet\n",
    "from statsmodels.tsa.vector_ar.vecm import VECM"
   ]
  },
  {
   "cell_type": "code",
   "execution_count": 2,
   "id": "ed0db27f-2464-4a3f-b393-e0c74a810a81",
   "metadata": {},
   "outputs": [],
   "source": [
    "df_oil = pd.read_csv('./oil.csv')\n",
    "df_transactions = pd.read_csv('./transactions.csv')\n",
    "df = pd.read_csv('./train.csv')"
   ]
  },
  {
   "cell_type": "markdown",
   "id": "cc076f13-b1e7-4c4b-9792-87a6a1dabf45",
   "metadata": {},
   "source": [
    "### 2) EDA"
   ]
  },
  {
   "cell_type": "markdown",
   "id": "882c9494-6b85-4809-be85-d33cdb35b28c",
   "metadata": {},
   "source": [
    "#### Oil Price data"
   ]
  },
  {
   "cell_type": "code",
   "execution_count": 3,
   "id": "a16f9cc8-a38d-46bb-b2ba-90ef13db1dd4",
   "metadata": {},
   "outputs": [
    {
     "data": {
      "text/plain": [
       "date           object\n",
       "dcoilwtico    float64\n",
       "dtype: object"
      ]
     },
     "execution_count": 3,
     "metadata": {},
     "output_type": "execute_result"
    }
   ],
   "source": [
    "df_oil.dtypes"
   ]
  },
  {
   "cell_type": "code",
   "execution_count": 4,
   "id": "52f60723-44ba-4edd-ab8e-2ceb09fa8789",
   "metadata": {},
   "outputs": [],
   "source": [
    "df_oil['date'] = pd.to_datetime(df_oil['date'], format='%Y-%m-%d')"
   ]
  },
  {
   "cell_type": "code",
   "execution_count": 5,
   "id": "e9ed1170-9ecc-43f8-99a3-9c91f117e83d",
   "metadata": {},
   "outputs": [
    {
     "data": {
      "text/plain": [
       "date          datetime64[ns]\n",
       "dcoilwtico           float64\n",
       "dtype: object"
      ]
     },
     "execution_count": 5,
     "metadata": {},
     "output_type": "execute_result"
    }
   ],
   "source": [
    "df_oil.dtypes"
   ]
  },
  {
   "cell_type": "code",
   "execution_count": 6,
   "id": "c67a0805-db38-4405-9d5a-1d4c33a4dcba",
   "metadata": {},
   "outputs": [
    {
     "name": "stdout",
     "output_type": "stream",
     "text": [
      "(1218, 2) null: 43\n"
     ]
    },
    {
     "data": {
      "text/html": [
       "<div>\n",
       "<style scoped>\n",
       "    .dataframe tbody tr th:only-of-type {\n",
       "        vertical-align: middle;\n",
       "    }\n",
       "\n",
       "    .dataframe tbody tr th {\n",
       "        vertical-align: top;\n",
       "    }\n",
       "\n",
       "    .dataframe thead th {\n",
       "        text-align: right;\n",
       "    }\n",
       "</style>\n",
       "<table border=\"1\" class=\"dataframe\">\n",
       "  <thead>\n",
       "    <tr style=\"text-align: right;\">\n",
       "      <th></th>\n",
       "      <th>date</th>\n",
       "      <th>dcoilwtico</th>\n",
       "    </tr>\n",
       "  </thead>\n",
       "  <tbody>\n",
       "    <tr>\n",
       "      <th>count</th>\n",
       "      <td>1218</td>\n",
       "      <td>1175.000000</td>\n",
       "    </tr>\n",
       "    <tr>\n",
       "      <th>mean</th>\n",
       "      <td>2015-05-02 12:00:00</td>\n",
       "      <td>67.714366</td>\n",
       "    </tr>\n",
       "    <tr>\n",
       "      <th>min</th>\n",
       "      <td>2013-01-01 00:00:00</td>\n",
       "      <td>26.190000</td>\n",
       "    </tr>\n",
       "    <tr>\n",
       "      <th>25%</th>\n",
       "      <td>2014-03-03 06:00:00</td>\n",
       "      <td>46.405000</td>\n",
       "    </tr>\n",
       "    <tr>\n",
       "      <th>50%</th>\n",
       "      <td>2015-05-02 12:00:00</td>\n",
       "      <td>53.190000</td>\n",
       "    </tr>\n",
       "    <tr>\n",
       "      <th>75%</th>\n",
       "      <td>2016-06-30 18:00:00</td>\n",
       "      <td>95.660000</td>\n",
       "    </tr>\n",
       "    <tr>\n",
       "      <th>max</th>\n",
       "      <td>2017-08-31 00:00:00</td>\n",
       "      <td>110.620000</td>\n",
       "    </tr>\n",
       "    <tr>\n",
       "      <th>std</th>\n",
       "      <td>NaN</td>\n",
       "      <td>25.630476</td>\n",
       "    </tr>\n",
       "  </tbody>\n",
       "</table>\n",
       "</div>"
      ],
      "text/plain": [
       "                      date   dcoilwtico\n",
       "count                 1218  1175.000000\n",
       "mean   2015-05-02 12:00:00    67.714366\n",
       "min    2013-01-01 00:00:00    26.190000\n",
       "25%    2014-03-03 06:00:00    46.405000\n",
       "50%    2015-05-02 12:00:00    53.190000\n",
       "75%    2016-06-30 18:00:00    95.660000\n",
       "max    2017-08-31 00:00:00   110.620000\n",
       "std                    NaN    25.630476"
      ]
     },
     "execution_count": 6,
     "metadata": {},
     "output_type": "execute_result"
    }
   ],
   "source": [
    "print(df_oil.shape, 'null:', df_oil.isnull().sum().sum())\n",
    "df_oil.describe()"
   ]
  },
  {
   "cell_type": "code",
   "execution_count": 7,
   "id": "9571f809-bc9f-404c-8ec5-7537a075b590",
   "metadata": {},
   "outputs": [
    {
     "data": {
      "text/plain": [
       "486"
      ]
     },
     "execution_count": 7,
     "metadata": {},
     "output_type": "execute_result"
    }
   ],
   "source": [
    "full_date_range = pd.date_range(start=df_oil['date'].min(), end=df_oil['date'].max(), freq='D')\n",
    "missing_dates = set(full_date_range) - set(df_oil['date'].unique())\n",
    "missing_dates = list(missing_dates)\n",
    "len(missing_dates)"
   ]
  },
  {
   "cell_type": "code",
   "execution_count": 8,
   "id": "bd7d7b9a-d175-4911-b1e5-1528df1bc64c",
   "metadata": {},
   "outputs": [
    {
     "name": "stdout",
     "output_type": "stream",
     "text": [
      "(1704, 2)\n"
     ]
    }
   ],
   "source": [
    "missing_rows = pd.DataFrame({'date': missing_dates,\n",
    "                             'dcoilwtico': np.nan})\n",
    "missing_rows['date'] = missing_rows['date'].dt.date\n",
    "df_oil['date'] = df_oil['date'].dt.date\n",
    "df_oil_new = pd.concat([missing_rows, df_oil], ignore_index=True)\n",
    "df_oil_new.sort_values(by='date', ascending=True, inplace=True)\n",
    "print(df_oil_new.shape)"
   ]
  },
  {
   "cell_type": "code",
   "execution_count": 9,
   "id": "84531ea1-99c6-4159-9764-7b1dba1e2f0d",
   "metadata": {},
   "outputs": [],
   "source": [
    "df_oil_new['dcoilwtico'].interpolate()\n",
    "df_oil_int = df_oil_new.bfill()"
   ]
  },
  {
   "cell_type": "code",
   "execution_count": 10,
   "id": "2b3131a7-933b-4217-a2f6-f77659f3415e",
   "metadata": {},
   "outputs": [
    {
     "data": {
      "text/plain": [
       "date          0\n",
       "dcoilwtico    0\n",
       "dtype: int64"
      ]
     },
     "execution_count": 10,
     "metadata": {},
     "output_type": "execute_result"
    }
   ],
   "source": [
    "df_oil_int.isnull().sum()"
   ]
  },
  {
   "cell_type": "markdown",
   "id": "4f7acb05-de5d-4bdf-b626-fad85e0cf8e4",
   "metadata": {},
   "source": [
    "#### Transactions data"
   ]
  },
  {
   "cell_type": "code",
   "execution_count": 11,
   "id": "cddc1cb0-9851-4a08-aec6-bbd7e516c7db",
   "metadata": {},
   "outputs": [
    {
     "data": {
      "text/plain": [
       "date            object\n",
       "store_nbr        int64\n",
       "transactions     int64\n",
       "dtype: object"
      ]
     },
     "execution_count": 11,
     "metadata": {},
     "output_type": "execute_result"
    }
   ],
   "source": [
    "df_transactions.dtypes"
   ]
  },
  {
   "cell_type": "code",
   "execution_count": 12,
   "id": "027954c9-9d45-4caf-9539-c933bf225c27",
   "metadata": {},
   "outputs": [],
   "source": [
    "df_transactions['date'] = pd.to_datetime(df_transactions['date'], format='%Y-%m-%d')"
   ]
  },
  {
   "cell_type": "code",
   "execution_count": 13,
   "id": "a6d80e48-3f63-4657-b303-bda882c11996",
   "metadata": {},
   "outputs": [
    {
     "data": {
      "text/plain": [
       "date            datetime64[ns]\n",
       "store_nbr                int64\n",
       "transactions             int64\n",
       "dtype: object"
      ]
     },
     "execution_count": 13,
     "metadata": {},
     "output_type": "execute_result"
    }
   ],
   "source": [
    "df_transactions.dtypes"
   ]
  },
  {
   "cell_type": "code",
   "execution_count": 14,
   "id": "c94f70f2-6922-4c48-b9bf-754863dc2cae",
   "metadata": {},
   "outputs": [
    {
     "name": "stdout",
     "output_type": "stream",
     "text": [
      "(83488, 3) null: 0\n"
     ]
    },
    {
     "data": {
      "text/html": [
       "<div>\n",
       "<style scoped>\n",
       "    .dataframe tbody tr th:only-of-type {\n",
       "        vertical-align: middle;\n",
       "    }\n",
       "\n",
       "    .dataframe tbody tr th {\n",
       "        vertical-align: top;\n",
       "    }\n",
       "\n",
       "    .dataframe thead th {\n",
       "        text-align: right;\n",
       "    }\n",
       "</style>\n",
       "<table border=\"1\" class=\"dataframe\">\n",
       "  <thead>\n",
       "    <tr style=\"text-align: right;\">\n",
       "      <th></th>\n",
       "      <th>date</th>\n",
       "      <th>store_nbr</th>\n",
       "      <th>transactions</th>\n",
       "    </tr>\n",
       "  </thead>\n",
       "  <tbody>\n",
       "    <tr>\n",
       "      <th>count</th>\n",
       "      <td>83488</td>\n",
       "      <td>83488.000000</td>\n",
       "      <td>83488.000000</td>\n",
       "    </tr>\n",
       "    <tr>\n",
       "      <th>mean</th>\n",
       "      <td>2015-05-20 16:07:40.866232064</td>\n",
       "      <td>26.939237</td>\n",
       "      <td>1694.602158</td>\n",
       "    </tr>\n",
       "    <tr>\n",
       "      <th>min</th>\n",
       "      <td>2013-01-01 00:00:00</td>\n",
       "      <td>1.000000</td>\n",
       "      <td>5.000000</td>\n",
       "    </tr>\n",
       "    <tr>\n",
       "      <th>25%</th>\n",
       "      <td>2014-03-27 00:00:00</td>\n",
       "      <td>13.000000</td>\n",
       "      <td>1046.000000</td>\n",
       "    </tr>\n",
       "    <tr>\n",
       "      <th>50%</th>\n",
       "      <td>2015-06-08 00:00:00</td>\n",
       "      <td>27.000000</td>\n",
       "      <td>1393.000000</td>\n",
       "    </tr>\n",
       "    <tr>\n",
       "      <th>75%</th>\n",
       "      <td>2016-07-14 06:00:00</td>\n",
       "      <td>40.000000</td>\n",
       "      <td>2079.000000</td>\n",
       "    </tr>\n",
       "    <tr>\n",
       "      <th>max</th>\n",
       "      <td>2017-08-15 00:00:00</td>\n",
       "      <td>54.000000</td>\n",
       "      <td>8359.000000</td>\n",
       "    </tr>\n",
       "    <tr>\n",
       "      <th>std</th>\n",
       "      <td>NaN</td>\n",
       "      <td>15.608204</td>\n",
       "      <td>963.286644</td>\n",
       "    </tr>\n",
       "  </tbody>\n",
       "</table>\n",
       "</div>"
      ],
      "text/plain": [
       "                                date     store_nbr  transactions\n",
       "count                          83488  83488.000000  83488.000000\n",
       "mean   2015-05-20 16:07:40.866232064     26.939237   1694.602158\n",
       "min              2013-01-01 00:00:00      1.000000      5.000000\n",
       "25%              2014-03-27 00:00:00     13.000000   1046.000000\n",
       "50%              2015-06-08 00:00:00     27.000000   1393.000000\n",
       "75%              2016-07-14 06:00:00     40.000000   2079.000000\n",
       "max              2017-08-15 00:00:00     54.000000   8359.000000\n",
       "std                              NaN     15.608204    963.286644"
      ]
     },
     "execution_count": 14,
     "metadata": {},
     "output_type": "execute_result"
    }
   ],
   "source": [
    "print(df_transactions.shape, 'null:', df_transactions.isnull().sum().sum())\n",
    "df_transactions.describe()"
   ]
  },
  {
   "cell_type": "code",
   "execution_count": 15,
   "id": "08f660a0-f8b8-4edc-ba50-de5671b2e7d4",
   "metadata": {},
   "outputs": [
    {
     "name": "stdout",
     "output_type": "stream",
     "text": [
      "(1682, 2)\n"
     ]
    }
   ],
   "source": [
    "df_transactions_grp = df_transactions[['date', 'transactions']].groupby(by='date').sum()\n",
    "df_transactions_grp.reset_index(inplace=True)\n",
    "print(df_transactions_grp.shape)"
   ]
  },
  {
   "cell_type": "code",
   "execution_count": 16,
   "id": "df8af386-4bb4-459f-a3df-ad8826f544eb",
   "metadata": {},
   "outputs": [
    {
     "data": {
      "text/plain": [
       "6"
      ]
     },
     "execution_count": 16,
     "metadata": {},
     "output_type": "execute_result"
    }
   ],
   "source": [
    "full_date_range = pd.date_range(start=df_transactions_grp['date'].min(), end=df_transactions_grp['date'].max(), freq='D')\n",
    "missing_dates = set(full_date_range) - set(df_transactions_grp['date'].unique())\n",
    "missing_dates = list(missing_dates)\n",
    "len(missing_dates)"
   ]
  },
  {
   "cell_type": "code",
   "execution_count": 17,
   "id": "46d924fc-a14b-409a-b1e7-b10da0d79e37",
   "metadata": {},
   "outputs": [
    {
     "data": {
      "text/html": [
       "<div>\n",
       "<style scoped>\n",
       "    .dataframe tbody tr th:only-of-type {\n",
       "        vertical-align: middle;\n",
       "    }\n",
       "\n",
       "    .dataframe tbody tr th {\n",
       "        vertical-align: top;\n",
       "    }\n",
       "\n",
       "    .dataframe thead th {\n",
       "        text-align: right;\n",
       "    }\n",
       "</style>\n",
       "<table border=\"1\" class=\"dataframe\">\n",
       "  <thead>\n",
       "    <tr style=\"text-align: right;\">\n",
       "      <th></th>\n",
       "      <th>date</th>\n",
       "      <th>transactions</th>\n",
       "    </tr>\n",
       "  </thead>\n",
       "  <tbody>\n",
       "    <tr>\n",
       "      <th>0</th>\n",
       "      <td>2016-12-25</td>\n",
       "      <td>NaN</td>\n",
       "    </tr>\n",
       "    <tr>\n",
       "      <th>1</th>\n",
       "      <td>2016-01-03</td>\n",
       "      <td>NaN</td>\n",
       "    </tr>\n",
       "    <tr>\n",
       "      <th>2</th>\n",
       "      <td>2015-12-25</td>\n",
       "      <td>NaN</td>\n",
       "    </tr>\n",
       "    <tr>\n",
       "      <th>3</th>\n",
       "      <td>2016-01-01</td>\n",
       "      <td>NaN</td>\n",
       "    </tr>\n",
       "    <tr>\n",
       "      <th>4</th>\n",
       "      <td>2014-12-25</td>\n",
       "      <td>NaN</td>\n",
       "    </tr>\n",
       "    <tr>\n",
       "      <th>5</th>\n",
       "      <td>2013-12-25</td>\n",
       "      <td>NaN</td>\n",
       "    </tr>\n",
       "  </tbody>\n",
       "</table>\n",
       "</div>"
      ],
      "text/plain": [
       "        date  transactions\n",
       "0 2016-12-25           NaN\n",
       "1 2016-01-03           NaN\n",
       "2 2015-12-25           NaN\n",
       "3 2016-01-01           NaN\n",
       "4 2014-12-25           NaN\n",
       "5 2013-12-25           NaN"
      ]
     },
     "execution_count": 17,
     "metadata": {},
     "output_type": "execute_result"
    }
   ],
   "source": [
    "missing_rows = pd.DataFrame({'date': missing_dates,\n",
    "                             'transactions': np.nan})\n",
    "missing_rows['date'] = pd.to_datetime(missing_rows['date'], format='%Y-%m-%d')\n",
    "missing_rows"
   ]
  },
  {
   "cell_type": "code",
   "execution_count": 18,
   "id": "740010c5-3c70-4ebb-8b5e-54a2a12f8922",
   "metadata": {},
   "outputs": [
    {
     "name": "stdout",
     "output_type": "stream",
     "text": [
      "(1688, 2)\n"
     ]
    }
   ],
   "source": [
    "df_transactions_grp['date'] = pd.to_datetime(df_transactions_grp['date'], format='%Y-%m-%d')\n",
    "df_transactions_grp_new = pd.concat([missing_rows, df_transactions_grp], ignore_index=True)\n",
    "df_transactions_grp_new.sort_values(by='date', ascending=True, inplace=True)\n",
    "print(df_transactions_grp_new.shape)"
   ]
  },
  {
   "cell_type": "code",
   "execution_count": 19,
   "id": "86d6b324-9ece-44d3-823a-4045e41c2504",
   "metadata": {},
   "outputs": [],
   "source": [
    "df_transactions_grp_new['transactions'].interpolate()\n",
    "df_transactions_grp_int = df_transactions_grp_new.ffill()"
   ]
  },
  {
   "cell_type": "code",
   "execution_count": 20,
   "id": "20102f69-7543-4b0d-b7d5-dc0a01febd7e",
   "metadata": {},
   "outputs": [
    {
     "data": {
      "text/plain": [
       "date            0\n",
       "transactions    0\n",
       "dtype: int64"
      ]
     },
     "execution_count": 20,
     "metadata": {},
     "output_type": "execute_result"
    }
   ],
   "source": [
    "df_transactions_grp_int.isnull().sum()"
   ]
  },
  {
   "cell_type": "code",
   "execution_count": 21,
   "id": "16bc2aff-3b2a-4093-8d89-cead3744d897",
   "metadata": {},
   "outputs": [
    {
     "data": {
      "text/plain": [
       "date            datetime64[ns]\n",
       "transactions           float64\n",
       "dtype: object"
      ]
     },
     "execution_count": 21,
     "metadata": {},
     "output_type": "execute_result"
    }
   ],
   "source": [
    "df_transactions_grp_int.dtypes"
   ]
  },
  {
   "cell_type": "markdown",
   "id": "4fb3b2c9-5411-4c39-a6b8-2f69fc8d2253",
   "metadata": {},
   "source": [
    "#### df data"
   ]
  },
  {
   "cell_type": "code",
   "execution_count": 22,
   "id": "a960024d-4d79-4217-b917-b6f551b669d4",
   "metadata": {},
   "outputs": [
    {
     "data": {
      "text/plain": [
       "date      object\n",
       "sales    float64\n",
       "dtype: object"
      ]
     },
     "execution_count": 22,
     "metadata": {},
     "output_type": "execute_result"
    }
   ],
   "source": [
    "df[['date', 'sales']].dtypes"
   ]
  },
  {
   "cell_type": "code",
   "execution_count": 23,
   "id": "65c9c574-d49f-4bfb-8e26-eb7e5e634a21",
   "metadata": {},
   "outputs": [
    {
     "name": "stdout",
     "output_type": "stream",
     "text": [
      "(1684, 2)\n"
     ]
    }
   ],
   "source": [
    "df['date'] = pd.to_datetime(df['date'], format='%Y-%m-%d')\n",
    "df_grp = df[['date', 'sales']].groupby(by='date').sum()\n",
    "df_grp.reset_index(inplace=True)\n",
    "print(df_grp.shape)"
   ]
  },
  {
   "cell_type": "code",
   "execution_count": 24,
   "id": "31b0e959-9155-4898-a741-c88a4ce06963",
   "metadata": {},
   "outputs": [
    {
     "data": {
      "text/plain": [
       "date     datetime64[ns]\n",
       "sales           float64\n",
       "dtype: object"
      ]
     },
     "execution_count": 24,
     "metadata": {},
     "output_type": "execute_result"
    }
   ],
   "source": [
    "df_grp.dtypes"
   ]
  },
  {
   "cell_type": "code",
   "execution_count": 25,
   "id": "53b9473b-80c4-49ba-946f-e3a1b066f53b",
   "metadata": {},
   "outputs": [
    {
     "data": {
      "text/plain": [
       "date     0\n",
       "sales    0\n",
       "dtype: int64"
      ]
     },
     "execution_count": 25,
     "metadata": {},
     "output_type": "execute_result"
    }
   ],
   "source": [
    "df_grp.isnull().sum()"
   ]
  },
  {
   "cell_type": "code",
   "execution_count": 26,
   "id": "1e71d40c-4c97-4901-91ef-4ee3b0e94a73",
   "metadata": {},
   "outputs": [
    {
     "data": {
      "text/html": [
       "<div>\n",
       "<style scoped>\n",
       "    .dataframe tbody tr th:only-of-type {\n",
       "        vertical-align: middle;\n",
       "    }\n",
       "\n",
       "    .dataframe tbody tr th {\n",
       "        vertical-align: top;\n",
       "    }\n",
       "\n",
       "    .dataframe thead th {\n",
       "        text-align: right;\n",
       "    }\n",
       "</style>\n",
       "<table border=\"1\" class=\"dataframe\">\n",
       "  <thead>\n",
       "    <tr style=\"text-align: right;\">\n",
       "      <th></th>\n",
       "      <th>date</th>\n",
       "      <th>sales</th>\n",
       "    </tr>\n",
       "  </thead>\n",
       "  <tbody>\n",
       "    <tr>\n",
       "      <th>count</th>\n",
       "      <td>1684</td>\n",
       "      <td>1.684000e+03</td>\n",
       "    </tr>\n",
       "    <tr>\n",
       "      <th>mean</th>\n",
       "      <td>2015-04-24 08:27:04.703088128</td>\n",
       "      <td>6.375564e+05</td>\n",
       "    </tr>\n",
       "    <tr>\n",
       "      <th>min</th>\n",
       "      <td>2013-01-01 00:00:00</td>\n",
       "      <td>2.511619e+03</td>\n",
       "    </tr>\n",
       "    <tr>\n",
       "      <th>25%</th>\n",
       "      <td>2014-02-26 18:00:00</td>\n",
       "      <td>4.427115e+05</td>\n",
       "    </tr>\n",
       "    <tr>\n",
       "      <th>50%</th>\n",
       "      <td>2015-04-24 12:00:00</td>\n",
       "      <td>6.321889e+05</td>\n",
       "    </tr>\n",
       "    <tr>\n",
       "      <th>75%</th>\n",
       "      <td>2016-06-19 06:00:00</td>\n",
       "      <td>7.859455e+05</td>\n",
       "    </tr>\n",
       "    <tr>\n",
       "      <th>max</th>\n",
       "      <td>2017-08-15 00:00:00</td>\n",
       "      <td>1.463084e+06</td>\n",
       "    </tr>\n",
       "    <tr>\n",
       "      <th>std</th>\n",
       "      <td>NaN</td>\n",
       "      <td>2.344102e+05</td>\n",
       "    </tr>\n",
       "  </tbody>\n",
       "</table>\n",
       "</div>"
      ],
      "text/plain": [
       "                                date         sales\n",
       "count                           1684  1.684000e+03\n",
       "mean   2015-04-24 08:27:04.703088128  6.375564e+05\n",
       "min              2013-01-01 00:00:00  2.511619e+03\n",
       "25%              2014-02-26 18:00:00  4.427115e+05\n",
       "50%              2015-04-24 12:00:00  6.321889e+05\n",
       "75%              2016-06-19 06:00:00  7.859455e+05\n",
       "max              2017-08-15 00:00:00  1.463084e+06\n",
       "std                              NaN  2.344102e+05"
      ]
     },
     "execution_count": 26,
     "metadata": {},
     "output_type": "execute_result"
    }
   ],
   "source": [
    "df_grp.describe()"
   ]
  },
  {
   "cell_type": "code",
   "execution_count": 27,
   "id": "58421953-a60c-40dc-8060-155cf04c40a9",
   "metadata": {},
   "outputs": [
    {
     "data": {
      "text/plain": [
       "dtype('O')"
      ]
     },
     "execution_count": 27,
     "metadata": {},
     "output_type": "execute_result"
    }
   ],
   "source": [
    "df_oil_int['date'].dtype"
   ]
  },
  {
   "cell_type": "code",
   "execution_count": 28,
   "id": "e0b6382e-f760-4854-a66f-0b9dd771b6ac",
   "metadata": {},
   "outputs": [
    {
     "name": "stdout",
     "output_type": "stream",
     "text": [
      "(1684, 3)\n"
     ]
    },
    {
     "data": {
      "text/html": [
       "<div>\n",
       "<style scoped>\n",
       "    .dataframe tbody tr th:only-of-type {\n",
       "        vertical-align: middle;\n",
       "    }\n",
       "\n",
       "    .dataframe tbody tr th {\n",
       "        vertical-align: top;\n",
       "    }\n",
       "\n",
       "    .dataframe thead th {\n",
       "        text-align: right;\n",
       "    }\n",
       "</style>\n",
       "<table border=\"1\" class=\"dataframe\">\n",
       "  <thead>\n",
       "    <tr style=\"text-align: right;\">\n",
       "      <th></th>\n",
       "      <th>date</th>\n",
       "      <th>sales</th>\n",
       "      <th>dcoilwtico</th>\n",
       "    </tr>\n",
       "  </thead>\n",
       "  <tbody>\n",
       "    <tr>\n",
       "      <th>0</th>\n",
       "      <td>2013-01-01</td>\n",
       "      <td>2511.618999</td>\n",
       "      <td>93.14</td>\n",
       "    </tr>\n",
       "    <tr>\n",
       "      <th>1</th>\n",
       "      <td>2013-01-02</td>\n",
       "      <td>496092.417944</td>\n",
       "      <td>93.14</td>\n",
       "    </tr>\n",
       "    <tr>\n",
       "      <th>2</th>\n",
       "      <td>2013-01-03</td>\n",
       "      <td>361461.231124</td>\n",
       "      <td>92.97</td>\n",
       "    </tr>\n",
       "    <tr>\n",
       "      <th>3</th>\n",
       "      <td>2013-01-04</td>\n",
       "      <td>354459.677093</td>\n",
       "      <td>93.12</td>\n",
       "    </tr>\n",
       "    <tr>\n",
       "      <th>4</th>\n",
       "      <td>2013-01-05</td>\n",
       "      <td>477350.121229</td>\n",
       "      <td>93.20</td>\n",
       "    </tr>\n",
       "  </tbody>\n",
       "</table>\n",
       "</div>"
      ],
      "text/plain": [
       "        date          sales  dcoilwtico\n",
       "0 2013-01-01    2511.618999       93.14\n",
       "1 2013-01-02  496092.417944       93.14\n",
       "2 2013-01-03  361461.231124       92.97\n",
       "3 2013-01-04  354459.677093       93.12\n",
       "4 2013-01-05  477350.121229       93.20"
      ]
     },
     "execution_count": 28,
     "metadata": {},
     "output_type": "execute_result"
    }
   ],
   "source": [
    "df_oil_int['date'] = pd.to_datetime(df_oil_int['date'], format='%Y-%m-%d')\n",
    "df_new = pd.merge(df_grp, df_oil_int, how='left', on=['date'])\n",
    "print(df_new.shape)\n",
    "df_new.head()"
   ]
  },
  {
   "cell_type": "code",
   "execution_count": 29,
   "id": "7c5bb9d2-d590-4960-9635-a17a29d36048",
   "metadata": {},
   "outputs": [
    {
     "name": "stdout",
     "output_type": "stream",
     "text": [
      "(1684, 3)\n"
     ]
    },
    {
     "data": {
      "text/html": [
       "<div>\n",
       "<style scoped>\n",
       "    .dataframe tbody tr th:only-of-type {\n",
       "        vertical-align: middle;\n",
       "    }\n",
       "\n",
       "    .dataframe tbody tr th {\n",
       "        vertical-align: top;\n",
       "    }\n",
       "\n",
       "    .dataframe thead th {\n",
       "        text-align: right;\n",
       "    }\n",
       "</style>\n",
       "<table border=\"1\" class=\"dataframe\">\n",
       "  <thead>\n",
       "    <tr style=\"text-align: right;\">\n",
       "      <th></th>\n",
       "      <th>sales</th>\n",
       "      <th>dcoilwtico</th>\n",
       "      <th>transactions</th>\n",
       "    </tr>\n",
       "    <tr>\n",
       "      <th>date</th>\n",
       "      <th></th>\n",
       "      <th></th>\n",
       "      <th></th>\n",
       "    </tr>\n",
       "  </thead>\n",
       "  <tbody>\n",
       "    <tr>\n",
       "      <th>2013-01-01</th>\n",
       "      <td>2511.618999</td>\n",
       "      <td>93.14</td>\n",
       "      <td>770.0</td>\n",
       "    </tr>\n",
       "    <tr>\n",
       "      <th>2013-01-02</th>\n",
       "      <td>496092.417944</td>\n",
       "      <td>93.14</td>\n",
       "      <td>93215.0</td>\n",
       "    </tr>\n",
       "    <tr>\n",
       "      <th>2013-01-03</th>\n",
       "      <td>361461.231124</td>\n",
       "      <td>92.97</td>\n",
       "      <td>78504.0</td>\n",
       "    </tr>\n",
       "    <tr>\n",
       "      <th>2013-01-04</th>\n",
       "      <td>354459.677093</td>\n",
       "      <td>93.12</td>\n",
       "      <td>78494.0</td>\n",
       "    </tr>\n",
       "    <tr>\n",
       "      <th>2013-01-05</th>\n",
       "      <td>477350.121229</td>\n",
       "      <td>93.20</td>\n",
       "      <td>93573.0</td>\n",
       "    </tr>\n",
       "  </tbody>\n",
       "</table>\n",
       "</div>"
      ],
      "text/plain": [
       "                    sales  dcoilwtico  transactions\n",
       "date                                               \n",
       "2013-01-01    2511.618999       93.14         770.0\n",
       "2013-01-02  496092.417944       93.14       93215.0\n",
       "2013-01-03  361461.231124       92.97       78504.0\n",
       "2013-01-04  354459.677093       93.12       78494.0\n",
       "2013-01-05  477350.121229       93.20       93573.0"
      ]
     },
     "execution_count": 29,
     "metadata": {},
     "output_type": "execute_result"
    }
   ],
   "source": [
    "df_transactions_grp_int['date'] = pd.to_datetime(df_transactions_grp_int['date'], format='%Y-%m-%d')\n",
    "df_new = pd.merge(df_new, df_transactions_grp_int, how='left', on=['date'])\n",
    "df_new.set_index('date', inplace=True)\n",
    "print(df_new.shape)\n",
    "df_new.head()"
   ]
  },
  {
   "cell_type": "code",
   "execution_count": 30,
   "id": "a1fe72ed-aa7a-4f17-b619-700877bf3e65",
   "metadata": {},
   "outputs": [
    {
     "data": {
      "text/plain": [
       "sales           0\n",
       "dcoilwtico      0\n",
       "transactions    0\n",
       "dtype: int64"
      ]
     },
     "execution_count": 30,
     "metadata": {},
     "output_type": "execute_result"
    }
   ],
   "source": [
    "df_new.isnull().sum()"
   ]
  },
  {
   "cell_type": "code",
   "execution_count": 31,
   "id": "f2ca468f-fd34-4456-a38e-151eb4812237",
   "metadata": {},
   "outputs": [
    {
     "data": {
      "text/html": [
       "<div>\n",
       "<style scoped>\n",
       "    .dataframe tbody tr th:only-of-type {\n",
       "        vertical-align: middle;\n",
       "    }\n",
       "\n",
       "    .dataframe tbody tr th {\n",
       "        vertical-align: top;\n",
       "    }\n",
       "\n",
       "    .dataframe thead th {\n",
       "        text-align: right;\n",
       "    }\n",
       "</style>\n",
       "<table border=\"1\" class=\"dataframe\">\n",
       "  <thead>\n",
       "    <tr style=\"text-align: right;\">\n",
       "      <th></th>\n",
       "      <th>sales</th>\n",
       "      <th>dcoilwtico</th>\n",
       "      <th>transactions</th>\n",
       "    </tr>\n",
       "  </thead>\n",
       "  <tbody>\n",
       "    <tr>\n",
       "      <th>count</th>\n",
       "      <td>1.684000e+03</td>\n",
       "      <td>1684.000000</td>\n",
       "      <td>1684.000000</td>\n",
       "    </tr>\n",
       "    <tr>\n",
       "      <th>mean</th>\n",
       "      <td>6.375564e+05</td>\n",
       "      <td>67.862162</td>\n",
       "      <td>84133.253563</td>\n",
       "    </tr>\n",
       "    <tr>\n",
       "      <th>std</th>\n",
       "      <td>2.344102e+05</td>\n",
       "      <td>25.711860</td>\n",
       "      <td>12325.363730</td>\n",
       "    </tr>\n",
       "    <tr>\n",
       "      <th>min</th>\n",
       "      <td>2.511619e+03</td>\n",
       "      <td>26.190000</td>\n",
       "      <td>770.000000</td>\n",
       "    </tr>\n",
       "    <tr>\n",
       "      <th>25%</th>\n",
       "      <td>4.427115e+05</td>\n",
       "      <td>46.320000</td>\n",
       "      <td>76265.250000</td>\n",
       "    </tr>\n",
       "    <tr>\n",
       "      <th>50%</th>\n",
       "      <td>6.321889e+05</td>\n",
       "      <td>53.190000</td>\n",
       "      <td>81569.500000</td>\n",
       "    </tr>\n",
       "    <tr>\n",
       "      <th>75%</th>\n",
       "      <td>7.859455e+05</td>\n",
       "      <td>95.802500</td>\n",
       "      <td>90781.000000</td>\n",
       "    </tr>\n",
       "    <tr>\n",
       "      <th>max</th>\n",
       "      <td>1.463084e+06</td>\n",
       "      <td>110.620000</td>\n",
       "      <td>171169.000000</td>\n",
       "    </tr>\n",
       "  </tbody>\n",
       "</table>\n",
       "</div>"
      ],
      "text/plain": [
       "              sales   dcoilwtico   transactions\n",
       "count  1.684000e+03  1684.000000    1684.000000\n",
       "mean   6.375564e+05    67.862162   84133.253563\n",
       "std    2.344102e+05    25.711860   12325.363730\n",
       "min    2.511619e+03    26.190000     770.000000\n",
       "25%    4.427115e+05    46.320000   76265.250000\n",
       "50%    6.321889e+05    53.190000   81569.500000\n",
       "75%    7.859455e+05    95.802500   90781.000000\n",
       "max    1.463084e+06   110.620000  171169.000000"
      ]
     },
     "execution_count": 31,
     "metadata": {},
     "output_type": "execute_result"
    }
   ],
   "source": [
    "df_new.describe()"
   ]
  },
  {
   "cell_type": "code",
   "execution_count": 32,
   "id": "d254bfa7-d716-418b-9bb8-c79b88c31830",
   "metadata": {},
   "outputs": [
    {
     "data": {
      "text/plain": [
       "1684"
      ]
     },
     "execution_count": 32,
     "metadata": {},
     "output_type": "execute_result"
    }
   ],
   "source": [
    "df_new.shape[0]"
   ]
  },
  {
   "cell_type": "code",
   "execution_count": 33,
   "id": "ed1dce5f-8d0b-4de7-ad82-5f9815b559f7",
   "metadata": {},
   "outputs": [],
   "source": [
    "test_size = 15\n",
    "og_training_set, og_test_set = df_new[:-test_size], df_new[-test_size:]"
   ]
  },
  {
   "cell_type": "markdown",
   "id": "20e86b9e-7e5e-4dc8-bae7-77dfd71ec0ea",
   "metadata": {},
   "source": [
    "**Observation:**\n",
    "- Train data: 2013 - Mid Aug 2017\n",
    "- Oil data: 2013 - End Aug 2017\n",
    "- Transaction data: 2013 - Mid Aug 2017"
   ]
  },
  {
   "cell_type": "code",
   "execution_count": 34,
   "id": "a201b179-d777-41d3-835f-b79e3603389d",
   "metadata": {},
   "outputs": [
    {
     "data": {
      "text/plain": [
       "sales           float64\n",
       "dcoilwtico      float64\n",
       "transactions    float64\n",
       "dtype: object"
      ]
     },
     "execution_count": 34,
     "metadata": {},
     "output_type": "execute_result"
    }
   ],
   "source": [
    "og_training_set.dtypes"
   ]
  },
  {
   "cell_type": "markdown",
   "id": "34585e4d-21f8-466e-bb92-dd3e94f38abd",
   "metadata": {},
   "source": [
    "#### ADF test"
   ]
  },
  {
   "cell_type": "code",
   "execution_count": 35,
   "id": "5cc77140-54f4-4ec2-aa85-7426d7538ed8",
   "metadata": {},
   "outputs": [],
   "source": [
    "def adf_test(series):\n",
    "    result = adfuller(series)\n",
    "    print('ADF Statistic:', result[0])\n",
    "    print('p-value:', result[1])\n",
    "    print('Critical Values:', result[4])\n",
    "    \n",
    "    if result[1] < 0.05:\n",
    "        print(\"Reject the null hypothesis - The series is stationary\")\n",
    "    else:\n",
    "        print(\"Fail to reject the null hypothesis - The series is non-stationary\")"
   ]
  },
  {
   "cell_type": "code",
   "execution_count": 36,
   "id": "e4cb6bf3-a257-4ef3-95ea-97010c77d6b4",
   "metadata": {},
   "outputs": [
    {
     "name": "stderr",
     "output_type": "stream",
     "text": [
      "100%|█████████████████████████████████████████████| 3/3 [00:00<00:00, 38.89it/s]"
     ]
    },
    {
     "name": "stdout",
     "output_type": "stream",
     "text": [
      "sales\n",
      "ADF Statistic: -2.537990117612831\n",
      "p-value: 0.10650235986862733\n",
      "Critical Values: {'1%': np.float64(-3.4343290567280453), '5%': np.float64(-2.863297525562038), '10%': np.float64(-2.5677056661976674)}\n",
      "Fail to reject the null hypothesis - The series is non-stationary\n",
      "dcoilwtico\n",
      "ADF Statistic: -0.9323176362084944\n",
      "p-value: 0.7771435768007593\n",
      "Critical Values: {'1%': np.float64(-3.43427885313169), '5%': np.float64(-2.863275365507293), '10%': np.float64(-2.5676938662645394)}\n",
      "Fail to reject the null hypothesis - The series is non-stationary\n",
      "transactions\n",
      "ADF Statistic: -6.325188715983935\n",
      "p-value: 2.9984201692608855e-08\n",
      "Critical Values: {'1%': np.float64(-3.4343290567280453), '5%': np.float64(-2.863297525562038), '10%': np.float64(-2.5677056661976674)}\n",
      "Reject the null hypothesis - The series is stationary\n"
     ]
    },
    {
     "name": "stderr",
     "output_type": "stream",
     "text": [
      "\n"
     ]
    }
   ],
   "source": [
    "for variable in tqdm(og_training_set.columns.tolist()):\n",
    "    print(variable)\n",
    "    adf_test(og_training_set[variable])"
   ]
  },
  {
   "cell_type": "code",
   "execution_count": 37,
   "id": "b00f99f9-d333-4420-becd-e35e5897276e",
   "metadata": {},
   "outputs": [],
   "source": [
    "training_set = og_training_set.copy()\n",
    "training_set['sales'] = training_set['sales'].diff()\n",
    "training_set['sales'].replace([np.inf, -np.inf], np.nan, inplace=True)\n",
    "training_set.dropna(subset=['sales'], inplace=True)\n",
    "\n",
    "training_set['dcoilwtico'] = training_set['dcoilwtico'].diff()\n",
    "training_set['dcoilwtico'].replace([np.inf, -np.inf], np.nan, inplace=True)\n",
    "training_set.dropna(subset=['dcoilwtico'], inplace=True)"
   ]
  },
  {
   "cell_type": "code",
   "execution_count": 38,
   "id": "a77574c2-951b-43ee-ba3c-5def94d7c64d",
   "metadata": {},
   "outputs": [
    {
     "name": "stderr",
     "output_type": "stream",
     "text": [
      "  0%|                                                     | 0/3 [00:00<?, ?it/s]"
     ]
    },
    {
     "name": "stdout",
     "output_type": "stream",
     "text": [
      "sales\n",
      "ADF Statistic: -11.420993005027945\n",
      "p-value: 6.874454395211951e-21\n",
      "Critical Values: {'1%': np.float64(-3.434341199650204), '5%': np.float64(-2.8633028854374762), '10%': np.float64(-2.5677085202688126)}\n",
      "Reject the null hypothesis - The series is stationary\n",
      "dcoilwtico\n"
     ]
    },
    {
     "name": "stderr",
     "output_type": "stream",
     "text": [
      "100%|█████████████████████████████████████████████| 3/3 [00:00<00:00, 35.39it/s]"
     ]
    },
    {
     "name": "stdout",
     "output_type": "stream",
     "text": [
      "ADF Statistic: -42.35103248281877\n",
      "p-value: 0.0\n",
      "Critical Values: {'1%': np.float64(-3.4342812150354276), '5%': np.float64(-2.8632764080687307), '10%': np.float64(-2.5676944214132233)}\n",
      "Reject the null hypothesis - The series is stationary\n",
      "transactions\n",
      "ADF Statistic: -6.388840133010987\n",
      "p-value: 2.130719926312746e-08\n",
      "Critical Values: {'1%': np.float64(-3.4343339050195465), '5%': np.float64(-2.8632996655963554), '10%': np.float64(-2.567706805740553)}\n",
      "Reject the null hypothesis - The series is stationary\n"
     ]
    },
    {
     "name": "stderr",
     "output_type": "stream",
     "text": [
      "\n"
     ]
    }
   ],
   "source": [
    "for variable in tqdm(training_set.columns.tolist()):\n",
    "    print(variable)\n",
    "    adf_test(training_set[variable])"
   ]
  },
  {
   "cell_type": "code",
   "execution_count": 39,
   "id": "6ad62f01-13a7-4c38-bb55-39ef55f8308e",
   "metadata": {},
   "outputs": [
    {
     "name": "stdout",
     "output_type": "stream",
     "text": [
      "(1667, 3)\n"
     ]
    },
    {
     "data": {
      "text/html": [
       "<div>\n",
       "<style scoped>\n",
       "    .dataframe tbody tr th:only-of-type {\n",
       "        vertical-align: middle;\n",
       "    }\n",
       "\n",
       "    .dataframe tbody tr th {\n",
       "        vertical-align: top;\n",
       "    }\n",
       "\n",
       "    .dataframe thead th {\n",
       "        text-align: right;\n",
       "    }\n",
       "</style>\n",
       "<table border=\"1\" class=\"dataframe\">\n",
       "  <thead>\n",
       "    <tr style=\"text-align: right;\">\n",
       "      <th></th>\n",
       "      <th>sales</th>\n",
       "      <th>dcoilwtico</th>\n",
       "      <th>transactions</th>\n",
       "    </tr>\n",
       "    <tr>\n",
       "      <th>date</th>\n",
       "      <th></th>\n",
       "      <th></th>\n",
       "      <th></th>\n",
       "    </tr>\n",
       "  </thead>\n",
       "  <tbody>\n",
       "    <tr>\n",
       "      <th>2013-01-03</th>\n",
       "      <td>-134631.186820</td>\n",
       "      <td>-0.17</td>\n",
       "      <td>78504.0</td>\n",
       "    </tr>\n",
       "    <tr>\n",
       "      <th>2013-01-04</th>\n",
       "      <td>-7001.554031</td>\n",
       "      <td>0.15</td>\n",
       "      <td>78494.0</td>\n",
       "    </tr>\n",
       "    <tr>\n",
       "      <th>2013-01-05</th>\n",
       "      <td>122890.444136</td>\n",
       "      <td>0.08</td>\n",
       "      <td>93573.0</td>\n",
       "    </tr>\n",
       "    <tr>\n",
       "      <th>2013-01-06</th>\n",
       "      <td>42345.279859</td>\n",
       "      <td>0.00</td>\n",
       "      <td>90464.0</td>\n",
       "    </tr>\n",
       "    <tr>\n",
       "      <th>2013-01-07</th>\n",
       "      <td>-183572.600022</td>\n",
       "      <td>0.00</td>\n",
       "      <td>75597.0</td>\n",
       "    </tr>\n",
       "  </tbody>\n",
       "</table>\n",
       "</div>"
      ],
      "text/plain": [
       "                    sales  dcoilwtico  transactions\n",
       "date                                               \n",
       "2013-01-03 -134631.186820       -0.17       78504.0\n",
       "2013-01-04   -7001.554031        0.15       78494.0\n",
       "2013-01-05  122890.444136        0.08       93573.0\n",
       "2013-01-06   42345.279859        0.00       90464.0\n",
       "2013-01-07 -183572.600022        0.00       75597.0"
      ]
     },
     "execution_count": 39,
     "metadata": {},
     "output_type": "execute_result"
    }
   ],
   "source": [
    "print(training_set.shape)\n",
    "training_set.head()"
   ]
  },
  {
   "cell_type": "markdown",
   "id": "c679509c-62aa-4dc2-85a7-1fce49ee8aed",
   "metadata": {},
   "source": [
    "#### Granger causality test"
   ]
  },
  {
   "cell_type": "code",
   "execution_count": 40,
   "id": "ad0a99a4-861f-4748-88c4-70f294e55c25",
   "metadata": {
    "scrolled": true
   },
   "outputs": [
    {
     "name": "stdout",
     "output_type": "stream",
     "text": [
      "Granger Causality Test for dcoilwtico -> sales:\n",
      "\n",
      "Granger Causality\n",
      "number of lags (no zero) 1\n",
      "ssr based F test:         F=0.5303  , p=0.4666  , df_denom=1663, df_num=1\n",
      "ssr based chi2 test:   chi2=0.5313  , p=0.4661  , df=1\n",
      "likelihood ratio test: chi2=0.5312  , p=0.4661  , df=1\n",
      "parameter F test:         F=0.5303  , p=0.4666  , df_denom=1663, df_num=1\n",
      "\n",
      "Granger Causality\n",
      "number of lags (no zero) 2\n",
      "ssr based F test:         F=1.2581  , p=0.2845  , df_denom=1660, df_num=2\n",
      "ssr based chi2 test:   chi2=2.5238  , p=0.2831  , df=2\n",
      "likelihood ratio test: chi2=2.5219  , p=0.2834  , df=2\n",
      "parameter F test:         F=1.2581  , p=0.2845  , df_denom=1660, df_num=2\n",
      "\n",
      "Granger Causality\n",
      "number of lags (no zero) 3\n",
      "ssr based F test:         F=0.7669  , p=0.5125  , df_denom=1657, df_num=3\n",
      "ssr based chi2 test:   chi2=2.3105  , p=0.5105  , df=3\n",
      "likelihood ratio test: chi2=2.3089  , p=0.5108  , df=3\n",
      "parameter F test:         F=0.7669  , p=0.5125  , df_denom=1657, df_num=3\n",
      "\n",
      "Granger Causality\n",
      "number of lags (no zero) 4\n",
      "ssr based F test:         F=0.8345  , p=0.5032  , df_denom=1654, df_num=4\n",
      "ssr based chi2 test:   chi2=3.3561  , p=0.5001  , df=4\n",
      "likelihood ratio test: chi2=3.3527  , p=0.5006  , df=4\n",
      "parameter F test:         F=0.8345  , p=0.5032  , df_denom=1654, df_num=4\n",
      "\n",
      "Granger Causality\n",
      "number of lags (no zero) 5\n",
      "ssr based F test:         F=2.0167  , p=0.0735  , df_denom=1651, df_num=5\n",
      "ssr based chi2 test:   chi2=10.1507 , p=0.0711  , df=5\n",
      "likelihood ratio test: chi2=10.1198 , p=0.0719  , df=5\n",
      "parameter F test:         F=2.0167  , p=0.0735  , df_denom=1651, df_num=5\n",
      "\n",
      "Granger Causality\n",
      "number of lags (no zero) 6\n",
      "ssr based F test:         F=1.2331  , p=0.2862  , df_denom=1648, df_num=6\n",
      "ssr based chi2 test:   chi2=7.4571  , p=0.2806  , df=6\n",
      "likelihood ratio test: chi2=7.4404  , p=0.2820  , df=6\n",
      "parameter F test:         F=1.2331  , p=0.2862  , df_denom=1648, df_num=6\n",
      "\n",
      "Granger Causality\n",
      "number of lags (no zero) 7\n",
      "ssr based F test:         F=1.2708  , p=0.2610  , df_denom=1645, df_num=7\n",
      "ssr based chi2 test:   chi2=8.9769  , p=0.2543  , df=7\n",
      "likelihood ratio test: chi2=8.9527  , p=0.2561  , df=7\n",
      "parameter F test:         F=1.2708  , p=0.2610  , df_denom=1645, df_num=7\n",
      "\n",
      "Granger Causality\n",
      "number of lags (no zero) 8\n",
      "ssr based F test:         F=1.1278  , p=0.3411  , df_denom=1642, df_num=8\n",
      "ssr based chi2 test:   chi2=9.1162  , p=0.3326  , df=8\n",
      "likelihood ratio test: chi2=9.0913  , p=0.3347  , df=8\n",
      "parameter F test:         F=1.1278  , p=0.3411  , df_denom=1642, df_num=8\n",
      "\n",
      "Granger Causality\n",
      "number of lags (no zero) 9\n",
      "ssr based F test:         F=1.0298  , p=0.4135  , df_denom=1639, df_num=9\n",
      "ssr based chi2 test:   chi2=9.3753  , p=0.4034  , df=9\n",
      "likelihood ratio test: chi2=9.3489  , p=0.4057  , df=9\n",
      "parameter F test:         F=1.0298  , p=0.4135  , df_denom=1639, df_num=9\n",
      "\n",
      "Granger Causality\n",
      "number of lags (no zero) 10\n",
      "ssr based F test:         F=0.9302  , p=0.5040  , df_denom=1636, df_num=10\n",
      "ssr based chi2 test:   chi2=9.4217  , p=0.4926  , df=10\n",
      "likelihood ratio test: chi2=9.3950  , p=0.4951  , df=10\n",
      "parameter F test:         F=0.9302  , p=0.5040  , df_denom=1636, df_num=10\n",
      "\n",
      "\n",
      "Granger Causality Test for transactions -> sales:\n",
      "\n",
      "Granger Causality\n",
      "number of lags (no zero) 1\n",
      "ssr based F test:         F=171.2145, p=0.0000  , df_denom=1663, df_num=1\n",
      "ssr based chi2 test:   chi2=171.5234, p=0.0000  , df=1\n",
      "likelihood ratio test: chi2=163.2566, p=0.0000  , df=1\n",
      "parameter F test:         F=171.2145, p=0.0000  , df_denom=1663, df_num=1\n",
      "\n",
      "Granger Causality\n",
      "number of lags (no zero) 2\n",
      "ssr based F test:         F=68.1590 , p=0.0000  , df_denom=1660, df_num=2\n",
      "ssr based chi2 test:   chi2=136.7285, p=0.0000  , df=2\n",
      "likelihood ratio test: chi2=131.4041, p=0.0000  , df=2\n",
      "parameter F test:         F=68.1590 , p=0.0000  , df_denom=1660, df_num=2\n",
      "\n",
      "Granger Causality\n",
      "number of lags (no zero) 3\n",
      "ssr based F test:         F=52.7994 , p=0.0000  , df_denom=1657, df_num=3\n",
      "ssr based chi2 test:   chi2=159.0672, p=0.0000  , df=3\n",
      "likelihood ratio test: chi2=151.9166, p=0.0000  , df=3\n",
      "parameter F test:         F=52.7994 , p=0.0000  , df_denom=1657, df_num=3\n",
      "\n",
      "Granger Causality\n",
      "number of lags (no zero) 4\n",
      "ssr based F test:         F=29.0557 , p=0.0000  , df_denom=1654, df_num=4\n",
      "ssr based chi2 test:   chi2=116.8552, p=0.0000  , df=4\n",
      "likelihood ratio test: chi2=112.9324, p=0.0000  , df=4\n",
      "parameter F test:         F=29.0557 , p=0.0000  , df_denom=1654, df_num=4\n",
      "\n",
      "Granger Causality\n",
      "number of lags (no zero) 5\n",
      "ssr based F test:         F=15.5020 , p=0.0000  , df_denom=1651, df_num=5\n",
      "ssr based chi2 test:   chi2=78.0263 , p=0.0000  , df=5\n",
      "likelihood ratio test: chi2=76.2501 , p=0.0000  , df=5\n",
      "parameter F test:         F=15.5020 , p=0.0000  , df_denom=1651, df_num=5\n",
      "\n",
      "Granger Causality\n",
      "number of lags (no zero) 6\n",
      "ssr based F test:         F=7.4385  , p=0.0000  , df_denom=1648, df_num=6\n",
      "ssr based chi2 test:   chi2=44.9828 , p=0.0000  , df=6\n",
      "likelihood ratio test: chi2=44.3845 , p=0.0000  , df=6\n",
      "parameter F test:         F=7.4385  , p=0.0000  , df_denom=1648, df_num=6\n",
      "\n",
      "Granger Causality\n",
      "number of lags (no zero) 7\n",
      "ssr based F test:         F=8.0223  , p=0.0000  , df_denom=1645, df_num=7\n",
      "ssr based chi2 test:   chi2=56.6683 , p=0.0000  , df=7\n",
      "likelihood ratio test: chi2=55.7225 , p=0.0000  , df=7\n",
      "parameter F test:         F=8.0223  , p=0.0000  , df_denom=1645, df_num=7\n",
      "\n",
      "Granger Causality\n",
      "number of lags (no zero) 8\n",
      "ssr based F test:         F=25.9593 , p=0.0000  , df_denom=1642, df_num=8\n",
      "ssr based chi2 test:   chi2=209.8244, p=0.0000  , df=8\n",
      "likelihood ratio test: chi2=197.5779, p=0.0000  , df=8\n",
      "parameter F test:         F=25.9593 , p=0.0000  , df_denom=1642, df_num=8\n",
      "\n",
      "Granger Causality\n",
      "number of lags (no zero) 9\n",
      "ssr based F test:         F=25.4572 , p=0.0000  , df_denom=1639, df_num=9\n",
      "ssr based chi2 test:   chi2=231.7707, p=0.0000  , df=9\n",
      "likelihood ratio test: chi2=216.9384, p=0.0000  , df=9\n",
      "parameter F test:         F=25.4572 , p=0.0000  , df_denom=1639, df_num=9\n",
      "\n",
      "Granger Causality\n",
      "number of lags (no zero) 10\n",
      "ssr based F test:         F=22.7539 , p=0.0000  , df_denom=1636, df_num=10\n",
      "ssr based chi2 test:   chi2=230.4593, p=0.0000  , df=10\n",
      "likelihood ratio test: chi2=215.7794, p=0.0000  , df=10\n",
      "parameter F test:         F=22.7539 , p=0.0000  , df_denom=1636, df_num=10\n",
      "\n",
      "\n"
     ]
    }
   ],
   "source": [
    "max_lag = 10\n",
    "predictors = ['dcoilwtico', 'transactions']\n",
    "\n",
    "for predictor in predictors:\n",
    "    \n",
    "    print(f'Granger Causality Test for {predictor} -> sales:')\n",
    "    grangercausalitytests(training_set[['sales', predictor]], max_lag)\n",
    "    print('\\n')"
   ]
  },
  {
   "cell_type": "markdown",
   "id": "fc2113ea-05de-4aac-a1ae-da57ffffa3d0",
   "metadata": {},
   "source": [
    "**Observation:**\n",
    "- Significant Lags: Lags 2 and 5 showed significant Granger causality, indicating that past oil prices could help predict future sales for these specific lags.\n",
    "- Overall Relationship: While some lags indicated a predictive relationship, the lack of significance in other lags suggests that the effect of oil prices on sales may not be consistent over time or may be affected by other variables.\n",
    "- Significant Lags: All tested lags (1 through 10) show significant Granger causality, suggesting a consistent predictive relationship between transactions and sales. This means that past transaction data can reliably help forecast future sales across all lags tested.\n",
    "- Implication: The strong relationship indicates that changes in transaction volumes are closely associated with changes in sales, making transaction data a useful predictor for sales forecasting."
   ]
  },
  {
   "cell_type": "markdown",
   "id": "5695891e-6079-4bf9-b18f-177d3d68580a",
   "metadata": {},
   "source": [
    "#### Engle-Granger Cointegration Test (ADF test on residuals)"
   ]
  },
  {
   "cell_type": "code",
   "execution_count": 41,
   "id": "accab8f3-22e9-4e84-ad2e-b01568bdb5e0",
   "metadata": {},
   "outputs": [
    {
     "name": "stdout",
     "output_type": "stream",
     "text": [
      "Cointegration test statistic dcoilwtico: -11.416525352663028\n",
      "p-value dcoilwtico: 8.45941038668635e-20\n",
      "Cointegration test statistic transaction: -6.841814893951978\n",
      "p-value transaction: 2.0318072617208004e-08\n"
     ]
    }
   ],
   "source": [
    "score, p_value, _ = coint(training_set['sales'], training_set['dcoilwtico'])\n",
    "print(f'Cointegration test statistic dcoilwtico: {score}')\n",
    "print(f'p-value dcoilwtico: {p_value}')\n",
    "\n",
    "score, p_value, _ = coint(training_set['sales'], training_set['transactions'])\n",
    "print(f'Cointegration test statistic transaction: {score}')\n",
    "print(f'p-value transaction: {p_value}')"
   ]
  },
  {
   "cell_type": "markdown",
   "id": "f07aa9df-cb96-43e5-928d-e03dd22864db",
   "metadata": {},
   "source": [
    "**Observation:**\n",
    "- Both dcoilwtico and transactions are cointegrated with sales, as indicated by the significantly negative test statistics and extremely low p-values.\n",
    "- This means that there is a long-run equilibrium relationship between sales, dcoilwtico, and transactions, even if these series may individually exhibit non-stationary behavior. Despite short-term fluctuations, they move together over time, maintaining a stable long-term relationship.\n",
    "- The presence of cointegration means that Vector Error Correction Model (VECM) can be used, which accounts for both short-term dynamics and the long-term equilibrium relationship between the variables."
   ]
  },
  {
   "cell_type": "markdown",
   "id": "efd20bf2-c27b-4028-8624-0dc5c06dd21c",
   "metadata": {},
   "source": [
    "### 3) Time Series Modelling"
   ]
  },
  {
   "cell_type": "markdown",
   "id": "8cd91150-e584-4dd2-b5b3-74bc05984e0f",
   "metadata": {},
   "source": [
    "#### VAR"
   ]
  },
  {
   "cell_type": "code",
   "execution_count": 42,
   "id": "01beb4dc-ac13-4157-a806-f589332c2845",
   "metadata": {},
   "outputs": [],
   "source": [
    "training_var = training_set.copy()"
   ]
  },
  {
   "cell_type": "code",
   "execution_count": 44,
   "id": "6811ff02-4900-4aef-88cf-20de5018eb24",
   "metadata": {},
   "outputs": [
    {
     "name": "stdout",
     "output_type": "stream",
     "text": [
      "  Summary of Regression Results   \n",
      "==================================\n",
      "Model:                         VAR\n",
      "Method:                        OLS\n",
      "Date:           Thu, 24, Oct, 2024\n",
      "Time:                     13:31:00\n",
      "--------------------------------------------------------------------\n",
      "No. of Equations:         3.00000    BIC:                    41.2015\n",
      "Nobs:                     1662.00    HQIC:                   41.1030\n",
      "Log likelihood:          -41135.3    FPE:                6.69347e+17\n",
      "AIC:                      41.0451    Det(Omega_mle):     6.50382e+17\n",
      "--------------------------------------------------------------------\n",
      "Results for equation sales\n",
      "==================================================================================\n",
      "                     coefficient       std. error           t-stat            prob\n",
      "----------------------------------------------------------------------------------\n",
      "const              201364.719421     32027.567496            6.287           0.000\n",
      "L1.sales               -0.367155         0.031033          -11.831           0.000\n",
      "L1.dcoilwtico       -3790.589588      2854.563824           -1.328           0.184\n",
      "L1.transactions         0.770995         0.435353            1.771           0.077\n",
      "L2.sales               -0.644757         0.032166          -20.045           0.000\n",
      "L2.dcoilwtico         575.325448      2857.345867            0.201           0.840\n",
      "L2.transactions         0.011745         0.486581            0.024           0.981\n",
      "L3.sales               -0.377282         0.033117          -11.392           0.000\n",
      "L3.dcoilwtico        3377.870456      2856.508670            1.183           0.237\n",
      "L3.transactions        -2.304914         0.480649           -4.795           0.000\n",
      "L4.sales               -0.402966         0.030768          -13.097           0.000\n",
      "L4.dcoilwtico       -3666.856313      2855.970510           -1.284           0.199\n",
      "L4.transactions         1.216368         0.478364            2.543           0.011\n",
      "L5.sales               -0.478401         0.021915          -21.830           0.000\n",
      "L5.dcoilwtico        6120.653149      2852.096031            2.146           0.032\n",
      "L5.transactions        -2.076131         0.430518           -4.822           0.000\n",
      "==================================================================================\n",
      "\n",
      "Results for equation dcoilwtico\n",
      "==================================================================================\n",
      "                     coefficient       std. error           t-stat            prob\n",
      "----------------------------------------------------------------------------------\n",
      "const                  -0.003338         0.276501           -0.012           0.990\n",
      "L1.sales               -0.000000         0.000000           -0.400           0.689\n",
      "L1.dcoilwtico          -0.034880         0.024644           -1.415           0.157\n",
      "L1.transactions        -0.000002         0.000004           -0.639           0.523\n",
      "L2.sales                0.000000         0.000000            0.690           0.490\n",
      "L2.dcoilwtico           0.008361         0.024668            0.339           0.735\n",
      "L2.transactions         0.000003         0.000004            0.793           0.428\n",
      "L3.sales               -0.000000         0.000000           -0.665           0.506\n",
      "L3.dcoilwtico          -0.018533         0.024661           -0.752           0.452\n",
      "L3.transactions         0.000001         0.000004            0.221           0.825\n",
      "L4.sales                0.000000         0.000000            0.607           0.544\n",
      "L4.dcoilwtico          -0.014678         0.024656           -0.595           0.552\n",
      "L4.transactions        -0.000002         0.000004           -0.521           0.602\n",
      "L5.sales                0.000000         0.000000            0.827           0.408\n",
      "L5.dcoilwtico           0.018583         0.024623            0.755           0.450\n",
      "L5.transactions         0.000000         0.000004            0.007           0.995\n",
      "==================================================================================\n",
      "\n",
      "Results for equation transactions\n",
      "==================================================================================\n",
      "                     coefficient       std. error           t-stat            prob\n",
      "----------------------------------------------------------------------------------\n",
      "const               22340.901999      2391.711771            9.341           0.000\n",
      "L1.sales                0.000660         0.002317            0.285           0.776\n",
      "L1.dcoilwtico         -80.490186       213.169292           -0.378           0.706\n",
      "L1.transactions         0.537939         0.032511           16.547           0.000\n",
      "L2.sales               -0.025038         0.002402          -10.424           0.000\n",
      "L2.dcoilwtico         -65.214312       213.377046           -0.306           0.760\n",
      "L2.transactions         0.108445         0.036336            2.984           0.003\n",
      "L3.sales               -0.003211         0.002473           -1.298           0.194\n",
      "L3.dcoilwtico         137.647848       213.314527            0.645           0.519\n",
      "L3.transactions        -0.145883         0.035893           -4.064           0.000\n",
      "L4.sales               -0.021308         0.002298           -9.274           0.000\n",
      "L4.dcoilwtico        -274.373627       213.274339           -1.286           0.198\n",
      "L4.transactions         0.182051         0.035723            5.096           0.000\n",
      "L5.sales               -0.030967         0.001637          -18.922           0.000\n",
      "L5.dcoilwtico         274.773016       212.985006            1.290           0.197\n",
      "L5.transactions         0.052219         0.032150            1.624           0.104\n",
      "==================================================================================\n",
      "\n",
      "Correlation matrix of residuals\n",
      "                   sales  dcoilwtico  transactions\n",
      "sales           1.000000    0.019453      0.667818\n",
      "dcoilwtico      0.019453    1.000000      0.029793\n",
      "transactions    0.667818    0.029793      1.000000\n",
      "\n",
      "\n",
      "\n"
     ]
    },
    {
     "name": "stderr",
     "output_type": "stream",
     "text": [
      "/Users/wanderlustzenn/Desktop/projects/base_py/lib/python3.9/site-packages/statsmodels/tsa/base/tsa_model.py:473: ValueWarning: A date index has been provided, but it has no associated frequency information and so will be ignored when e.g. forecasting.\n",
      "  self._init_dates(dates, freq)\n"
     ]
    }
   ],
   "source": [
    "var_model = VAR(training_var)\n",
    "var_model_fitted = var_model.fit(maxlags=5, ic='aic')\n",
    "print(var_model_fitted.summary())"
   ]
  },
  {
   "cell_type": "code",
   "execution_count": 46,
   "id": "5999f5fe-6fa5-468d-b05d-c42e5eab2158",
   "metadata": {},
   "outputs": [
    {
     "data": {
      "text/html": [
       "<div>\n",
       "<style scoped>\n",
       "    .dataframe tbody tr th:only-of-type {\n",
       "        vertical-align: middle;\n",
       "    }\n",
       "\n",
       "    .dataframe tbody tr th {\n",
       "        vertical-align: top;\n",
       "    }\n",
       "\n",
       "    .dataframe thead th {\n",
       "        text-align: right;\n",
       "    }\n",
       "</style>\n",
       "<table border=\"1\" class=\"dataframe\">\n",
       "  <thead>\n",
       "    <tr style=\"text-align: right;\">\n",
       "      <th></th>\n",
       "      <th>sales</th>\n",
       "      <th>dcoilwtico</th>\n",
       "      <th>transactions</th>\n",
       "    </tr>\n",
       "  </thead>\n",
       "  <tbody>\n",
       "    <tr>\n",
       "      <th>0</th>\n",
       "      <td>-91120.550722</td>\n",
       "      <td>0.012920</td>\n",
       "      <td>81719.794902</td>\n",
       "    </tr>\n",
       "    <tr>\n",
       "      <th>1</th>\n",
       "      <td>-25308.141246</td>\n",
       "      <td>-0.020137</td>\n",
       "      <td>80990.883979</td>\n",
       "    </tr>\n",
       "    <tr>\n",
       "      <th>2</th>\n",
       "      <td>-2398.179192</td>\n",
       "      <td>0.039833</td>\n",
       "      <td>79465.623917</td>\n",
       "    </tr>\n",
       "    <tr>\n",
       "      <th>3</th>\n",
       "      <td>89540.890703</td>\n",
       "      <td>-0.050902</td>\n",
       "      <td>86195.834781</td>\n",
       "    </tr>\n",
       "    <tr>\n",
       "      <th>4</th>\n",
       "      <td>126396.108957</td>\n",
       "      <td>-0.099929</td>\n",
       "      <td>94518.821158</td>\n",
       "    </tr>\n",
       "    <tr>\n",
       "      <th>5</th>\n",
       "      <td>-27863.752504</td>\n",
       "      <td>-0.054015</td>\n",
       "      <td>91188.906853</td>\n",
       "    </tr>\n",
       "    <tr>\n",
       "      <th>6</th>\n",
       "      <td>-89647.902117</td>\n",
       "      <td>0.009453</td>\n",
       "      <td>85118.187698</td>\n",
       "    </tr>\n",
       "    <tr>\n",
       "      <th>7</th>\n",
       "      <td>-41647.092244</td>\n",
       "      <td>-0.003986</td>\n",
       "      <td>82484.129004</td>\n",
       "    </tr>\n",
       "    <tr>\n",
       "      <th>8</th>\n",
       "      <td>-18479.807883</td>\n",
       "      <td>-0.006849</td>\n",
       "      <td>81194.563307</td>\n",
       "    </tr>\n",
       "    <tr>\n",
       "      <th>9</th>\n",
       "      <td>1291.702448</td>\n",
       "      <td>-0.014141</td>\n",
       "      <td>82070.427551</td>\n",
       "    </tr>\n",
       "    <tr>\n",
       "      <th>10</th>\n",
       "      <td>65969.902418</td>\n",
       "      <td>-0.050476</td>\n",
       "      <td>86873.366947</td>\n",
       "    </tr>\n",
       "    <tr>\n",
       "      <th>11</th>\n",
       "      <td>47596.395481</td>\n",
       "      <td>-0.061592</td>\n",
       "      <td>89331.506035</td>\n",
       "    </tr>\n",
       "    <tr>\n",
       "      <th>12</th>\n",
       "      <td>-23360.381428</td>\n",
       "      <td>-0.026103</td>\n",
       "      <td>86998.866169</td>\n",
       "    </tr>\n",
       "    <tr>\n",
       "      <th>13</th>\n",
       "      <td>-38265.954439</td>\n",
       "      <td>-0.011823</td>\n",
       "      <td>84462.996607</td>\n",
       "    </tr>\n",
       "    <tr>\n",
       "      <th>14</th>\n",
       "      <td>-19240.568562</td>\n",
       "      <td>-0.016158</td>\n",
       "      <td>83245.740256</td>\n",
       "    </tr>\n",
       "  </tbody>\n",
       "</table>\n",
       "</div>"
      ],
      "text/plain": [
       "            sales  dcoilwtico  transactions\n",
       "0   -91120.550722    0.012920  81719.794902\n",
       "1   -25308.141246   -0.020137  80990.883979\n",
       "2    -2398.179192    0.039833  79465.623917\n",
       "3    89540.890703   -0.050902  86195.834781\n",
       "4   126396.108957   -0.099929  94518.821158\n",
       "5   -27863.752504   -0.054015  91188.906853\n",
       "6   -89647.902117    0.009453  85118.187698\n",
       "7   -41647.092244   -0.003986  82484.129004\n",
       "8   -18479.807883   -0.006849  81194.563307\n",
       "9     1291.702448   -0.014141  82070.427551\n",
       "10   65969.902418   -0.050476  86873.366947\n",
       "11   47596.395481   -0.061592  89331.506035\n",
       "12  -23360.381428   -0.026103  86998.866169\n",
       "13  -38265.954439   -0.011823  84462.996607\n",
       "14  -19240.568562   -0.016158  83245.740256"
      ]
     },
     "execution_count": 46,
     "metadata": {},
     "output_type": "execute_result"
    }
   ],
   "source": [
    "lag_order = var_model_fitted.k_ar\n",
    "var_forecast_input = training_var.values[-lag_order:]  # Use last observations as input\n",
    "var_forecast = var_model_fitted.forecast(y=var_forecast_input, steps=15)\n",
    "\n",
    "df_var_forecast = pd.DataFrame(var_forecast, columns=['sales', 'dcoilwtico', 'transactions'])\n",
    "df_var_forecast"
   ]
  },
  {
   "cell_type": "code",
   "execution_count": 47,
   "id": "c14584d0-9968-43c2-9870-3138e55bdfd7",
   "metadata": {},
   "outputs": [],
   "source": [
    "sales_original = df_new[-16:-1]['sales'].values\n",
    "dcoilwtico_original = df_new[-16:-1]['dcoilwtico'].values\n",
    "\n",
    "sales_new = []\n",
    "for original, change in zip(sales_original, df_var_forecast['sales'].values):\n",
    "    new_value = original + change\n",
    "    sales_new.append(new_value)\n",
    "\n",
    "dcoilwtico_new = []\n",
    "for original, change in zip(dcoilwtico_original, df_var_forecast['dcoilwtico'].values):\n",
    "    new_value = original + change\n",
    "    dcoilwtico_new.append(new_value)\n",
    "\n",
    "df_sales_new = pd.DataFrame(sales_new, columns=['Predicted Sales'])\n",
    "df_dcoilwtico_new = pd.DataFrame(dcoilwtico_new, columns=['Predicted dcoilwtico'])"
   ]
  },
  {
   "cell_type": "code",
   "execution_count": 48,
   "id": "9684acd3-51d0-4ab4-9896-a3b16e051f62",
   "metadata": {},
   "outputs": [
    {
     "data": {
      "text/html": [
       "<div>\n",
       "<style scoped>\n",
       "    .dataframe tbody tr th:only-of-type {\n",
       "        vertical-align: middle;\n",
       "    }\n",
       "\n",
       "    .dataframe tbody tr th {\n",
       "        vertical-align: top;\n",
       "    }\n",
       "\n",
       "    .dataframe thead th {\n",
       "        text-align: right;\n",
       "    }\n",
       "</style>\n",
       "<table border=\"1\" class=\"dataframe\">\n",
       "  <thead>\n",
       "    <tr style=\"text-align: right;\">\n",
       "      <th></th>\n",
       "      <th>Predicted Sales</th>\n",
       "      <th>Predicted dcoilwtico</th>\n",
       "      <th>Predicted Transactions</th>\n",
       "    </tr>\n",
       "    <tr>\n",
       "      <th>date</th>\n",
       "      <th></th>\n",
       "      <th></th>\n",
       "      <th></th>\n",
       "    </tr>\n",
       "  </thead>\n",
       "  <tbody>\n",
       "    <tr>\n",
       "      <th>2017-08-01</th>\n",
       "      <td>794736.290149</td>\n",
       "      <td>50.222920</td>\n",
       "      <td>81719.794902</td>\n",
       "    </tr>\n",
       "    <tr>\n",
       "      <th>2017-08-02</th>\n",
       "      <td>963219.621958</td>\n",
       "      <td>49.169863</td>\n",
       "      <td>80990.883979</td>\n",
       "    </tr>\n",
       "    <tr>\n",
       "      <th>2017-08-03</th>\n",
       "      <td>962313.836859</td>\n",
       "      <td>49.639833</td>\n",
       "      <td>79465.623917</td>\n",
       "    </tr>\n",
       "    <tr>\n",
       "      <th>2017-08-04</th>\n",
       "      <td>817609.375835</td>\n",
       "      <td>48.979098</td>\n",
       "      <td>86195.834781</td>\n",
       "    </tr>\n",
       "    <tr>\n",
       "      <th>2017-08-05</th>\n",
       "      <td>954171.795085</td>\n",
       "      <td>49.470071</td>\n",
       "      <td>94518.821158</td>\n",
       "    </tr>\n",
       "    <tr>\n",
       "      <th>2017-08-06</th>\n",
       "      <td>937829.897988</td>\n",
       "      <td>49.315985</td>\n",
       "      <td>91188.906853</td>\n",
       "    </tr>\n",
       "    <tr>\n",
       "      <th>2017-08-07</th>\n",
       "      <td>959911.262160</td>\n",
       "      <td>49.379453</td>\n",
       "      <td>85118.187698</td>\n",
       "    </tr>\n",
       "    <tr>\n",
       "      <th>2017-08-08</th>\n",
       "      <td>755817.871573</td>\n",
       "      <td>49.366014</td>\n",
       "      <td>82484.129004</td>\n",
       "    </tr>\n",
       "    <tr>\n",
       "      <th>2017-08-09</th>\n",
       "      <td>699286.541222</td>\n",
       "      <td>49.063151</td>\n",
       "      <td>81194.563307</td>\n",
       "    </tr>\n",
       "    <tr>\n",
       "      <th>2017-08-10</th>\n",
       "      <td>735431.376458</td>\n",
       "      <td>49.575859</td>\n",
       "      <td>82070.427551</td>\n",
       "    </tr>\n",
       "    <tr>\n",
       "      <th>2017-08-11</th>\n",
       "      <td>717356.814387</td>\n",
       "      <td>48.489524</td>\n",
       "      <td>86873.366947</td>\n",
       "    </tr>\n",
       "    <tr>\n",
       "      <th>2017-08-12</th>\n",
       "      <td>873970.117503</td>\n",
       "      <td>48.748408</td>\n",
       "      <td>89331.506035</td>\n",
       "    </tr>\n",
       "    <tr>\n",
       "      <th>2017-08-13</th>\n",
       "      <td>769270.153650</td>\n",
       "      <td>47.563897</td>\n",
       "      <td>86998.866169</td>\n",
       "    </tr>\n",
       "    <tr>\n",
       "      <th>2017-08-14</th>\n",
       "      <td>827373.723032</td>\n",
       "      <td>47.578177</td>\n",
       "      <td>84462.996607</td>\n",
       "    </tr>\n",
       "    <tr>\n",
       "      <th>2017-08-15</th>\n",
       "      <td>741681.837518</td>\n",
       "      <td>47.573842</td>\n",
       "      <td>83245.740256</td>\n",
       "    </tr>\n",
       "  </tbody>\n",
       "</table>\n",
       "</div>"
      ],
      "text/plain": [
       "            Predicted Sales  Predicted dcoilwtico  Predicted Transactions\n",
       "date                                                                     \n",
       "2017-08-01    794736.290149             50.222920            81719.794902\n",
       "2017-08-02    963219.621958             49.169863            80990.883979\n",
       "2017-08-03    962313.836859             49.639833            79465.623917\n",
       "2017-08-04    817609.375835             48.979098            86195.834781\n",
       "2017-08-05    954171.795085             49.470071            94518.821158\n",
       "2017-08-06    937829.897988             49.315985            91188.906853\n",
       "2017-08-07    959911.262160             49.379453            85118.187698\n",
       "2017-08-08    755817.871573             49.366014            82484.129004\n",
       "2017-08-09    699286.541222             49.063151            81194.563307\n",
       "2017-08-10    735431.376458             49.575859            82070.427551\n",
       "2017-08-11    717356.814387             48.489524            86873.366947\n",
       "2017-08-12    873970.117503             48.748408            89331.506035\n",
       "2017-08-13    769270.153650             47.563897            86998.866169\n",
       "2017-08-14    827373.723032             47.578177            84462.996607\n",
       "2017-08-15    741681.837518             47.573842            83245.740256"
      ]
     },
     "execution_count": 48,
     "metadata": {},
     "output_type": "execute_result"
    }
   ],
   "source": [
    "df_test_dates = pd.DataFrame(og_test_set.index)\n",
    "df_var_forecast['Predicted Transactions'] = df_var_forecast['transactions']\n",
    "df_var_forecast_new = pd.concat([df_test_dates, df_sales_new, df_dcoilwtico_new, df_var_forecast['Predicted Transactions']], axis=1)\n",
    "df_var_forecast_new.set_index('date', inplace=True)\n",
    "df_var_forecast_new"
   ]
  },
  {
   "cell_type": "code",
   "execution_count": 49,
   "id": "06f9fe4f-ca44-4e0d-bb6d-bb1ca77580bc",
   "metadata": {},
   "outputs": [
    {
     "data": {
      "text/html": [
       "<div>\n",
       "<style scoped>\n",
       "    .dataframe tbody tr th:only-of-type {\n",
       "        vertical-align: middle;\n",
       "    }\n",
       "\n",
       "    .dataframe tbody tr th {\n",
       "        vertical-align: top;\n",
       "    }\n",
       "\n",
       "    .dataframe thead th {\n",
       "        text-align: right;\n",
       "    }\n",
       "</style>\n",
       "<table border=\"1\" class=\"dataframe\">\n",
       "  <thead>\n",
       "    <tr style=\"text-align: right;\">\n",
       "      <th></th>\n",
       "      <th>sales</th>\n",
       "      <th>dcoilwtico</th>\n",
       "      <th>transactions</th>\n",
       "      <th>Predicted Sales</th>\n",
       "      <th>Predicted dcoilwtico</th>\n",
       "      <th>Predicted Transactions</th>\n",
       "    </tr>\n",
       "    <tr>\n",
       "      <th>date</th>\n",
       "      <th></th>\n",
       "      <th></th>\n",
       "      <th></th>\n",
       "      <th></th>\n",
       "      <th></th>\n",
       "      <th></th>\n",
       "    </tr>\n",
       "  </thead>\n",
       "  <tbody>\n",
       "    <tr>\n",
       "      <th>2017-08-01</th>\n",
       "      <td>9.885278e+05</td>\n",
       "      <td>49.19</td>\n",
       "      <td>92083.0</td>\n",
       "      <td>794736.290149</td>\n",
       "      <td>50.222920</td>\n",
       "      <td>81719.794902</td>\n",
       "    </tr>\n",
       "    <tr>\n",
       "      <th>2017-08-02</th>\n",
       "      <td>9.647120e+05</td>\n",
       "      <td>49.60</td>\n",
       "      <td>93023.0</td>\n",
       "      <td>963219.621958</td>\n",
       "      <td>49.169863</td>\n",
       "      <td>80990.883979</td>\n",
       "    </tr>\n",
       "    <tr>\n",
       "      <th>2017-08-03</th>\n",
       "      <td>7.280685e+05</td>\n",
       "      <td>49.03</td>\n",
       "      <td>85521.0</td>\n",
       "      <td>962313.836859</td>\n",
       "      <td>49.639833</td>\n",
       "      <td>79465.623917</td>\n",
       "    </tr>\n",
       "    <tr>\n",
       "      <th>2017-08-04</th>\n",
       "      <td>8.277757e+05</td>\n",
       "      <td>49.57</td>\n",
       "      <td>91305.0</td>\n",
       "      <td>817609.375835</td>\n",
       "      <td>48.979098</td>\n",
       "      <td>86195.834781</td>\n",
       "    </tr>\n",
       "    <tr>\n",
       "      <th>2017-08-05</th>\n",
       "      <td>9.656937e+05</td>\n",
       "      <td>49.37</td>\n",
       "      <td>101108.0</td>\n",
       "      <td>954171.795085</td>\n",
       "      <td>49.470071</td>\n",
       "      <td>94518.821158</td>\n",
       "    </tr>\n",
       "    <tr>\n",
       "      <th>2017-08-06</th>\n",
       "      <td>1.049559e+06</td>\n",
       "      <td>49.37</td>\n",
       "      <td>96162.0</td>\n",
       "      <td>937829.897988</td>\n",
       "      <td>49.315985</td>\n",
       "      <td>91188.906853</td>\n",
       "    </tr>\n",
       "    <tr>\n",
       "      <th>2017-08-07</th>\n",
       "      <td>7.974650e+05</td>\n",
       "      <td>49.37</td>\n",
       "      <td>87072.0</td>\n",
       "      <td>959911.262160</td>\n",
       "      <td>49.379453</td>\n",
       "      <td>85118.187698</td>\n",
       "    </tr>\n",
       "    <tr>\n",
       "      <th>2017-08-08</th>\n",
       "      <td>7.177663e+05</td>\n",
       "      <td>49.07</td>\n",
       "      <td>83422.0</td>\n",
       "      <td>755817.871573</td>\n",
       "      <td>49.366014</td>\n",
       "      <td>82484.129004</td>\n",
       "    </tr>\n",
       "    <tr>\n",
       "      <th>2017-08-09</th>\n",
       "      <td>7.341397e+05</td>\n",
       "      <td>49.59</td>\n",
       "      <td>85452.0</td>\n",
       "      <td>699286.541222</td>\n",
       "      <td>49.063151</td>\n",
       "      <td>81194.563307</td>\n",
       "    </tr>\n",
       "    <tr>\n",
       "      <th>2017-08-10</th>\n",
       "      <td>6.513869e+05</td>\n",
       "      <td>48.54</td>\n",
       "      <td>83064.0</td>\n",
       "      <td>735431.376458</td>\n",
       "      <td>49.575859</td>\n",
       "      <td>82070.427551</td>\n",
       "    </tr>\n",
       "    <tr>\n",
       "      <th>2017-08-11</th>\n",
       "      <td>8.263737e+05</td>\n",
       "      <td>48.81</td>\n",
       "      <td>89551.0</td>\n",
       "      <td>717356.814387</td>\n",
       "      <td>48.489524</td>\n",
       "      <td>86873.366947</td>\n",
       "    </tr>\n",
       "    <tr>\n",
       "      <th>2017-08-12</th>\n",
       "      <td>7.926305e+05</td>\n",
       "      <td>47.59</td>\n",
       "      <td>89927.0</td>\n",
       "      <td>873970.117503</td>\n",
       "      <td>48.748408</td>\n",
       "      <td>89331.506035</td>\n",
       "    </tr>\n",
       "    <tr>\n",
       "      <th>2017-08-13</th>\n",
       "      <td>8.656397e+05</td>\n",
       "      <td>47.59</td>\n",
       "      <td>85993.0</td>\n",
       "      <td>769270.153650</td>\n",
       "      <td>47.563897</td>\n",
       "      <td>86998.866169</td>\n",
       "    </tr>\n",
       "    <tr>\n",
       "      <th>2017-08-14</th>\n",
       "      <td>7.609224e+05</td>\n",
       "      <td>47.59</td>\n",
       "      <td>85448.0</td>\n",
       "      <td>827373.723032</td>\n",
       "      <td>47.578177</td>\n",
       "      <td>84462.996607</td>\n",
       "    </tr>\n",
       "    <tr>\n",
       "      <th>2017-08-15</th>\n",
       "      <td>7.626619e+05</td>\n",
       "      <td>47.57</td>\n",
       "      <td>86561.0</td>\n",
       "      <td>741681.837518</td>\n",
       "      <td>47.573842</td>\n",
       "      <td>83245.740256</td>\n",
       "    </tr>\n",
       "  </tbody>\n",
       "</table>\n",
       "</div>"
      ],
      "text/plain": [
       "                   sales  dcoilwtico  transactions  Predicted Sales  \\\n",
       "date                                                                  \n",
       "2017-08-01  9.885278e+05       49.19       92083.0    794736.290149   \n",
       "2017-08-02  9.647120e+05       49.60       93023.0    963219.621958   \n",
       "2017-08-03  7.280685e+05       49.03       85521.0    962313.836859   \n",
       "2017-08-04  8.277757e+05       49.57       91305.0    817609.375835   \n",
       "2017-08-05  9.656937e+05       49.37      101108.0    954171.795085   \n",
       "2017-08-06  1.049559e+06       49.37       96162.0    937829.897988   \n",
       "2017-08-07  7.974650e+05       49.37       87072.0    959911.262160   \n",
       "2017-08-08  7.177663e+05       49.07       83422.0    755817.871573   \n",
       "2017-08-09  7.341397e+05       49.59       85452.0    699286.541222   \n",
       "2017-08-10  6.513869e+05       48.54       83064.0    735431.376458   \n",
       "2017-08-11  8.263737e+05       48.81       89551.0    717356.814387   \n",
       "2017-08-12  7.926305e+05       47.59       89927.0    873970.117503   \n",
       "2017-08-13  8.656397e+05       47.59       85993.0    769270.153650   \n",
       "2017-08-14  7.609224e+05       47.59       85448.0    827373.723032   \n",
       "2017-08-15  7.626619e+05       47.57       86561.0    741681.837518   \n",
       "\n",
       "            Predicted dcoilwtico  Predicted Transactions  \n",
       "date                                                      \n",
       "2017-08-01             50.222920            81719.794902  \n",
       "2017-08-02             49.169863            80990.883979  \n",
       "2017-08-03             49.639833            79465.623917  \n",
       "2017-08-04             48.979098            86195.834781  \n",
       "2017-08-05             49.470071            94518.821158  \n",
       "2017-08-06             49.315985            91188.906853  \n",
       "2017-08-07             49.379453            85118.187698  \n",
       "2017-08-08             49.366014            82484.129004  \n",
       "2017-08-09             49.063151            81194.563307  \n",
       "2017-08-10             49.575859            82070.427551  \n",
       "2017-08-11             48.489524            86873.366947  \n",
       "2017-08-12             48.748408            89331.506035  \n",
       "2017-08-13             47.563897            86998.866169  \n",
       "2017-08-14             47.578177            84462.996607  \n",
       "2017-08-15             47.573842            83245.740256  "
      ]
     },
     "execution_count": 49,
     "metadata": {},
     "output_type": "execute_result"
    }
   ],
   "source": [
    "test_var = og_test_set.copy()\n",
    "df_var_forecast_final = pd.concat([test_var, df_var_forecast_new], axis=1)\n",
    "df_var_forecast_final"
   ]
  },
  {
   "cell_type": "code",
   "execution_count": 50,
   "id": "469e084e-1cf7-40e4-9b1f-abed44164152",
   "metadata": {},
   "outputs": [
    {
     "name": "stdout",
     "output_type": "stream",
     "text": [
      "RMSE: 107674.37179319185\n"
     ]
    }
   ],
   "source": [
    "rmse_VAR = np.sqrt(mean_squared_error(df_var_forecast_final['sales'], df_var_forecast_final['Predicted Sales']))\n",
    "print(f'RMSE: {rmse_VAR}')"
   ]
  },
  {
   "cell_type": "code",
   "execution_count": 51,
   "id": "0e780fed-b596-4dde-af1a-adeba2c8e349",
   "metadata": {},
   "outputs": [],
   "source": [
    "# Function for calculating MAPE\n",
    "def MAPE(y_true, y_pred):\n",
    "    y_true, y_pred = np.array(y_true), np.array(y_pred)\n",
    "\n",
    "    non_zero_mask = y_true != 0\n",
    "    \n",
    "    return np.mean(np.abs((y_true[non_zero_mask] - y_pred[non_zero_mask]) / y_true[non_zero_mask])) * 100"
   ]
  },
  {
   "cell_type": "code",
   "execution_count": 52,
   "id": "9b66a3bc-812e-4368-a41f-aa5724d86f1c",
   "metadata": {},
   "outputs": [
    {
     "data": {
      "text/plain": [
       "np.float64(10.292754478556551)"
      ]
     },
     "execution_count": 52,
     "metadata": {},
     "output_type": "execute_result"
    }
   ],
   "source": [
    "MAPE(df_var_forecast_final['sales'], df_var_forecast_final['Predicted Sales'])"
   ]
  },
  {
   "cell_type": "code",
   "execution_count": 53,
   "id": "635a7bfb-a502-4199-be3c-3a1a6519ffa5",
   "metadata": {},
   "outputs": [
    {
     "data": {
      "text/plain": [
       "<Axes: xlabel='date'>"
      ]
     },
     "execution_count": 53,
     "metadata": {},
     "output_type": "execute_result"
    },
    {
     "data": {
      "image/png": "[encoded data removed]",
      "text/plain": [
       "<Figure size 640x480 with 1 Axes>"
      ]
     },
     "metadata": {},
     "output_type": "display_data"
    }
   ],
   "source": [
    "df_var_forecast_final['sales'].plot(style = '--', color = 'r', legend = True, label = 'Test')\n",
    "df_var_forecast_final['Predicted Sales'].plot(color = 'b', legend = True, label = 'VAR_fc')"
   ]
  },
  {
   "cell_type": "markdown",
   "id": "f041a713-160d-47c3-883d-5292b341f794",
   "metadata": {},
   "source": [
    "#### Prophet"
   ]
  },
  {
   "cell_type": "code",
   "execution_count": 54,
   "id": "8fc40ccf-943f-42f0-802f-ce7505d55ce3",
   "metadata": {},
   "outputs": [
    {
     "name": "stdout",
     "output_type": "stream",
     "text": [
      "Train: (1669, 4) Test: (15, 4)\n"
     ]
    }
   ],
   "source": [
    "train_prophet = og_training_set.reset_index().copy()\n",
    "test_prophet = og_test_set.reset_index().copy()\n",
    "print('Train:', train_prophet.shape, 'Test:', test_prophet.shape)"
   ]
  },
  {
   "cell_type": "code",
   "execution_count": 55,
   "id": "8e3d3a77-c881-4a3d-a84e-34469e43d976",
   "metadata": {},
   "outputs": [
    {
     "name": "stdout",
     "output_type": "stream",
     "text": [
      "Index(['date', 'sales', 'dcoilwtico', 'transactions'], dtype='object')\n"
     ]
    }
   ],
   "source": [
    "print(train_prophet.columns)"
   ]
  },
  {
   "cell_type": "code",
   "execution_count": 56,
   "id": "0636d6e3-bade-4839-a936-22aff635e2e3",
   "metadata": {},
   "outputs": [
    {
     "data": {
      "text/plain": [
       "Index(['ds', 'y', 'dcoilwtico', 'transactions'], dtype='object')"
      ]
     },
     "execution_count": 56,
     "metadata": {},
     "output_type": "execute_result"
    }
   ],
   "source": [
    "train_prophet.rename(columns={'date': 'ds', 'sales': 'y'}, inplace=True)\n",
    "train_prophet.columns"
   ]
  },
  {
   "cell_type": "code",
   "execution_count": 57,
   "id": "16013c5e-390b-4726-9a4d-f129398b331e",
   "metadata": {},
   "outputs": [
    {
     "name": "stderr",
     "output_type": "stream",
     "text": [
      "13:31:15 - cmdstanpy - INFO - Chain [1] start processing\n",
      "13:31:15 - cmdstanpy - INFO - Chain [1] done processing\n"
     ]
    },
    {
     "data": {
      "text/html": [
       "<div>\n",
       "<style scoped>\n",
       "    .dataframe tbody tr th:only-of-type {\n",
       "        vertical-align: middle;\n",
       "    }\n",
       "\n",
       "    .dataframe tbody tr th {\n",
       "        vertical-align: top;\n",
       "    }\n",
       "\n",
       "    .dataframe thead th {\n",
       "        text-align: right;\n",
       "    }\n",
       "</style>\n",
       "<table border=\"1\" class=\"dataframe\">\n",
       "  <thead>\n",
       "    <tr style=\"text-align: right;\">\n",
       "      <th></th>\n",
       "      <th>ds</th>\n",
       "      <th>yhat</th>\n",
       "    </tr>\n",
       "  </thead>\n",
       "  <tbody>\n",
       "    <tr>\n",
       "      <th>0</th>\n",
       "      <td>2017-08-01</td>\n",
       "      <td>8.386302e+05</td>\n",
       "    </tr>\n",
       "    <tr>\n",
       "      <th>1</th>\n",
       "      <td>2017-08-02</td>\n",
       "      <td>8.595816e+05</td>\n",
       "    </tr>\n",
       "    <tr>\n",
       "      <th>2</th>\n",
       "      <td>2017-08-03</td>\n",
       "      <td>7.383906e+05</td>\n",
       "    </tr>\n",
       "    <tr>\n",
       "      <th>3</th>\n",
       "      <td>2017-08-04</td>\n",
       "      <td>8.121385e+05</td>\n",
       "    </tr>\n",
       "    <tr>\n",
       "      <th>4</th>\n",
       "      <td>2017-08-05</td>\n",
       "      <td>9.664161e+05</td>\n",
       "    </tr>\n",
       "    <tr>\n",
       "      <th>5</th>\n",
       "      <td>2017-08-06</td>\n",
       "      <td>1.023426e+06</td>\n",
       "    </tr>\n",
       "    <tr>\n",
       "      <th>6</th>\n",
       "      <td>2017-08-07</td>\n",
       "      <td>8.226220e+05</td>\n",
       "    </tr>\n",
       "    <tr>\n",
       "      <th>7</th>\n",
       "      <td>2017-08-08</td>\n",
       "      <td>7.591835e+05</td>\n",
       "    </tr>\n",
       "    <tr>\n",
       "      <th>8</th>\n",
       "      <td>2017-08-09</td>\n",
       "      <td>7.905548e+05</td>\n",
       "    </tr>\n",
       "    <tr>\n",
       "      <th>9</th>\n",
       "      <td>2017-08-10</td>\n",
       "      <td>7.088880e+05</td>\n",
       "    </tr>\n",
       "    <tr>\n",
       "      <th>10</th>\n",
       "      <td>2017-08-11</td>\n",
       "      <td>7.894470e+05</td>\n",
       "    </tr>\n",
       "    <tr>\n",
       "      <th>11</th>\n",
       "      <td>2017-08-12</td>\n",
       "      <td>8.726944e+05</td>\n",
       "    </tr>\n",
       "    <tr>\n",
       "      <th>12</th>\n",
       "      <td>2017-08-13</td>\n",
       "      <td>9.394327e+05</td>\n",
       "    </tr>\n",
       "    <tr>\n",
       "      <th>13</th>\n",
       "      <td>2017-08-14</td>\n",
       "      <td>8.050398e+05</td>\n",
       "    </tr>\n",
       "    <tr>\n",
       "      <th>14</th>\n",
       "      <td>2017-08-15</td>\n",
       "      <td>7.800963e+05</td>\n",
       "    </tr>\n",
       "  </tbody>\n",
       "</table>\n",
       "</div>"
      ],
      "text/plain": [
       "           ds          yhat\n",
       "0  2017-08-01  8.386302e+05\n",
       "1  2017-08-02  8.595816e+05\n",
       "2  2017-08-03  7.383906e+05\n",
       "3  2017-08-04  8.121385e+05\n",
       "4  2017-08-05  9.664161e+05\n",
       "5  2017-08-06  1.023426e+06\n",
       "6  2017-08-07  8.226220e+05\n",
       "7  2017-08-08  7.591835e+05\n",
       "8  2017-08-09  7.905548e+05\n",
       "9  2017-08-10  7.088880e+05\n",
       "10 2017-08-11  7.894470e+05\n",
       "11 2017-08-12  8.726944e+05\n",
       "12 2017-08-13  9.394327e+05\n",
       "13 2017-08-14  8.050398e+05\n",
       "14 2017-08-15  7.800963e+05"
      ]
     },
     "execution_count": 57,
     "metadata": {},
     "output_type": "execute_result"
    }
   ],
   "source": [
    "prophet_model = Prophet()\n",
    "\n",
    "prophet_model.add_regressor('dcoilwtico')\n",
    "prophet_model.add_regressor('transactions')\n",
    "\n",
    "prophet_model.fit(train_prophet)\n",
    "\n",
    "future = pd.DataFrame({'ds': test_prophet['date'],\n",
    "                       'y': test_prophet['sales'],\n",
    "                       'dcoilwtico': test_prophet['dcoilwtico'],\n",
    "                       'transactions': test_prophet['transactions']\n",
    "                      })\n",
    "\n",
    "prophet_forecast = prophet_model.predict(future)\n",
    "\n",
    "df_prophet_forecast = prophet_forecast[['ds', 'yhat']]\n",
    "df_prophet_forecast"
   ]
  },
  {
   "cell_type": "code",
   "execution_count": 58,
   "id": "724cbcec-c784-4081-a152-ce6ab9e8e7b7",
   "metadata": {},
   "outputs": [
    {
     "data": {
      "text/html": [
       "<div>\n",
       "<style scoped>\n",
       "    .dataframe tbody tr th:only-of-type {\n",
       "        vertical-align: middle;\n",
       "    }\n",
       "\n",
       "    .dataframe tbody tr th {\n",
       "        vertical-align: top;\n",
       "    }\n",
       "\n",
       "    .dataframe thead th {\n",
       "        text-align: right;\n",
       "    }\n",
       "</style>\n",
       "<table border=\"1\" class=\"dataframe\">\n",
       "  <thead>\n",
       "    <tr style=\"text-align: right;\">\n",
       "      <th></th>\n",
       "      <th>sales</th>\n",
       "      <th>dcoilwtico</th>\n",
       "      <th>transactions</th>\n",
       "      <th>Predicted Sales</th>\n",
       "    </tr>\n",
       "    <tr>\n",
       "      <th>date</th>\n",
       "      <th></th>\n",
       "      <th></th>\n",
       "      <th></th>\n",
       "      <th></th>\n",
       "    </tr>\n",
       "  </thead>\n",
       "  <tbody>\n",
       "    <tr>\n",
       "      <th>2017-08-01</th>\n",
       "      <td>9.885278e+05</td>\n",
       "      <td>49.19</td>\n",
       "      <td>92083.0</td>\n",
       "      <td>8.386302e+05</td>\n",
       "    </tr>\n",
       "    <tr>\n",
       "      <th>2017-08-02</th>\n",
       "      <td>9.647120e+05</td>\n",
       "      <td>49.60</td>\n",
       "      <td>93023.0</td>\n",
       "      <td>8.595816e+05</td>\n",
       "    </tr>\n",
       "    <tr>\n",
       "      <th>2017-08-03</th>\n",
       "      <td>7.280685e+05</td>\n",
       "      <td>49.03</td>\n",
       "      <td>85521.0</td>\n",
       "      <td>7.383906e+05</td>\n",
       "    </tr>\n",
       "    <tr>\n",
       "      <th>2017-08-04</th>\n",
       "      <td>8.277757e+05</td>\n",
       "      <td>49.57</td>\n",
       "      <td>91305.0</td>\n",
       "      <td>8.121385e+05</td>\n",
       "    </tr>\n",
       "    <tr>\n",
       "      <th>2017-08-05</th>\n",
       "      <td>9.656937e+05</td>\n",
       "      <td>49.37</td>\n",
       "      <td>101108.0</td>\n",
       "      <td>9.664161e+05</td>\n",
       "    </tr>\n",
       "    <tr>\n",
       "      <th>2017-08-06</th>\n",
       "      <td>1.049559e+06</td>\n",
       "      <td>49.37</td>\n",
       "      <td>96162.0</td>\n",
       "      <td>1.023426e+06</td>\n",
       "    </tr>\n",
       "    <tr>\n",
       "      <th>2017-08-07</th>\n",
       "      <td>7.974650e+05</td>\n",
       "      <td>49.37</td>\n",
       "      <td>87072.0</td>\n",
       "      <td>8.226220e+05</td>\n",
       "    </tr>\n",
       "    <tr>\n",
       "      <th>2017-08-08</th>\n",
       "      <td>7.177663e+05</td>\n",
       "      <td>49.07</td>\n",
       "      <td>83422.0</td>\n",
       "      <td>7.591835e+05</td>\n",
       "    </tr>\n",
       "    <tr>\n",
       "      <th>2017-08-09</th>\n",
       "      <td>7.341397e+05</td>\n",
       "      <td>49.59</td>\n",
       "      <td>85452.0</td>\n",
       "      <td>7.905548e+05</td>\n",
       "    </tr>\n",
       "    <tr>\n",
       "      <th>2017-08-10</th>\n",
       "      <td>6.513869e+05</td>\n",
       "      <td>48.54</td>\n",
       "      <td>83064.0</td>\n",
       "      <td>7.088880e+05</td>\n",
       "    </tr>\n",
       "    <tr>\n",
       "      <th>2017-08-11</th>\n",
       "      <td>8.263737e+05</td>\n",
       "      <td>48.81</td>\n",
       "      <td>89551.0</td>\n",
       "      <td>7.894470e+05</td>\n",
       "    </tr>\n",
       "    <tr>\n",
       "      <th>2017-08-12</th>\n",
       "      <td>7.926305e+05</td>\n",
       "      <td>47.59</td>\n",
       "      <td>89927.0</td>\n",
       "      <td>8.726944e+05</td>\n",
       "    </tr>\n",
       "    <tr>\n",
       "      <th>2017-08-13</th>\n",
       "      <td>8.656397e+05</td>\n",
       "      <td>47.59</td>\n",
       "      <td>85993.0</td>\n",
       "      <td>9.394327e+05</td>\n",
       "    </tr>\n",
       "    <tr>\n",
       "      <th>2017-08-14</th>\n",
       "      <td>7.609224e+05</td>\n",
       "      <td>47.59</td>\n",
       "      <td>85448.0</td>\n",
       "      <td>8.050398e+05</td>\n",
       "    </tr>\n",
       "    <tr>\n",
       "      <th>2017-08-15</th>\n",
       "      <td>7.626619e+05</td>\n",
       "      <td>47.57</td>\n",
       "      <td>86561.0</td>\n",
       "      <td>7.800963e+05</td>\n",
       "    </tr>\n",
       "  </tbody>\n",
       "</table>\n",
       "</div>"
      ],
      "text/plain": [
       "                   sales  dcoilwtico  transactions  Predicted Sales\n",
       "date                                                               \n",
       "2017-08-01  9.885278e+05       49.19       92083.0     8.386302e+05\n",
       "2017-08-02  9.647120e+05       49.60       93023.0     8.595816e+05\n",
       "2017-08-03  7.280685e+05       49.03       85521.0     7.383906e+05\n",
       "2017-08-04  8.277757e+05       49.57       91305.0     8.121385e+05\n",
       "2017-08-05  9.656937e+05       49.37      101108.0     9.664161e+05\n",
       "2017-08-06  1.049559e+06       49.37       96162.0     1.023426e+06\n",
       "2017-08-07  7.974650e+05       49.37       87072.0     8.226220e+05\n",
       "2017-08-08  7.177663e+05       49.07       83422.0     7.591835e+05\n",
       "2017-08-09  7.341397e+05       49.59       85452.0     7.905548e+05\n",
       "2017-08-10  6.513869e+05       48.54       83064.0     7.088880e+05\n",
       "2017-08-11  8.263737e+05       48.81       89551.0     7.894470e+05\n",
       "2017-08-12  7.926305e+05       47.59       89927.0     8.726944e+05\n",
       "2017-08-13  8.656397e+05       47.59       85993.0     9.394327e+05\n",
       "2017-08-14  7.609224e+05       47.59       85448.0     8.050398e+05\n",
       "2017-08-15  7.626619e+05       47.57       86561.0     7.800963e+05"
      ]
     },
     "execution_count": 58,
     "metadata": {},
     "output_type": "execute_result"
    }
   ],
   "source": [
    "df_prophet_forecast.rename(columns={'ds': 'date', 'yhat': 'Predicted Sales'}, inplace=True)\n",
    "\n",
    "df_prophet_forecast_new = pd.concat([test_prophet, df_prophet_forecast['Predicted Sales']], axis=1)\n",
    "df_prophet_forecast_new.set_index('date', inplace=True)\n",
    "df_prophet_forecast_new"
   ]
  },
  {
   "cell_type": "code",
   "execution_count": 59,
   "id": "8c9ae45a-2be6-488c-9e3a-c6216a51904b",
   "metadata": {},
   "outputs": [
    {
     "name": "stdout",
     "output_type": "stream",
     "text": [
      "RMSE: 62643.44555259958\n"
     ]
    }
   ],
   "source": [
    "rmse_prophet = np.sqrt(mean_squared_error(df_prophet_forecast_new['sales'], df_prophet_forecast_new['Predicted Sales']))\n",
    "print(f'RMSE: {rmse_prophet}')"
   ]
  },
  {
   "cell_type": "code",
   "execution_count": 60,
   "id": "18d4bb64-da4a-452b-a61d-18290cffaf66",
   "metadata": {},
   "outputs": [
    {
     "data": {
      "text/plain": [
       "np.float64(5.903191139538051)"
      ]
     },
     "execution_count": 60,
     "metadata": {},
     "output_type": "execute_result"
    }
   ],
   "source": [
    "MAPE(df_prophet_forecast_new['sales'], df_prophet_forecast_new['Predicted Sales'])"
   ]
  },
  {
   "cell_type": "code",
   "execution_count": 61,
   "id": "dc7da80e-c144-40e7-bdd0-b67e25d4b86c",
   "metadata": {},
   "outputs": [
    {
     "data": {
      "text/plain": [
       "<Axes: xlabel='date'>"
      ]
     },
     "execution_count": 61,
     "metadata": {},
     "output_type": "execute_result"
    },
    {
     "data": {
      "image/png": "[encoded data removed]",
      "text/plain": [
       "<Figure size 640x480 with 1 Axes>"
      ]
     },
     "metadata": {},
     "output_type": "display_data"
    }
   ],
   "source": [
    "df_prophet_forecast_new['sales'].plot(style = '--', color = 'r', legend = True, label = 'Test')\n",
    "df_prophet_forecast_new['Predicted Sales'].plot(color = 'b', legend = True, label = 'prophet_fc')"
   ]
  },
  {
   "cell_type": "markdown",
   "id": "ef640b13-c4e3-40fc-81fd-7cde74ea9910",
   "metadata": {},
   "source": [
    "#### VECM"
   ]
  },
  {
   "cell_type": "code",
   "execution_count": 62,
   "id": "1727db40-2508-4eb4-9dc2-e66dd36b48c3",
   "metadata": {},
   "outputs": [],
   "source": [
    "training_vecm = training_set.copy()"
   ]
  },
  {
   "cell_type": "code",
   "execution_count": 69,
   "id": "1549bb19-d4ad-483d-9289-535d9e683f0e",
   "metadata": {},
   "outputs": [
    {
     "name": "stdout",
     "output_type": "stream",
     "text": [
      "Det. terms outside the coint. relation & lagged endog. parameters for equation sales\n",
      "===================================================================================\n",
      "                      coef    std err          z      P>|z|      [0.025      0.975]\n",
      "-----------------------------------------------------------------------------------\n",
      "L1.sales            1.9664      0.077     25.604      0.000       1.816       2.117\n",
      "L1.dcoilwtico   -9818.3201   2558.420     -3.838      0.000   -1.48e+04   -4803.909\n",
      "L1.transactions     1.3620      0.428      3.183      0.001       0.523       2.201\n",
      "L2.sales            1.3105      0.059     22.384      0.000       1.196       1.425\n",
      "L2.dcoilwtico   -8448.4988   3169.584     -2.665      0.008   -1.47e+04   -2236.229\n",
      "L2.transactions     1.7860      0.445      4.010      0.000       0.913       2.659\n",
      "L3.sales            0.9277      0.038     24.661      0.000       0.854       1.001\n",
      "L3.dcoilwtico   -4232.6730   3168.517     -1.336      0.182   -1.04e+04    1977.507\n",
      "L3.transactions    -0.2256      0.448     -0.503      0.615      -1.104       0.653\n",
      "L4.sales            0.5099      0.021     23.745      0.000       0.468       0.552\n",
      "L4.dcoilwtico   -7080.1705   2552.636     -2.774      0.006   -1.21e+04   -2077.096\n",
      "L4.transactions     1.4466      0.422      3.428      0.001       0.620       2.274\n",
      "Det. terms outside the coint. relation & lagged endog. parameters for equation dcoilwtico\n",
      "===================================================================================\n",
      "                      coef    std err          z      P>|z|      [0.025      0.975]\n",
      "-----------------------------------------------------------------------------------\n",
      "L1.sales         -8.82e-07   7.18e-07     -1.228      0.220   -2.29e-06    5.26e-07\n",
      "L1.dcoilwtico      -0.8267      0.024    -34.545      0.000      -0.874      -0.780\n",
      "L1.transactions -2.985e-06      4e-06     -0.746      0.456   -1.08e-05    4.86e-06\n",
      "L2.sales        -5.494e-07   5.48e-07     -1.003      0.316   -1.62e-06    5.24e-07\n",
      "L2.dcoilwtico      -0.6076      0.030    -20.495      0.000      -0.666      -0.549\n",
      "L2.transactions  3.392e-07   4.17e-06      0.081      0.935   -7.83e-06     8.5e-06\n",
      "L3.sales        -5.931e-07   3.52e-07     -1.686      0.092   -1.28e-06    9.66e-08\n",
      "L3.dcoilwtico      -0.4212      0.030    -14.212      0.000      -0.479      -0.363\n",
      "L3.transactions  1.006e-06   4.19e-06      0.240      0.810   -7.21e-06    9.22e-06\n",
      "L4.sales        -2.219e-07   2.01e-07     -1.105      0.269   -6.16e-07    1.72e-07\n",
      "L4.dcoilwtico      -0.2248      0.024     -9.416      0.000      -0.272      -0.178\n",
      "L4.transactions -1.882e-06   3.95e-06     -0.477      0.633   -9.62e-06    5.85e-06\n",
      "Det. terms outside the coint. relation & lagged endog. parameters for equation transactions\n",
      "===================================================================================\n",
      "                      coef    std err          z      P>|z|      [0.025      0.975]\n",
      "-----------------------------------------------------------------------------------\n",
      "L1.sales            0.0877      0.006     15.078      0.000       0.076       0.099\n",
      "L1.dcoilwtico    -225.0177    193.749     -1.161      0.245    -604.758     154.723\n",
      "L1.transactions    -0.3958      0.032    -12.215      0.000      -0.459      -0.332\n",
      "L2.sales            0.0614      0.004     13.843      0.000       0.053       0.070\n",
      "L2.dcoilwtico    -259.3864    240.032     -1.081      0.280    -729.840     211.067\n",
      "L2.transactions    -0.2415      0.034     -7.160      0.000      -0.308      -0.175\n",
      "L3.sales            0.0575      0.003     20.185      0.000       0.052       0.063\n",
      "L3.dcoilwtico     -84.4577    239.951     -0.352      0.725    -554.753     385.838\n",
      "L3.transactions    -0.3547      0.034    -10.454      0.000      -0.421      -0.288\n",
      "L4.sales            0.0345      0.002     21.208      0.000       0.031       0.038\n",
      "L4.dcoilwtico    -325.2647    193.311     -1.683      0.092    -704.146      53.617\n",
      "L4.transactions    -0.1217      0.032     -3.809      0.000      -0.184      -0.059\n",
      "               Loading coefficients (alpha) for equation sales                \n",
      "==============================================================================\n",
      "                 coef    std err          z      P>|z|      [0.025      0.975]\n",
      "------------------------------------------------------------------------------\n",
      "ec1           -3.3365      0.092    -36.153      0.000      -3.517      -3.156\n",
      "             Loading coefficients (alpha) for equation dcoilwtico             \n",
      "==============================================================================\n",
      "                 coef    std err          z      P>|z|      [0.025      0.975]\n",
      "------------------------------------------------------------------------------\n",
      "ec1         8.756e-07   8.63e-07      1.014      0.310   -8.16e-07    2.57e-06\n",
      "            Loading coefficients (alpha) for equation transactions            \n",
      "==============================================================================\n",
      "                 coef    std err          z      P>|z|      [0.025      0.975]\n",
      "------------------------------------------------------------------------------\n",
      "ec1           -0.0874      0.007    -12.504      0.000      -0.101      -0.074\n",
      "          Cointegration relations for loading-coefficients-column 1           \n",
      "==============================================================================\n",
      "                 coef    std err          z      P>|z|      [0.025      0.975]\n",
      "------------------------------------------------------------------------------\n",
      "beta.1         1.0000          0          0      0.000       1.000       1.000\n",
      "beta.2     -2052.2227   1813.563     -1.132      0.258   -5606.741    1502.295\n",
      "beta.3        -0.0013      0.010     -0.132      0.895      -0.020       0.017\n",
      "==============================================================================\n"
     ]
    },
    {
     "name": "stderr",
     "output_type": "stream",
     "text": [
      "/Users/wanderlustzenn/Desktop/projects/base_py/lib/python3.9/site-packages/statsmodels/tsa/base/tsa_model.py:473: ValueWarning: A date index has been provided, but it has no associated frequency information and so will be ignored when e.g. forecasting.\n",
      "  self._init_dates(dates, freq)\n"
     ]
    }
   ],
   "source": [
    "k_ar_diff = 5 - 1 # optimal lag length from VAR model - 1\n",
    "vecm_model = VECM(training_vecm, k_ar_diff=k_ar_diff)\n",
    "vecm_model_fitted = vecm_model.fit()\n",
    "print(vecm_model_fitted.summary())"
   ]
  },
  {
   "cell_type": "code",
   "execution_count": 74,
   "id": "3f5d4095-5d43-4182-8578-cee0f3a71960",
   "metadata": {},
   "outputs": [
    {
     "data": {
      "text/html": [
       "<div>\n",
       "<style scoped>\n",
       "    .dataframe tbody tr th:only-of-type {\n",
       "        vertical-align: middle;\n",
       "    }\n",
       "\n",
       "    .dataframe tbody tr th {\n",
       "        vertical-align: top;\n",
       "    }\n",
       "\n",
       "    .dataframe thead th {\n",
       "        text-align: right;\n",
       "    }\n",
       "</style>\n",
       "<table border=\"1\" class=\"dataframe\">\n",
       "  <thead>\n",
       "    <tr style=\"text-align: right;\">\n",
       "      <th></th>\n",
       "      <th>sales</th>\n",
       "      <th>dcoilwtico</th>\n",
       "      <th>transactions</th>\n",
       "    </tr>\n",
       "  </thead>\n",
       "  <tbody>\n",
       "    <tr>\n",
       "      <th>0</th>\n",
       "      <td>-81040.799082</td>\n",
       "      <td>0.407367</td>\n",
       "      <td>82791.529314</td>\n",
       "    </tr>\n",
       "    <tr>\n",
       "      <th>1</th>\n",
       "      <td>-20252.442471</td>\n",
       "      <td>0.335174</td>\n",
       "      <td>82547.355697</td>\n",
       "    </tr>\n",
       "    <tr>\n",
       "      <th>2</th>\n",
       "      <td>-628.036168</td>\n",
       "      <td>0.320511</td>\n",
       "      <td>81211.582666</td>\n",
       "    </tr>\n",
       "    <tr>\n",
       "      <th>3</th>\n",
       "      <td>88795.598277</td>\n",
       "      <td>0.142985</td>\n",
       "      <td>87845.867926</td>\n",
       "    </tr>\n",
       "    <tr>\n",
       "      <th>4</th>\n",
       "      <td>129402.536514</td>\n",
       "      <td>0.144774</td>\n",
       "      <td>96478.833623</td>\n",
       "    </tr>\n",
       "    <tr>\n",
       "      <th>5</th>\n",
       "      <td>-29108.365555</td>\n",
       "      <td>0.252029</td>\n",
       "      <td>93035.433624</td>\n",
       "    </tr>\n",
       "    <tr>\n",
       "      <th>6</th>\n",
       "      <td>-88300.083544</td>\n",
       "      <td>0.296814</td>\n",
       "      <td>87129.071152</td>\n",
       "    </tr>\n",
       "    <tr>\n",
       "      <th>7</th>\n",
       "      <td>-38785.464203</td>\n",
       "      <td>0.263871</td>\n",
       "      <td>84728.252805</td>\n",
       "    </tr>\n",
       "    <tr>\n",
       "      <th>8</th>\n",
       "      <td>-14834.286061</td>\n",
       "      <td>0.243078</td>\n",
       "      <td>83702.583508</td>\n",
       "    </tr>\n",
       "    <tr>\n",
       "      <th>9</th>\n",
       "      <td>3129.723145</td>\n",
       "      <td>0.248520</td>\n",
       "      <td>84794.782456</td>\n",
       "    </tr>\n",
       "    <tr>\n",
       "      <th>10</th>\n",
       "      <td>68805.510803</td>\n",
       "      <td>0.222521</td>\n",
       "      <td>89804.264918</td>\n",
       "    </tr>\n",
       "    <tr>\n",
       "      <th>11</th>\n",
       "      <td>47346.691088</td>\n",
       "      <td>0.212535</td>\n",
       "      <td>92213.796474</td>\n",
       "    </tr>\n",
       "    <tr>\n",
       "      <th>12</th>\n",
       "      <td>-25095.061838</td>\n",
       "      <td>0.244356</td>\n",
       "      <td>89721.793305</td>\n",
       "    </tr>\n",
       "    <tr>\n",
       "      <th>13</th>\n",
       "      <td>-38598.179708</td>\n",
       "      <td>0.255325</td>\n",
       "      <td>87185.884108</td>\n",
       "    </tr>\n",
       "    <tr>\n",
       "      <th>14</th>\n",
       "      <td>-16958.571039</td>\n",
       "      <td>0.252206</td>\n",
       "      <td>86155.180500</td>\n",
       "    </tr>\n",
       "  </tbody>\n",
       "</table>\n",
       "</div>"
      ],
      "text/plain": [
       "            sales  dcoilwtico  transactions\n",
       "0   -81040.799082    0.407367  82791.529314\n",
       "1   -20252.442471    0.335174  82547.355697\n",
       "2     -628.036168    0.320511  81211.582666\n",
       "3    88795.598277    0.142985  87845.867926\n",
       "4   129402.536514    0.144774  96478.833623\n",
       "5   -29108.365555    0.252029  93035.433624\n",
       "6   -88300.083544    0.296814  87129.071152\n",
       "7   -38785.464203    0.263871  84728.252805\n",
       "8   -14834.286061    0.243078  83702.583508\n",
       "9     3129.723145    0.248520  84794.782456\n",
       "10   68805.510803    0.222521  89804.264918\n",
       "11   47346.691088    0.212535  92213.796474\n",
       "12  -25095.061838    0.244356  89721.793305\n",
       "13  -38598.179708    0.255325  87185.884108\n",
       "14  -16958.571039    0.252206  86155.180500"
      ]
     },
     "execution_count": 74,
     "metadata": {},
     "output_type": "execute_result"
    }
   ],
   "source": [
    "forecast = vecm_model_fitted.predict(steps=15)\n",
    "df_vecm_forecast = pd.DataFrame(forecast, columns=['sales','dcoilwtico', 'transactions'])\n",
    "df_vecm_forecast"
   ]
  },
  {
   "cell_type": "code",
   "execution_count": 75,
   "id": "e3644871-eaa6-4a9e-acff-c363f169fff3",
   "metadata": {},
   "outputs": [],
   "source": [
    "sales_original = df_new[-16:-1]['sales'].values\n",
    "dcoilwtico_original = df_new[-16:-1]['dcoilwtico'].values\n",
    "\n",
    "sales_new = []\n",
    "for original, change in zip(sales_original, df_vecm_forecast['sales'].values):\n",
    "    new_value = original + change\n",
    "    sales_new.append(new_value)\n",
    "\n",
    "dcoilwtico_new = []\n",
    "for original, change in zip(dcoilwtico_original, df_vecm_forecast['dcoilwtico'].values):\n",
    "    new_value = original + change\n",
    "    dcoilwtico_new.append(new_value)\n",
    "\n",
    "df_sales_new = pd.DataFrame(sales_new, columns=['Predicted Sales'])\n",
    "df_dcoilwtico_new = pd.DataFrame(dcoilwtico_new, columns=['Predicted dcoilwtico'])"
   ]
  },
  {
   "cell_type": "code",
   "execution_count": 76,
   "id": "fa013f01-fe72-4d11-80e6-bbff474a09fb",
   "metadata": {},
   "outputs": [
    {
     "data": {
      "text/html": [
       "<div>\n",
       "<style scoped>\n",
       "    .dataframe tbody tr th:only-of-type {\n",
       "        vertical-align: middle;\n",
       "    }\n",
       "\n",
       "    .dataframe tbody tr th {\n",
       "        vertical-align: top;\n",
       "    }\n",
       "\n",
       "    .dataframe thead th {\n",
       "        text-align: right;\n",
       "    }\n",
       "</style>\n",
       "<table border=\"1\" class=\"dataframe\">\n",
       "  <thead>\n",
       "    <tr style=\"text-align: right;\">\n",
       "      <th></th>\n",
       "      <th>Predicted Sales</th>\n",
       "      <th>Predicted dcoilwtico</th>\n",
       "      <th>Predicted Transactions</th>\n",
       "    </tr>\n",
       "    <tr>\n",
       "      <th>date</th>\n",
       "      <th></th>\n",
       "      <th></th>\n",
       "      <th></th>\n",
       "    </tr>\n",
       "  </thead>\n",
       "  <tbody>\n",
       "    <tr>\n",
       "      <th>2017-08-01</th>\n",
       "      <td>804816.041788</td>\n",
       "      <td>50.617367</td>\n",
       "      <td>81719.794902</td>\n",
       "    </tr>\n",
       "    <tr>\n",
       "      <th>2017-08-02</th>\n",
       "      <td>968275.320733</td>\n",
       "      <td>49.525174</td>\n",
       "      <td>80990.883979</td>\n",
       "    </tr>\n",
       "    <tr>\n",
       "      <th>2017-08-03</th>\n",
       "      <td>964083.979883</td>\n",
       "      <td>49.920511</td>\n",
       "      <td>79465.623917</td>\n",
       "    </tr>\n",
       "    <tr>\n",
       "      <th>2017-08-04</th>\n",
       "      <td>816864.083409</td>\n",
       "      <td>49.172985</td>\n",
       "      <td>86195.834781</td>\n",
       "    </tr>\n",
       "    <tr>\n",
       "      <th>2017-08-05</th>\n",
       "      <td>957178.222642</td>\n",
       "      <td>49.714774</td>\n",
       "      <td>94518.821158</td>\n",
       "    </tr>\n",
       "    <tr>\n",
       "      <th>2017-08-06</th>\n",
       "      <td>936585.284937</td>\n",
       "      <td>49.622029</td>\n",
       "      <td>91188.906853</td>\n",
       "    </tr>\n",
       "    <tr>\n",
       "      <th>2017-08-07</th>\n",
       "      <td>961259.080733</td>\n",
       "      <td>49.666814</td>\n",
       "      <td>85118.187698</td>\n",
       "    </tr>\n",
       "    <tr>\n",
       "      <th>2017-08-08</th>\n",
       "      <td>758679.499614</td>\n",
       "      <td>49.633871</td>\n",
       "      <td>82484.129004</td>\n",
       "    </tr>\n",
       "    <tr>\n",
       "      <th>2017-08-09</th>\n",
       "      <td>702932.063045</td>\n",
       "      <td>49.313078</td>\n",
       "      <td>81194.563307</td>\n",
       "    </tr>\n",
       "    <tr>\n",
       "      <th>2017-08-10</th>\n",
       "      <td>737269.397155</td>\n",
       "      <td>49.838520</td>\n",
       "      <td>82070.427551</td>\n",
       "    </tr>\n",
       "    <tr>\n",
       "      <th>2017-08-11</th>\n",
       "      <td>720192.422772</td>\n",
       "      <td>48.762521</td>\n",
       "      <td>86873.366947</td>\n",
       "    </tr>\n",
       "    <tr>\n",
       "      <th>2017-08-12</th>\n",
       "      <td>873720.413110</td>\n",
       "      <td>49.022535</td>\n",
       "      <td>89331.506035</td>\n",
       "    </tr>\n",
       "    <tr>\n",
       "      <th>2017-08-13</th>\n",
       "      <td>767535.473241</td>\n",
       "      <td>47.834356</td>\n",
       "      <td>86998.866169</td>\n",
       "    </tr>\n",
       "    <tr>\n",
       "      <th>2017-08-14</th>\n",
       "      <td>827041.497763</td>\n",
       "      <td>47.845325</td>\n",
       "      <td>84462.996607</td>\n",
       "    </tr>\n",
       "    <tr>\n",
       "      <th>2017-08-15</th>\n",
       "      <td>743963.835042</td>\n",
       "      <td>47.842206</td>\n",
       "      <td>83245.740256</td>\n",
       "    </tr>\n",
       "  </tbody>\n",
       "</table>\n",
       "</div>"
      ],
      "text/plain": [
       "            Predicted Sales  Predicted dcoilwtico  Predicted Transactions\n",
       "date                                                                     \n",
       "2017-08-01    804816.041788             50.617367            81719.794902\n",
       "2017-08-02    968275.320733             49.525174            80990.883979\n",
       "2017-08-03    964083.979883             49.920511            79465.623917\n",
       "2017-08-04    816864.083409             49.172985            86195.834781\n",
       "2017-08-05    957178.222642             49.714774            94518.821158\n",
       "2017-08-06    936585.284937             49.622029            91188.906853\n",
       "2017-08-07    961259.080733             49.666814            85118.187698\n",
       "2017-08-08    758679.499614             49.633871            82484.129004\n",
       "2017-08-09    702932.063045             49.313078            81194.563307\n",
       "2017-08-10    737269.397155             49.838520            82070.427551\n",
       "2017-08-11    720192.422772             48.762521            86873.366947\n",
       "2017-08-12    873720.413110             49.022535            89331.506035\n",
       "2017-08-13    767535.473241             47.834356            86998.866169\n",
       "2017-08-14    827041.497763             47.845325            84462.996607\n",
       "2017-08-15    743963.835042             47.842206            83245.740256"
      ]
     },
     "execution_count": 76,
     "metadata": {},
     "output_type": "execute_result"
    }
   ],
   "source": [
    "df_test_dates = pd.DataFrame(og_test_set.index)\n",
    "df_vecm_forecast['Predicted Transactions'] = df_var_forecast['transactions']\n",
    "df_vecm_forecast_new = pd.concat([df_test_dates, df_sales_new, df_dcoilwtico_new, df_vecm_forecast['Predicted Transactions']], axis=1)\n",
    "df_vecm_forecast_new.set_index('date', inplace=True)\n",
    "df_vecm_forecast_new"
   ]
  },
  {
   "cell_type": "code",
   "execution_count": 77,
   "id": "486995c0-65ad-47d6-8bcb-2797004de6c6",
   "metadata": {},
   "outputs": [
    {
     "data": {
      "text/html": [
       "<div>\n",
       "<style scoped>\n",
       "    .dataframe tbody tr th:only-of-type {\n",
       "        vertical-align: middle;\n",
       "    }\n",
       "\n",
       "    .dataframe tbody tr th {\n",
       "        vertical-align: top;\n",
       "    }\n",
       "\n",
       "    .dataframe thead th {\n",
       "        text-align: right;\n",
       "    }\n",
       "</style>\n",
       "<table border=\"1\" class=\"dataframe\">\n",
       "  <thead>\n",
       "    <tr style=\"text-align: right;\">\n",
       "      <th></th>\n",
       "      <th>sales</th>\n",
       "      <th>dcoilwtico</th>\n",
       "      <th>transactions</th>\n",
       "      <th>Predicted Sales</th>\n",
       "      <th>Predicted dcoilwtico</th>\n",
       "      <th>Predicted Transactions</th>\n",
       "    </tr>\n",
       "    <tr>\n",
       "      <th>date</th>\n",
       "      <th></th>\n",
       "      <th></th>\n",
       "      <th></th>\n",
       "      <th></th>\n",
       "      <th></th>\n",
       "      <th></th>\n",
       "    </tr>\n",
       "  </thead>\n",
       "  <tbody>\n",
       "    <tr>\n",
       "      <th>2017-08-01</th>\n",
       "      <td>9.885278e+05</td>\n",
       "      <td>49.19</td>\n",
       "      <td>92083.0</td>\n",
       "      <td>804816.041788</td>\n",
       "      <td>50.617367</td>\n",
       "      <td>81719.794902</td>\n",
       "    </tr>\n",
       "    <tr>\n",
       "      <th>2017-08-02</th>\n",
       "      <td>9.647120e+05</td>\n",
       "      <td>49.60</td>\n",
       "      <td>93023.0</td>\n",
       "      <td>968275.320733</td>\n",
       "      <td>49.525174</td>\n",
       "      <td>80990.883979</td>\n",
       "    </tr>\n",
       "    <tr>\n",
       "      <th>2017-08-03</th>\n",
       "      <td>7.280685e+05</td>\n",
       "      <td>49.03</td>\n",
       "      <td>85521.0</td>\n",
       "      <td>964083.979883</td>\n",
       "      <td>49.920511</td>\n",
       "      <td>79465.623917</td>\n",
       "    </tr>\n",
       "    <tr>\n",
       "      <th>2017-08-04</th>\n",
       "      <td>8.277757e+05</td>\n",
       "      <td>49.57</td>\n",
       "      <td>91305.0</td>\n",
       "      <td>816864.083409</td>\n",
       "      <td>49.172985</td>\n",
       "      <td>86195.834781</td>\n",
       "    </tr>\n",
       "    <tr>\n",
       "      <th>2017-08-05</th>\n",
       "      <td>9.656937e+05</td>\n",
       "      <td>49.37</td>\n",
       "      <td>101108.0</td>\n",
       "      <td>957178.222642</td>\n",
       "      <td>49.714774</td>\n",
       "      <td>94518.821158</td>\n",
       "    </tr>\n",
       "    <tr>\n",
       "      <th>2017-08-06</th>\n",
       "      <td>1.049559e+06</td>\n",
       "      <td>49.37</td>\n",
       "      <td>96162.0</td>\n",
       "      <td>936585.284937</td>\n",
       "      <td>49.622029</td>\n",
       "      <td>91188.906853</td>\n",
       "    </tr>\n",
       "    <tr>\n",
       "      <th>2017-08-07</th>\n",
       "      <td>7.974650e+05</td>\n",
       "      <td>49.37</td>\n",
       "      <td>87072.0</td>\n",
       "      <td>961259.080733</td>\n",
       "      <td>49.666814</td>\n",
       "      <td>85118.187698</td>\n",
       "    </tr>\n",
       "    <tr>\n",
       "      <th>2017-08-08</th>\n",
       "      <td>7.177663e+05</td>\n",
       "      <td>49.07</td>\n",
       "      <td>83422.0</td>\n",
       "      <td>758679.499614</td>\n",
       "      <td>49.633871</td>\n",
       "      <td>82484.129004</td>\n",
       "    </tr>\n",
       "    <tr>\n",
       "      <th>2017-08-09</th>\n",
       "      <td>7.341397e+05</td>\n",
       "      <td>49.59</td>\n",
       "      <td>85452.0</td>\n",
       "      <td>702932.063045</td>\n",
       "      <td>49.313078</td>\n",
       "      <td>81194.563307</td>\n",
       "    </tr>\n",
       "    <tr>\n",
       "      <th>2017-08-10</th>\n",
       "      <td>6.513869e+05</td>\n",
       "      <td>48.54</td>\n",
       "      <td>83064.0</td>\n",
       "      <td>737269.397155</td>\n",
       "      <td>49.838520</td>\n",
       "      <td>82070.427551</td>\n",
       "    </tr>\n",
       "    <tr>\n",
       "      <th>2017-08-11</th>\n",
       "      <td>8.263737e+05</td>\n",
       "      <td>48.81</td>\n",
       "      <td>89551.0</td>\n",
       "      <td>720192.422772</td>\n",
       "      <td>48.762521</td>\n",
       "      <td>86873.366947</td>\n",
       "    </tr>\n",
       "    <tr>\n",
       "      <th>2017-08-12</th>\n",
       "      <td>7.926305e+05</td>\n",
       "      <td>47.59</td>\n",
       "      <td>89927.0</td>\n",
       "      <td>873720.413110</td>\n",
       "      <td>49.022535</td>\n",
       "      <td>89331.506035</td>\n",
       "    </tr>\n",
       "    <tr>\n",
       "      <th>2017-08-13</th>\n",
       "      <td>8.656397e+05</td>\n",
       "      <td>47.59</td>\n",
       "      <td>85993.0</td>\n",
       "      <td>767535.473241</td>\n",
       "      <td>47.834356</td>\n",
       "      <td>86998.866169</td>\n",
       "    </tr>\n",
       "    <tr>\n",
       "      <th>2017-08-14</th>\n",
       "      <td>7.609224e+05</td>\n",
       "      <td>47.59</td>\n",
       "      <td>85448.0</td>\n",
       "      <td>827041.497763</td>\n",
       "      <td>47.845325</td>\n",
       "      <td>84462.996607</td>\n",
       "    </tr>\n",
       "    <tr>\n",
       "      <th>2017-08-15</th>\n",
       "      <td>7.626619e+05</td>\n",
       "      <td>47.57</td>\n",
       "      <td>86561.0</td>\n",
       "      <td>743963.835042</td>\n",
       "      <td>47.842206</td>\n",
       "      <td>83245.740256</td>\n",
       "    </tr>\n",
       "  </tbody>\n",
       "</table>\n",
       "</div>"
      ],
      "text/plain": [
       "                   sales  dcoilwtico  transactions  Predicted Sales  \\\n",
       "date                                                                  \n",
       "2017-08-01  9.885278e+05       49.19       92083.0    804816.041788   \n",
       "2017-08-02  9.647120e+05       49.60       93023.0    968275.320733   \n",
       "2017-08-03  7.280685e+05       49.03       85521.0    964083.979883   \n",
       "2017-08-04  8.277757e+05       49.57       91305.0    816864.083409   \n",
       "2017-08-05  9.656937e+05       49.37      101108.0    957178.222642   \n",
       "2017-08-06  1.049559e+06       49.37       96162.0    936585.284937   \n",
       "2017-08-07  7.974650e+05       49.37       87072.0    961259.080733   \n",
       "2017-08-08  7.177663e+05       49.07       83422.0    758679.499614   \n",
       "2017-08-09  7.341397e+05       49.59       85452.0    702932.063045   \n",
       "2017-08-10  6.513869e+05       48.54       83064.0    737269.397155   \n",
       "2017-08-11  8.263737e+05       48.81       89551.0    720192.422772   \n",
       "2017-08-12  7.926305e+05       47.59       89927.0    873720.413110   \n",
       "2017-08-13  8.656397e+05       47.59       85993.0    767535.473241   \n",
       "2017-08-14  7.609224e+05       47.59       85448.0    827041.497763   \n",
       "2017-08-15  7.626619e+05       47.57       86561.0    743963.835042   \n",
       "\n",
       "            Predicted dcoilwtico  Predicted Transactions  \n",
       "date                                                      \n",
       "2017-08-01             50.617367            81719.794902  \n",
       "2017-08-02             49.525174            80990.883979  \n",
       "2017-08-03             49.920511            79465.623917  \n",
       "2017-08-04             49.172985            86195.834781  \n",
       "2017-08-05             49.714774            94518.821158  \n",
       "2017-08-06             49.622029            91188.906853  \n",
       "2017-08-07             49.666814            85118.187698  \n",
       "2017-08-08             49.633871            82484.129004  \n",
       "2017-08-09             49.313078            81194.563307  \n",
       "2017-08-10             49.838520            82070.427551  \n",
       "2017-08-11             48.762521            86873.366947  \n",
       "2017-08-12             49.022535            89331.506035  \n",
       "2017-08-13             47.834356            86998.866169  \n",
       "2017-08-14             47.845325            84462.996607  \n",
       "2017-08-15             47.842206            83245.740256  "
      ]
     },
     "execution_count": 77,
     "metadata": {},
     "output_type": "execute_result"
    }
   ],
   "source": [
    "test_vecm = og_test_set.copy()\n",
    "df_vecm_forecast_final = pd.concat([test_vecm, df_vecm_forecast_new], axis=1)\n",
    "df_vecm_forecast_final"
   ]
  },
  {
   "cell_type": "code",
   "execution_count": 78,
   "id": "16562ef4-5537-4c76-8846-39e63bf16ac6",
   "metadata": {},
   "outputs": [
    {
     "name": "stdout",
     "output_type": "stream",
     "text": [
      "RMSE: 106916.98341243058\n"
     ]
    }
   ],
   "source": [
    "rmse_vecm = np.sqrt(mean_squared_error(df_vecm_forecast_final['sales'], df_vecm_forecast_final['Predicted Sales']))\n",
    "print(f'RMSE: {rmse_vecm}')"
   ]
  },
  {
   "cell_type": "code",
   "execution_count": 79,
   "id": "92cb5a7f-3706-467e-99af-475a6959e8e7",
   "metadata": {},
   "outputs": [
    {
     "data": {
      "text/plain": [
       "np.float64(10.237527250229624)"
      ]
     },
     "execution_count": 79,
     "metadata": {},
     "output_type": "execute_result"
    }
   ],
   "source": [
    "MAPE(df_vecm_forecast_final['sales'], df_vecm_forecast_final['Predicted Sales'])"
   ]
  },
  {
   "cell_type": "code",
   "execution_count": 80,
   "id": "5c0b5408-edc2-4b0f-b6d0-a0fc7bd664e0",
   "metadata": {},
   "outputs": [
    {
     "data": {
      "text/plain": [
       "<Axes: xlabel='date'>"
      ]
     },
     "execution_count": 80,
     "metadata": {},
     "output_type": "execute_result"
    },
    {
     "data": {
      "image/png": "[encoded data removed]",
      "text/plain": [
       "<Figure size 640x480 with 1 Axes>"
      ]
     },
     "metadata": {},
     "output_type": "display_data"
    }
   ],
   "source": [
    "df_vecm_forecast_final['sales'].plot(style = '--', color = 'r', legend = True, label = 'Test')\n",
    "df_vecm_forecast_final['Predicted Sales'].plot(color = 'b', legend = True, label = 'vecm_fc')"
   ]
  },
  {
   "cell_type": "markdown",
   "id": "3b85b86c-bd20-4a40-84ab-6b1a8f437676",
   "metadata": {},
   "source": [
    "### 4) Conclusion"
   ]
  },
  {
   "cell_type": "markdown",
   "id": "b08bb3cd-6ade-49f9-9858-bfe0c913e79c",
   "metadata": {},
   "source": [
    "Prophet model had the best performance in predicting Sales, with RMSE of 62643 and MAPE of 5.90%."
   ]
  }
 ],
 "metadata": {
  "kernelspec": {
   "display_name": "Python 3 (ipykernel)",
   "language": "python",
   "name": "python3"
  },
  "language_info": {
   "codemirror_mode": {
    "name": "ipython",
    "version": 3
   },
   "file_extension": ".py",
   "mimetype": "text/x-python",
   "name": "python",
   "nbconvert_exporter": "python",
   "pygments_lexer": "ipython3",
   "version": "3.9.6"
  }
 },
 "nbformat": 4,
 "nbformat_minor": 5
}
